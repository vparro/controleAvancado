{
  "nbformat": 4,
  "nbformat_minor": 0,
  "metadata": {
    "colab": {
      "name": "Encontro_3.ipynb",
      "provenance": [],
      "authorship_tag": "ABX9TyNJMGDUDkRS3b/7k88B6GXC",
      "include_colab_link": true
    },
    "kernelspec": {
      "name": "python3",
      "display_name": "Python 3"
    }
  },
  "cells": [
    {
      "cell_type": "markdown",
      "metadata": {
        "id": "view-in-github",
        "colab_type": "text"
      },
      "source": [
        "<a href=\"https://colab.research.google.com/github/vparro/controleAvancado/blob/master/Encontro_3.ipynb\" target=\"_parent\"><img src=\"https://colab.research.google.com/assets/colab-badge.svg\" alt=\"Open In Colab\"/></a>"
      ]
    },
    {
      "cell_type": "markdown",
      "metadata": {
        "id": "66sSQUpL0i1H"
      },
      "source": [
        "$ \\textbf{Defini\\c{c}\\~{a}o:} $\n",
        "\n",
        "Um sistema LIT \\'{e} control\\'{a}vel se existe um vetor de entrada \n",
        "$ \\textbf{u}(t)$ para 0 $\\le t \\le T$, com $T >$ 0 e finito, tal que o sistema \n",
        "vai da condi\\c{c}\\~{a}o inicial $\\textbf{x}(0)$ = para qualquer estado \n",
        "$\\textbf{x}$ no intervalo de tempo $T$. "
      ]
    }
  ]
}