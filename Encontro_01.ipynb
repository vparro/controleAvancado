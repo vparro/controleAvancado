{
  "nbformat": 4,
  "nbformat_minor": 0,
  "metadata": {
    "anaconda-cloud": {},
    "kernelspec": {
      "display_name": "Python (pynamical)",
      "language": "python",
      "name": "pynamical"
    },
    "language_info": {
      "codemirror_mode": {
        "name": "ipython",
        "version": 3
      },
      "file_extension": ".py",
      "mimetype": "text/x-python",
      "name": "python",
      "nbconvert_exporter": "python",
      "pygments_lexer": "ipython3",
      "version": "3.8.6"
    },
    "colab": {
      "name": "pynamical-quick-overview.ipynb",
      "provenance": [],
      "include_colab_link": true
    }
  },
  "cells": [
    {
      "cell_type": "markdown",
      "metadata": {
        "id": "view-in-github",
        "colab_type": "text"
      },
      "source": [
        "<a href=\"https://colab.research.google.com/github/vparro/controleAvancado/blob/master/Encontro_01.ipynb\" target=\"_parent\"><img src=\"https://colab.research.google.com/assets/colab-badge.svg\" alt=\"Open In Colab\"/></a>"
      ]
    },
    {
      "cell_type": "markdown",
      "metadata": {
        "id": "_2YpLXlguTZY"
      },
      "source": [
        "# Pynamical: quick overview\n",
        "\n",
        "**Citation info**: Boeing, G. 2016. \"[Visual Analysis of Nonlinear Dynamical Systems: Chaos, Fractals, Self-Similarity and the Limits of Prediction](http://geoffboeing.com/publications/nonlinear-chaos-fractals-prediction/).\" *Systems*, 4 (4), 37. doi:10.3390/systems4040037.\n",
        "\n",
        "Pynamical documentation: http://pynamical.readthedocs.org\n",
        "\n",
        "This notebook provides a quick overview of using pynamical."
      ]
    },
    {
      "cell_type": "code",
      "metadata": {
        "id": "oq8tPnz8ucfk"
      },
      "source": [
        "import glob\n",
        "import IPython.display as IPdisplay\n",
        "import matplotlib.pyplot as plt\n",
        "import numpy as np\n",
        "import os\n",
        "import pandas as pd\n",
        "import random \n",
        "from PIL import Image\n",
        "%matplotlib inline"
      ],
      "execution_count": 10,
      "outputs": []
    },
    {
      "cell_type": "code",
      "metadata": {
        "colab": {
          "base_uri": "https://localhost:8080/"
        },
        "id": "ENBYZHt3vcPL",
        "outputId": "caf3b237-fcfd-4c01-f90e-8e883c8c4ba7"
      },
      "source": [
        "!pip install pynamical"
      ],
      "execution_count": 11,
      "outputs": [
        {
          "output_type": "stream",
          "text": [
            "Collecting pynamical\n",
            "  Using cached https://files.pythonhosted.org/packages/b0/f9/6bf4e7a920bbbadff6ec7777786e09946034e0c130a9a828945dc976024b/pynamical-0.3.1-py2.py3-none-any.whl\n",
            "Requirement already satisfied: numpy>=1.19 in /usr/local/lib/python3.6/dist-packages (from pynamical) (1.19.5)\n",
            "\u001b[31mERROR: Could not find a version that satisfies the requirement pandas>=1.2 (from pynamical) (from versions: 0.1, 0.2b0, 0.2b1, 0.2, 0.3.0b0, 0.3.0b2, 0.3.0, 0.4.0, 0.4.1, 0.4.2, 0.4.3, 0.5.0, 0.6.0, 0.6.1, 0.7.0rc1, 0.7.0, 0.7.1, 0.7.2, 0.7.3, 0.8.0rc1, 0.8.0rc2, 0.8.0, 0.8.1, 0.9.0, 0.9.1, 0.10.0, 0.10.1, 0.11.0, 0.12.0, 0.13.0, 0.13.1, 0.14.0, 0.14.1, 0.15.0, 0.15.1, 0.15.2, 0.16.0, 0.16.1, 0.16.2, 0.17.0, 0.17.1, 0.18.0, 0.18.1, 0.19.0rc1, 0.19.0, 0.19.1, 0.19.2, 0.20.0rc1, 0.20.0, 0.20.1, 0.20.2, 0.20.3, 0.21.0rc1, 0.21.0, 0.21.1, 0.22.0, 0.23.0rc2, 0.23.0, 0.23.1, 0.23.2, 0.23.3, 0.23.4, 0.24.0rc1, 0.24.0, 0.24.1, 0.24.2, 0.25.0rc0, 0.25.0, 0.25.1, 0.25.2, 0.25.3, 1.0.0rc0, 1.0.0, 1.0.1, 1.0.2, 1.0.3, 1.0.4, 1.0.5, 1.1.0rc0, 1.1.0, 1.1.1, 1.1.2, 1.1.3, 1.1.4, 1.1.5)\u001b[0m\n",
            "\u001b[31mERROR: No matching distribution found for pandas>=1.2 (from pynamical)\u001b[0m\n"
          ],
          "name": "stdout"
        }
      ]
    },
    {
      "cell_type": "code",
      "metadata": {
        "colab": {
          "base_uri": "https://localhost:8080/",
          "height": 300
        },
        "id": "l64MXZdpuTZd",
        "outputId": "c258524d-13cf-4639-b6c8-a1203dc564a8"
      },
      "source": [
        "from pynamical import logistic_map, simulate, bifurcation_plot"
      ],
      "execution_count": 7,
      "outputs": [
        {
          "output_type": "error",
          "ename": "ModuleNotFoundError",
          "evalue": "ignored",
          "traceback": [
            "\u001b[0;31m---------------------------------------------------------------------------\u001b[0m",
            "\u001b[0;31mModuleNotFoundError\u001b[0m                       Traceback (most recent call last)",
            "\u001b[0;32m<ipython-input-7-ddcb3d56ca3c>\u001b[0m in \u001b[0;36m<module>\u001b[0;34m()\u001b[0m\n\u001b[0;32m----> 1\u001b[0;31m \u001b[0;32mfrom\u001b[0m \u001b[0mpynamical\u001b[0m \u001b[0;32mimport\u001b[0m \u001b[0mlogistic_map\u001b[0m\u001b[0;34m,\u001b[0m \u001b[0msimulate\u001b[0m\u001b[0;34m,\u001b[0m \u001b[0mbifurcation_plot\u001b[0m\u001b[0;34m\u001b[0m\u001b[0;34m\u001b[0m\u001b[0m\n\u001b[0m",
            "\u001b[0;31mModuleNotFoundError\u001b[0m: No module named 'pynamical'",
            "",
            "\u001b[0;31m---------------------------------------------------------------------------\u001b[0;32m\nNOTE: If your import is failing due to a missing package, you can\nmanually install dependencies using either !pip or !apt.\n\nTo view examples of installing some common dependencies, click the\n\"Open Examples\" button below.\n\u001b[0;31m---------------------------------------------------------------------------\u001b[0m\n"
          ]
        }
      ]
    },
    {
      "cell_type": "markdown",
      "metadata": {
        "id": "qpaKZaxeuTZe"
      },
      "source": [
        "Simulate a model and visualize its bifurcation diagram:"
      ]
    },
    {
      "cell_type": "code",
      "metadata": {
        "colab": {
          "base_uri": "https://localhost:8080/",
          "height": 181
        },
        "id": "0U8EyM0HuTZe",
        "outputId": "d80d201f-48bd-465e-d8c8-c62fb13a9bda"
      },
      "source": [
        "pops = simulate(model=logistic_map, num_gens=100, rate_min=0, rate_max=4, num_rates=1000, num_discard=100)\n",
        "bifurcation_plot(pops)"
      ],
      "execution_count": 2,
      "outputs": [
        {
          "output_type": "error",
          "ename": "NameError",
          "evalue": "ignored",
          "traceback": [
            "\u001b[0;31m---------------------------------------------------------------------------\u001b[0m",
            "\u001b[0;31mNameError\u001b[0m                                 Traceback (most recent call last)",
            "\u001b[0;32m<ipython-input-2-d2daed1720c4>\u001b[0m in \u001b[0;36m<module>\u001b[0;34m()\u001b[0m\n\u001b[0;32m----> 1\u001b[0;31m \u001b[0mpops\u001b[0m \u001b[0;34m=\u001b[0m \u001b[0msimulate\u001b[0m\u001b[0;34m(\u001b[0m\u001b[0mmodel\u001b[0m\u001b[0;34m=\u001b[0m\u001b[0mlogistic_map\u001b[0m\u001b[0;34m,\u001b[0m \u001b[0mnum_gens\u001b[0m\u001b[0;34m=\u001b[0m\u001b[0;36m100\u001b[0m\u001b[0;34m,\u001b[0m \u001b[0mrate_min\u001b[0m\u001b[0;34m=\u001b[0m\u001b[0;36m0\u001b[0m\u001b[0;34m,\u001b[0m \u001b[0mrate_max\u001b[0m\u001b[0;34m=\u001b[0m\u001b[0;36m4\u001b[0m\u001b[0;34m,\u001b[0m \u001b[0mnum_rates\u001b[0m\u001b[0;34m=\u001b[0m\u001b[0;36m1000\u001b[0m\u001b[0;34m,\u001b[0m \u001b[0mnum_discard\u001b[0m\u001b[0;34m=\u001b[0m\u001b[0;36m100\u001b[0m\u001b[0;34m)\u001b[0m\u001b[0;34m\u001b[0m\u001b[0;34m\u001b[0m\u001b[0m\n\u001b[0m\u001b[1;32m      2\u001b[0m \u001b[0mbifurcation_plot\u001b[0m\u001b[0;34m(\u001b[0m\u001b[0mpops\u001b[0m\u001b[0;34m)\u001b[0m\u001b[0;34m\u001b[0m\u001b[0;34m\u001b[0m\u001b[0m\n",
            "\u001b[0;31mNameError\u001b[0m: name 'simulate' is not defined"
          ]
        }
      ]
    },
    {
      "cell_type": "markdown",
      "metadata": {
        "id": "DW98LpssuTZe"
      },
      "source": [
        "Zoom into a slice of this bifurcation diagram to see its [fractal structure](pynamical-demo-logistic-model.ipynb):"
      ]
    },
    {
      "cell_type": "code",
      "metadata": {
        "id": "AYfHVu1NuTZf"
      },
      "source": [
        "pops = simulate(model=logistic_map, num_gens=100, rate_min=3.7, rate_max=3.9, num_rates=1000, num_discard=100)\n",
        "bifurcation_plot(pops, xmin=3.7, xmax=3.9)"
      ],
      "execution_count": null,
      "outputs": []
    },
    {
      "cell_type": "markdown",
      "metadata": {
        "id": "KKAxzZo-uTZf"
      },
      "source": [
        "Plot a two-dimensional [phase diagram](pynamical-demo-phase-diagrams.ipynb) of the logistic map:"
      ]
    },
    {
      "cell_type": "code",
      "metadata": {
        "id": "fA--LakVuTZf"
      },
      "source": [
        "from pynamical import phase_diagram\n",
        "pops = simulate(model=logistic_map, num_gens=4000, rate_min=3.6, rate_max=4.0, num_rates=50, num_discard=100)"
      ],
      "execution_count": null,
      "outputs": []
    },
    {
      "cell_type": "code",
      "metadata": {
        "id": "InAMSHnguTZf"
      },
      "source": [
        "phase_diagram(pops, xmin=0.25, xmax=0.75, ymin=0.8, ymax=1.01, size=7, color='viridis')"
      ],
      "execution_count": null,
      "outputs": []
    },
    {
      "cell_type": "markdown",
      "metadata": {
        "id": "OIUEMOB9uTZf"
      },
      "source": [
        "Or a three-dimensional phase diagram of the [cubic map](pynamical-demo-other-models.ipynb):"
      ]
    },
    {
      "cell_type": "code",
      "metadata": {
        "id": "fB2LusYcuTZg"
      },
      "source": [
        "from pynamical import cubic_map, phase_diagram_3d\n",
        "pops = simulate(model=cubic_map, num_gens=3000, rate_min=3.5, num_rates=30, num_discard=100)\n",
        "phase_diagram_3d(pops, xmin=-1, xmax=1, ymin=-1, ymax=1, zmin=-1, zmax=1, alpha=0.2, color='viridis', azim=330)"
      ],
      "execution_count": null,
      "outputs": []
    },
    {
      "cell_type": "markdown",
      "metadata": {
        "id": "5RS3PsNpuTZg"
      },
      "source": [
        "Or animate them with [pynamical-demo-3d-animation.ipynb](pynamical-demo-3d-animation.ipynb):"
      ]
    },
    {
      "cell_type": "code",
      "metadata": {
        "id": "KstQlcMpuTZg"
      },
      "source": [
        "import IPython.display as IPdisplay\n",
        "IPdisplay.Image(url='images/phase-animate/05-logistic-3d-phase-diagram-chaotic-regime.gif')"
      ],
      "execution_count": null,
      "outputs": []
    },
    {
      "cell_type": "markdown",
      "metadata": {
        "id": "h7brt5BhuTZg"
      },
      "source": [
        "Or create animated cobweb plots with [pynamical-demo-cobweb-plots.ipynb](pynamical-demo-cobweb-plots.ipynb):"
      ]
    },
    {
      "cell_type": "code",
      "metadata": {
        "id": "nZ5WBrNwuTZg"
      },
      "source": [
        "IPdisplay.Image(url='images/animated-logistic-cobweb.gif')"
      ],
      "execution_count": null,
      "outputs": []
    },
    {
      "cell_type": "markdown",
      "metadata": {
        "id": "kML344z1uTZg"
      },
      "source": [
        "## For more info:\n",
        "  - [Read the journal article](http://geoffboeing.com/publications/nonlinear-chaos-fractals-prediction/)\n",
        "  - [Pynamical documentation](http://pynamical.readthedocs.org)\n",
        "  - [Chaos Theory and the Logistic Map](http://geoffboeing.com/2015/03/chaos-theory-logistic-map/)\n",
        "  - [Visualizing Chaos and Randomness with Phase Diagrams](http://geoffboeing.com/2015/04/visualizing-chaos-and-randomness/)\n",
        "  - [Animated 3D Plots in Python](http://geoffboeing.com/2015/04/animated-3d-plots-python/)"
      ]
    }
  ]
}