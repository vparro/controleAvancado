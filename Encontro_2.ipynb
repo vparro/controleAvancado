{
  "nbformat": 4,
  "nbformat_minor": 0,
  "metadata": {
    "colab": {
      "name": "Encontro_2.ipynb",
      "provenance": [],
      "authorship_tag": "ABX9TyN498u9+pKXFBApQ7M+s7W/",
      "include_colab_link": true
    },
    "kernelspec": {
      "name": "python3",
      "display_name": "Python 3"
    }
  },
  "cells": [
    {
      "cell_type": "markdown",
      "metadata": {
        "id": "view-in-github",
        "colab_type": "text"
      },
      "source": [
        "<a href=\"https://colab.research.google.com/github/vparro/controleAvancado/blob/master/Encontro_2.ipynb\" target=\"_parent\"><img src=\"https://colab.research.google.com/assets/colab-badge.svg\" alt=\"Open In Colab\"/></a>"
      ]
    },
    {
      "cell_type": "markdown",
      "metadata": {
        "id": "VRwJKnU116Ak"
      },
      "source": [
        "# Espaço de estados"
      ]
    },
    {
      "cell_type": "markdown",
      "metadata": {
        "id": "z8oyW6WjCZ8Z"
      },
      "source": [
        " Representação da dinâmica de um sistema de ordem $n$ usando $n$ equações diferenciais de primeira ordem. \\\\\n",
        "Um vetor de dimensão $n$x1 $\\Rightarrow $ chamado vetor de estados \\\\\n",
        "Um vetor de dimensão $m$x1 $\\Rightarrow $ chamado vetor de entradas \\\\\n",
        "Precisa converter a equação diferencial de ordem $n$ para $n$ equa\\c{c}\\~{o}es diferenciais de 1${}^{a}$ ordem \\\\\n"
      ]
    },
    {
      "cell_type": "markdown",
      "metadata": {
        "id": "WAPfFhhOBqez"
      },
      "source": [
        "## Forma geral do espaço dos estados\n",
        "\n",
        "${\\rm {\\bf \\dot {x}}}(t)={\\rm {\\bf A}}(t){\\rm {\\bf x}}(t)+{\\rm {\\bf \n",
        "B}}(t){\\rm {\\bf u}}(t) \\quad \\to $ equa\\c{c}\\~{a}o dos estados\n",
        "\n",
        "${\\rm {\\bf y}}(t)={\\rm {\\bf C}}(t){\\rm {\\bf x}}(t)+{\\rm {\\bf D}}(t){\\rm {\\bf \n",
        "u}}(t) \\quad \\to $ equa\\c{c}\\~{a}o da sa\\'{\\i}da\n",
        "\n",
        "onde\n",
        "\n",
        "${\\rm {\\bf x}}(t)\\quad -$ vetor de estados $R^{n}$ (dimens\\~{a}o $n$x1);\n",
        "\n",
        "${\\rm {\\bf u}}(t)\\quad -$ vetor de entrada $R^{m }$(dimens\\~{a}o $m$x1);\n",
        "\n",
        "${\\rm {\\bf y}}(t)\\quad -$ vetor de sa\\'{\\i}da $R^{p }$(dimens\\~{a}o $p$x1);\n",
        "\n",
        "${\\rm {\\bf A}}(t)\\quad -$ matriz de transmiss\\~{a}o dos estados ($n$x$n)$;\n",
        "\n",
        "${\\rm {\\bf B}}(t)\\quad -$ matriz de entrada ($n$x$m)$;\n",
        "\n",
        "${\\rm {\\bf C}}(t)\\quad -$ matriz de sa\\'{\\i}da ou matriz dos sensores \n",
        "($p$x$n)$;\n",
        "\n",
        "${\\rm {\\bf D}}(t)\\quad -$ matriz de alimenta\\c{c}\\~{a}o direta ($p$x$m)$.\n",
        "\n"
      ]
    },
    {
      "cell_type": "markdown",
      "metadata": {
        "id": "EWgj4IK5CK6h"
      },
      "source": [
        "\n",
        " Os estados resumem os efeitos de entradas passadas nas sa\\'{\\i}das futuras $\\Rightarrow $ s\\~{a}o mem\\'{o}rias do sistema.  \n",
        "\n",
        "Estados est\\~{a}o associados com vari\\'{a}veis armazenadoras de energia no sistema. "
      ]
    },
    {
      "cell_type": "markdown",
      "metadata": {
        "id": "9b9kSWSzCL0f"
      },
      "source": [
        "## Sistema massa-mola-amortecedor\n",
        "\n",
        "Equação  diferencial de 2${}^{a}$ ordem:\n",
        "\n",
        "\\begin{equation}\n",
        "m\\ddot {x}(t)+b\\dot {x}(t)+kx(t)=f(t)\n",
        "\\end{equation}\n",
        "\n",
        "Estados:\n",
        "\n",
        "\\begin{equation}\n",
        "{\\begin{array}{l}\n",
        " x_1 (t)=x(t) \\; \\; \\text{(posição da massa)} \\\\ \n",
        " x_2 (t)=v(t)=\\dot {x}_1 (t) \\; \\;  \\text{ (velocidade da massa)} \\\\ \n",
        " \\end{array}} \n",
        " \\end{equation}\n",
        "\n",
        "Substituindo:\n",
        "\n",
        "\\begin{equation}\n",
        "m\\dot {v}(t)+bv(t)+kx(t)=f(t)\n",
        "\\end{equation}\n",
        "\n",
        "\\begin{equation}\n",
        "{\\begin{array}{l}\n",
        " \\dot {v}(t)=\\frac{1}{m}\\left[ {f(t)-bv(t)-kx(t)} \\right] \\\\ \n",
        " \\dot {x}(t)=v(t) \\\\ \n",
        " \\end{array}} \n",
        "\\end{equation}\n",
        "\n",
        "Sistema na forma de espaço dos estados:\n",
        "\n",
        "\\begin{equation}\n",
        "{\\begin{array}{l}\n",
        " \\dot {x}_2 (t)=\\frac{1}{m}\\left[ {f(t)-bx_2 (t)-kx_1 (t)} \\right] \\\\ \n",
        " \\dot {x}_1 (t)=x_2 (t) \\\\ \n",
        " \\end{array}}\n",
        "\\end{equation}\n",
        "\n"
      ]
    },
    {
      "cell_type": "markdown",
      "metadata": {
        "id": "Eu4pLdXJCQdO"
      },
      "source": [
        " Os estados resumem os efeitos de entradas passadas nas saídas futuras $\\Rightarrow $ são memórias do sistema.\n",
        "\n",
        "Estados estão associados com variáveis armazenadoras de energia no sistema.\n",
        "\n",
        "No sistema massa-mola-amortecedor $\\Rightarrow $ \n",
        "\n",
        "armazenamento de energia potencial $\\to $ posição,$ x(t)$; \n",
        "\n",
        "armazenamento de energia cinética $\\to $ velocidade, $v(t)$.\n"
      ]
    },
    {
      "cell_type": "markdown",
      "metadata": {
        "id": "aBfh-vnMCXNg"
      },
      "source": [
        "Sa\\'{\\i}das s\\~{a}o vari\\'{a}veis associadas com sensores $\\Rightarrow $ s\\~{a}o vari\\'{a}veis medidas.\n",
        "\n",
        "Entradas s\\~{a}o vari\\'{a}veis que alteram as condi\\c{c}\\~{o}es de energia do sistema.\n",
        "\n",
        "A din\\^{a}mica de um sistema pode ser variante ou invariante no tempo:\n",
        "Sistema linear \\textbf{invariante} no tempo $\\Rightarrow $ matrizes \\textbf{A}, \\textbf{B}, \\textbf{C} e \\textbf{D} s\\~{a}o constantes;\n",
        "\n",
        "Sistema linear \\textbf{variante} no tempo $\\Rightarrow $ matrizes \\textbf{A}($t)$, \\textbf{B}($t)$, \\textbf{C}($t)$ e \\textbf{D}($t)$ variam no tempo.\n",
        "\n",
        "Sistemas podem ser:\n",
        "\\textbf{SISO} $\\Rightarrow $ \\textit{single} (uma) entrada, \\textit{single} (uma) sa\\'{\\i}da;\n",
        "\n",
        "\\textbf{MIMO} $\\Rightarrow $ m\\'{u}ltiplas entradas, m\\'{u}ltiplas sa\\'{\\i}das.\n",
        "\\item Usualmente lidamos com Sistemas Lineares Invariantes no tempo (LTI) $\\Rightarrow $ rela\\c{c}\\~{a}o entre sa\\'{\\i}da (y) e entrada (u) n\\~{a}o depende diretamento do tempo.\n",
        "\n",
        "\\begin{equation}\n",
        "{{\\begin{array}{*{20}c}\n",
        " {{\\rm {\\bf \\dot {x}}}(t)={\\rm {\\bf Ax}}(t)+{\\rm {\\bf Bu}}(t)} \\hfill \\\\\n",
        " {{\\rm {\\bf y}}(t)={\\rm {\\bf Cx}}(t)+{\\rm {\\bf Du}}(t)} \\hfill \\\\\n",
        "\\end{array} }} \n",
        "\\end{equation}\n",
        "\n",
        "\n"
      ]
    },
    {
      "cell_type": "markdown",
      "metadata": {
        "id": "Na9s1uAlJfR1"
      },
      "source": [
        "Nesse caso as matrizes \\textbf{A}, \\textbf{B}, \\textbf{C} e \\textbf{D} s\\~{a}o constantes.\n",
        "Sa\\'{\\i}das futuras dependem somente do estado presente e entradas futuras.\n",
        " N\\~{a}o existe somente um conjunto de estados para um mesmo sistema $\\Rightarrow $ existem muitas possibilidades para o vetor de estados de um sistema.\n",
        " \\underline {\\textbf{Representa\\c{c}\\~{a}o de sistemas por diagrama de blocos}}\n",
        "] No dom\\'{\\i}nio do tempo tem-se:\n",
        "\n",
        "\\begin{equation}\n",
        "{{\\begin{array}{*{20}c}\n",
        " {{\\rm {\\bf \\dot {x}}}(t)={\\rm {\\bf Ax}}(t)+{\\rm {\\bf Bu}}(t)} \\hfill \\\\\n",
        " {{\\rm {\\bf y}}(t)={\\rm {\\bf Cx}}(t)+{\\rm {\\bf Du}}(t)} \\hfill \\\\\n",
        "\\end{array} }} \n",
        "\\end{equation}\n",
        "\n",
        "\\begin{equation}\n",
        "\\int \n",
        "{\\rm {\\bf \\dot {x}}}(t)\n",
        "{\\rm {\\bf x}}(t)\n",
        "{\\rm {\\bf u}}(t)\n",
        "{\\rm {\\bf y}}(t)\n",
        "\\end{equation}\n",
        "\n",
        "\n",
        " No dom\\`{\\i}nio da Transformada de Laplace tem-se:\n",
        "\n",
        "\\begin{equation}\n",
        "{\\rm {\\bf \\dot {x}}}(t)=\\frac{d{\\rm {\\bf x}}(t)}{dt}\n",
        "\\quad\n",
        "L\\left\\{ {{\\rm {\\bf \\dot {x}}}(t)} \\right\\}=s{\\rm {\\bf X}}(s)\n",
        "\\]\n",
        "\\[\n",
        "\\left\\{ {{\\begin{array}{*{20}c}\n",
        " {s{\\rm {\\bf X}}(s)={\\rm {\\bf AX}}(s)+{\\rm {\\bf BU}}(s)} \\hfill \\\\\n",
        " {{\\rm {\\bf Y}}(s)={\\rm {\\bf CX}}(s)+{\\rm {\\bf DU}}(s)} \\hfill \\\\\n",
        "\\end{array} }} \\right.\n",
        "\\]\n",
        "\\[\n",
        "\\frac{1}{s}\n",
        "s{\\rm {\\bf X}}(s)\n",
        "{\\rm {\\bf X}}(s)\n",
        "{\\rm {\\bf U}}(s)\n",
        "{\\rm {\\bf Y}}(s)\n",
        "\\end{equation}"
      ]
    }
  ]
}