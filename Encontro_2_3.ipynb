{
  "nbformat": 4,
  "nbformat_minor": 0,
  "metadata": {
    "colab": {
      "name": "Encontro_2_3.ipynb",
      "provenance": [],
      "collapsed_sections": [
        "OYEzvVDj7wtT",
        "VdFV0VQBY1LK",
        "xGtF_kuN7z9o",
        "_nuA3PXY8HIV",
        "AuBwhPp5EkIk",
        "bBRFzGGDGKhR",
        "eVpEVCtQWV0R",
        "XoqkOyTnZGoL",
        "V4roA_1KGNTl"
      ],
      "include_colab_link": true
    },
    "kernelspec": {
      "name": "python3",
      "display_name": "Python 3"
    }
  },
  "cells": [
    {
      "cell_type": "markdown",
      "metadata": {
        "id": "view-in-github",
        "colab_type": "text"
      },
      "source": [
        "<a href=\"https://colab.research.google.com/github/vparro/controleAvancado/blob/master/Encontro_2_3.ipynb\" target=\"_parent\"><img src=\"https://colab.research.google.com/assets/colab-badge.svg\" alt=\"Open In Colab\"/></a>"
      ]
    },
    {
      "cell_type": "markdown",
      "metadata": {
        "id": "OYEzvVDj7wtT"
      },
      "source": [
        "# **Bibliotecas**"
      ]
    },
    {
      "cell_type": "code",
      "metadata": {
        "colab": {
          "base_uri": "https://localhost:8080/"
        },
        "id": "nsKye3pu_mnj",
        "outputId": "e5335eba-9681-43ff-f0fd-9d0fc7448748"
      },
      "source": [
        "# Importação de módulos e instalação de bibliotecas adicionais\n",
        "\n",
        "# Importação do pacote matématico Math\n",
        "import math\n",
        "\n",
        "# Importação do pacote Pandas\n",
        "import pandas as pd\n",
        "\n",
        "# Importação dos pacotes NumPy e SciPy\n",
        "import numpy as np\n",
        "import sympy as sp\n",
        "from scipy.interpolate import interp1d\n",
        "from scipy import signal\n",
        "\n",
        "from scipy.integrate import odeint\n",
        "from scipy.integrate import solve_ivp\n",
        "from scipy.misc import derivative\n",
        "from scipy import optimize\n",
        "\n",
        "# Importação do pacote PyPlot do MatPlotLib\n",
        "import matplotlib.pyplot as plt\n",
        "from matplotlib import cm\n",
        "from matplotlib.ticker import LinearLocator, FormatStrFormatter\n",
        "\n",
        "# Instalação e importação do pacote mpld3\n",
        "!pip install mpld3\n",
        "import mpld3\n",
        "\n",
        "from mpl_toolkits.mplot3d import Axes3D\n",
        "\n",
        "# importação do módulo timeit\n",
        "import timeit"
      ],
      "execution_count": 4,
      "outputs": [
        {
          "output_type": "stream",
          "text": [
            "Requirement already satisfied: mpld3 in /usr/local/lib/python3.6/dist-packages (0.5.2)\n",
            "Requirement already satisfied: matplotlib in /usr/local/lib/python3.6/dist-packages (from mpld3) (3.2.2)\n",
            "Requirement already satisfied: jinja2 in /usr/local/lib/python3.6/dist-packages (from mpld3) (2.11.3)\n",
            "Requirement already satisfied: pyparsing!=2.0.4,!=2.1.2,!=2.1.6,>=2.0.1 in /usr/local/lib/python3.6/dist-packages (from matplotlib->mpld3) (2.4.7)\n",
            "Requirement already satisfied: kiwisolver>=1.0.1 in /usr/local/lib/python3.6/dist-packages (from matplotlib->mpld3) (1.3.1)\n",
            "Requirement already satisfied: numpy>=1.11 in /usr/local/lib/python3.6/dist-packages (from matplotlib->mpld3) (1.19.5)\n",
            "Requirement already satisfied: python-dateutil>=2.1 in /usr/local/lib/python3.6/dist-packages (from matplotlib->mpld3) (2.8.1)\n",
            "Requirement already satisfied: cycler>=0.10 in /usr/local/lib/python3.6/dist-packages (from matplotlib->mpld3) (0.10.0)\n",
            "Requirement already satisfied: MarkupSafe>=0.23 in /usr/local/lib/python3.6/dist-packages (from jinja2->mpld3) (1.1.1)\n",
            "Requirement already satisfied: six>=1.5 in /usr/local/lib/python3.6/dist-packages (from python-dateutil>=2.1->matplotlib->mpld3) (1.15.0)\n"
          ],
          "name": "stdout"
        }
      ]
    },
    {
      "cell_type": "code",
      "metadata": {
        "id": "Od1vOncY_3ZH"
      },
      "source": [
        "# Diretiva do Notebook para exibição de gráficos inline\n",
        "%matplotlib inline\n",
        "\n",
        "# Configuração do tamanho dos gráficos\n",
        "plt.rcParams[\"figure.figsize\"] = (20,10)"
      ],
      "execution_count": 5,
      "outputs": []
    },
    {
      "cell_type": "code",
      "metadata": {
        "colab": {
          "base_uri": "https://localhost:8080/"
        },
        "id": "yMqlZihnhNqZ",
        "outputId": "28fa4b8d-3587-432e-d014-a633b25938d0"
      },
      "source": [
        "###################################################################################################\n",
        "# Biblioteca de controle e sistemas dinâmicos\n",
        "\n",
        "!git clone https://github.com/python-control/python-control.git\n",
        "\n",
        "!pip install slycot   # optional\n",
        "!pip install control"
      ],
      "execution_count": 6,
      "outputs": [
        {
          "output_type": "stream",
          "text": [
            "fatal: destination path 'python-control' already exists and is not an empty directory.\n",
            "Requirement already satisfied: slycot in /usr/local/lib/python3.6/dist-packages (0.4.0)\n",
            "Requirement already satisfied: numpy in /usr/local/lib/python3.6/dist-packages (from slycot) (1.19.5)\n",
            "Requirement already satisfied: control in /usr/local/lib/python3.6/dist-packages (0.8.4)\n",
            "Requirement already satisfied: numpy in /usr/local/lib/python3.6/dist-packages (from control) (1.19.5)\n",
            "Requirement already satisfied: matplotlib in /usr/local/lib/python3.6/dist-packages (from control) (3.2.2)\n",
            "Requirement already satisfied: scipy in /usr/local/lib/python3.6/dist-packages (from control) (1.4.1)\n",
            "Requirement already satisfied: pyparsing!=2.0.4,!=2.1.2,!=2.1.6,>=2.0.1 in /usr/local/lib/python3.6/dist-packages (from matplotlib->control) (2.4.7)\n",
            "Requirement already satisfied: python-dateutil>=2.1 in /usr/local/lib/python3.6/dist-packages (from matplotlib->control) (2.8.1)\n",
            "Requirement already satisfied: cycler>=0.10 in /usr/local/lib/python3.6/dist-packages (from matplotlib->control) (0.10.0)\n",
            "Requirement already satisfied: kiwisolver>=1.0.1 in /usr/local/lib/python3.6/dist-packages (from matplotlib->control) (1.3.1)\n",
            "Requirement already satisfied: six>=1.5 in /usr/local/lib/python3.6/dist-packages (from python-dateutil>=2.1->matplotlib->control) (1.15.0)\n"
          ],
          "name": "stdout"
        }
      ]
    },
    {
      "cell_type": "markdown",
      "metadata": {
        "id": "StRa-a9VigNl"
      },
      "source": [
        "# **Levitador Magnético**"
      ]
    },
    {
      "cell_type": "markdown",
      "metadata": {
        "id": "B7qls3wOh1Xs"
      },
      "source": [
        "Mundher H.A. Yaseen, Haider J. Abd, Modeling and control for\n",
        "a magnetic levitation system based on SIMLAB platform in real\n",
        "time, Results in Physics, Volume 8, 2018, Pages 153-159, ISSN\n",
        "2211-3797,\n",
        "\n",
        "http://www.sciencedirect.com/science/article/pii/S2211379717320065\n"
      ]
    },
    {
      "cell_type": "markdown",
      "metadata": {
        "id": "8v0Q7wyyiA7A"
      },
      "source": [
        "**Abstract:**\n",
        "\n",
        "Magnetic Levitation system becomes a hot topic of study due to the minimum\n",
        "friction and low energy consumption which regards as very important issues. This paper\n",
        "proposed a new magnetic levitation system using real-time control simulink feature of\n",
        "(SIMLAB) microcontroller. The control system of the maglev transportation system is verified\n",
        "by simulations with experimental results, and its superiority is indicated in comparison with\n",
        "previous literature and conventional control strategies. In addition, the proposed system was\n",
        "implemented under effect of three controller types which are Linear–quadratic regulator\n",
        "(LQR), proportional–integral–derivative controller (PID) and Lead compensation. As well, the\n",
        "controller system performance was compared in term of three parameters Peak overshoot,\n",
        "Settling time and Rise time. The findings prove the agreement of simulation with experimental\n",
        "results obtained. Moreover, the LQR controller produced a great stability and homogeneous\n",
        "response than other controllers used. For experimental results, the LQR brought a 14.6%, 0.199\n",
        "and 0.064 for peak overshoot, Setting time and Rise time respectively. Keywords: Magnetic\n",
        "levitation system; Linear Quadratic Regulator (LQR); PID control; Lead compensation"
      ]
    },
    {
      "cell_type": "markdown",
      "metadata": {
        "id": "Mkt49gY3jvts"
      },
      "source": [
        "# **Modelagem em espaço de estados**"
      ]
    },
    {
      "cell_type": "markdown",
      "metadata": {
        "id": "lNj0goUoj60w"
      },
      "source": [
        "Representação da dinâmica de um sistema de ordem  𝑛  usando  𝑛  equações diferenciais de primeira ordem.\n",
        "Um vetor de dimensão  𝑛 x1  ⇒  chamado vetor de estados\n",
        "Um vetor de dimensão  𝑚 x1  ⇒  chamado vetor de entradas\n",
        "Precisa converter a equação diferencial de ordem  𝑛  para  𝑛  equações diferenciais de 1 𝑎  ordem"
      ]
    },
    {
      "cell_type": "markdown",
      "metadata": {
        "id": "Rudt10yYkA8v"
      },
      "source": [
        "## Forma geral do espaço dos estados\n",
        "\n",
        "${\\rm {\\bf \\dot {x}}}(t)={\\rm {\\bf A}}(t){\\rm {\\bf x}}(t)+{\\rm {\\bf \n",
        "B}}(t){\\rm {\\bf u}}(t) \\quad \\to $ equação dos estados\n",
        "\n",
        "${\\rm {\\bf y}}(t)={\\rm {\\bf C}}(t){\\rm {\\bf x}}(t)+{\\rm {\\bf D}}(t){\\rm {\\bf \n",
        "u}}(t) \\quad \\to $ equação da saída\n",
        "\n",
        "onde\n",
        "\n",
        "${\\rm {\\bf x}}(t)\\quad -$ vetor de estados $R^{n}$ (dimensão $n$x1);\n",
        "\n",
        "${\\rm {\\bf u}}(t)\\quad -$ vetor de entrada $R^{m }$(dimensão $m$x1);\n",
        "\n",
        "${\\rm {\\bf y}}(t)\\quad -$ vetor de saída $R^{p }$(dimensão $p$x1);\n",
        "\n",
        "${\\rm {\\bf A}}(t)\\quad -$ matriz de transmissão dos estados ($n$x$n)$;\n",
        "\n",
        "${\\rm {\\bf B}}(t)\\quad -$ matriz de entrada ($n$x$m)$;\n",
        "\n",
        "${\\rm {\\bf C}}(t)\\quad -$ matriz de saída ou matriz dos sensores \n",
        "($p$x$n)$;\n",
        "\n",
        "${\\rm {\\bf D}}(t)\\quad -$ matriz de alimentação direta ($p$x$m)$."
      ]
    },
    {
      "cell_type": "markdown",
      "metadata": {
        "id": "CI7CjtYYkUnY"
      },
      "source": [
        "Saídas são variáveis associadas com sensores $\\Rightarrow $ são variáveis medidas.\n",
        "\n",
        "Entradas são variáveis que alteram as condições de energia do sistema.\n",
        "\n",
        "A dinâmica de um sistema pode ser variante ou invariante no tempo:\n",
        "Sistema linear $\\textbf{invariante}$ no tempo $\\Rightarrow $ matrizes $\\textbf{A}, \\textbf{B}, \\textbf{C}$ e $\\textbf{D}$ são constantes;\n",
        "\n",
        "Sistema linear $\\textbf{variante}$ no tempo $\\Rightarrow $ matrizes $\\textbf{A}(t), \\textbf{B}(t), \\textbf{C}(t)$ e $\\textbf{D}(t)$ variam no tempo.\n",
        "\n",
        "Sistemas podem ser:\n",
        "\n",
        "$\\textbf{SISO} \\Rightarrow \\textit{single}$ (uma) entrada, $\\textit{single}$(uma) saída;\n",
        "\n",
        "$\\textbf{MIMO}$ $\\Rightarrow $ múltiplas entradas, múltiplas saídas.\n",
        "\\item Usualmente lidamos com Sistemas Lineares Invariantes no tempo (LTI) $\\Rightarrow $ relação entre saída (y) e entrada (u) não depende diretamento do tempo.\n",
        "\n",
        "\\begin{equation}\n",
        "{{\\begin{array}{*{20}c}\n",
        " {{\\rm {\\bf \\dot {x}}}(t)={\\rm {\\bf Ax}}(t)+{\\rm {\\bf Bu}}(t)} \\hfill \\\\\n",
        " {{\\rm {\\bf y}}(t)={\\rm {\\bf Cx}}(t)+{\\rm {\\bf Du}}(t)} \\hfill \\\\\n",
        "\\end{array} }} \n",
        "\\end{equation}\n",
        "\n",
        "Nesse caso as matrizes $\\textbf{A}, \\textbf{B}, \\textbf{C}$ e $\\textbf{D}$ são constantes.\n",
        "\n",
        "Saídas futuras dependem somente do estado presente e entradas futuras.\n",
        "\n",
        "Não existe somente um conjunto de estados para um mesmo sistema $\\Rightarrow $ existem muitas possibilidades para o vetor de estados de um sistema.\n",
        " \n"
      ]
    },
    {
      "cell_type": "markdown",
      "metadata": {
        "id": "zg6QTMAbq1Hr"
      },
      "source": [
        "# **Linearizando**"
      ]
    },
    {
      "cell_type": "markdown",
      "metadata": {
        "id": "KvO_HA05xr7D"
      },
      "source": [
        "## **Formulação do problema**"
      ]
    },
    {
      "cell_type": "markdown",
      "metadata": {
        "id": "bBYP4iO8r2YS"
      },
      "source": [
        "O vetor de funções da dinâmica dos estados representado pela eq. \n",
        "(1) é dado de forma mais detalhado como:\n",
        "\\begin{equation}\n",
        "\\left\\{ {\\begin{array}{l}\n",
        " \\dot {x}_1 (t)=f_1 \\left( {{\\rm {\\bf x}}(t),{\\rm {\\bf u}}(t)} \\right); \\\\ \n",
        " \\dot {x}_2 (t)=f_2 \\left( {{\\rm {\\bf x}}(t),{\\rm {\\bf u}}(t)} \\right); \\\\ \n",
        " \\vdots \\\\ \n",
        " \\dot {x}_n (t)=f_n \\left( {{\\rm {\\bf x}}(t),{\\rm {\\bf u}}(t)} \\right). \\\\ \n",
        " \\end{array}} \\right.\n",
        "\\end{equation}"
      ]
    },
    {
      "cell_type": "markdown",
      "metadata": {
        "id": "2YS4Pm-9rxtD"
      },
      "source": [
        "O vetor de funções da saída representado pela eq. (2) é \n",
        "dado de forma mais detalhado como:\n",
        "\\begin{equation}\n",
        "\\left\\{ {\\begin{array}{l}\n",
        " y_1 (t)=g_1 \\left( {{\\rm {\\bf x}}(t),{\\rm {\\bf u}}(t)} \\right); \\\\ \n",
        " y_2 (t)=g_2 \\left( {{\\rm {\\bf x}}(t),{\\rm {\\bf u}}(t)} \\right); \\\\ \n",
        " \\vdots \\\\ \n",
        " y_p (t)=g_p \\left( {{\\rm {\\bf x}}(t),{\\rm {\\bf u}}(t)} \\right). \\\\ \n",
        " \\end{array}} \\right.\n",
        "\\end{equation}"
      ]
    },
    {
      "cell_type": "markdown",
      "metadata": {
        "id": "YRSzrv3LtAiK"
      },
      "source": [
        "Dada a condição nominal de operação , expandindo o vetor de funções $\\textbf{f}(\\textbf{x},\\textbf{u})$ em torno de $\\textbf{x}_{0}(t)$ e $\\textbf{u}_{0}(t)$\n",
        "\n",
        "$\\quad \\Rightarrow $ cada equação da dinâmica do sistema: $\\dot {x}_i (t)=f_i ({\\rm {\\bf x}}(t),{\\rm {\\bf u}}(t))$, para $i = 1 \\dots n$, fica:\n",
        "\n",
        "\n",
        "\\begin{equation}\n",
        "\\begin{array}{l}\n",
        " \\frac{d}{dt}\\left( {x_{0,i} (t)+\\delta x_i (t)} \\right)=f_i \\left( {{\\rm \n",
        "{\\bf x}}_{\\rm {\\bf 0}} (t)+\\delta {\\rm {\\bf x}}(t),{\\rm {\\bf u}}_{\\rm {\\bf \n",
        "0}} (t)+\\delta {\\rm {\\bf u}}(t)} \\right)= \\\\ \n",
        " \\mbox{ }f_i \\left( {{\\rm {\\bf x}}_{\\rm {\\bf 0}} (t),{\\rm {\\bf u}}_{\\rm {\\bf \n",
        "0}} (t)} \\right)+\\left( {\\frac{\\partial f_i }{\\partial {\\rm {\\bf x}}}} \n",
        "\\right)_{\\rm {\\bf 0}} \\delta {\\rm {\\bf x}}(t)+\\left( {\\frac{\\partial f_i \n",
        "}{\\partial {\\rm {\\bf u}}}} \\right)_{\\rm {\\bf 0}} \\delta {\\rm {\\bf \n",
        "u}}(t)+T.O.S. \\\\ \n",
        " \\end{array}\n",
        "\\end{equation}"
      ]
    },
    {
      "cell_type": "markdown",
      "metadata": {
        "id": "t1p2k_cMsHyq"
      },
      "source": [
        "Para todas as $n$ equações do sistema, tem-se:\n",
        "\\begin{equation}\n",
        "\\frac{d}{dt}\\delta {\\rm {\\bf x}}(t)=\\left[ {\\begin{array}{l}\n",
        " \\left( {\\frac{\\partial f_1 }{\\partial {\\rm {\\bf x}}}} \\right)_0 \\\\ \n",
        " \\left( {\\frac{\\partial f_2 }{\\partial {\\rm {\\bf x}}}} \\right)_0 \\\\ \n",
        " \\vdots \\\\ \n",
        " \\left( {\\frac{\\partial f_n }{\\partial {\\rm {\\bf x}}}} \\right)_0 \\\\ \n",
        " \\end{array}} \\right]\\delta {\\rm {\\bf x}}(t)+\\left[ {\\begin{array}{l}\n",
        " \\left( {\\frac{\\partial f_1 }{\\partial {\\rm {\\bf u}}}} \\right)_0 \\\\ \n",
        " \\left( {\\frac{\\partial f_2 }{\\partial {\\rm {\\bf u}}}} \\right)_0 \\\\ \n",
        " \\vdots \\\\ \n",
        " \\left( {\\frac{\\partial f_n }{\\partial {\\rm {\\bf u}}}} \\right)_0 \\\\ \n",
        " \\end{array}} \\right]\\delta {\\rm {\\bf u}}(t),\n",
        "\\end{equation}\n",
        "ou mais compactamente,\n",
        "\\begin{equation}\n",
        "\\frac{d}{dt}\\delta {\\rm {\\bf x}}(t)={\\rm {\\bf A}}(t)\\delta {\\rm {\\bf \n",
        "x}}(t)+{\\rm {\\bf B}}(t)\\delta {\\rm {\\bf u}}(t).\n",
        "\\end{equation}"
      ]
    },
    {
      "cell_type": "markdown",
      "metadata": {
        "id": "p3-brBuusOUg"
      },
      "source": [
        "\\begin{equation}\n",
        "{\\rm {\\bf A}}(t)=\\left[ {{\\begin{array}{*{20}c}\n",
        " {\\left( {\\frac{\\partial f_1 }{\\partial x_1 }} \\right)_0 } \\hfill & {\\left( \n",
        "{\\frac{\\partial f_1 }{\\partial x_2 }} \\right)_0 } \\hfill & \\cdots \\hfill & \n",
        "{\\left( {\\frac{\\partial f_1 }{\\partial x_n }} \\right)_0 } \\hfill \\\\\n",
        " {\\left( {\\frac{\\partial f_2 }{\\partial x_1 }} \\right)_0 } \\hfill & {\\left( \n",
        "{\\frac{\\partial f_2 }{\\partial x_2 }} \\right)_0 } \\hfill & \\cdots \\hfill & \n",
        "{\\left( {\\frac{\\partial f_2 }{\\partial x_n }} \\right)_0 } \\hfill \\\\\n",
        " \\vdots \\hfill & \\vdots \\hfill & \\ddots \\hfill & \\vdots \\hfill \\\\\n",
        " {\\left( {\\frac{\\partial f_n }{\\partial x_1 }} \\right)_0 } \\hfill & {\\left( \n",
        "{\\frac{\\partial f_n }{\\partial x_2 }} \\right)_0 } \\hfill & \\cdots \\hfill & \n",
        "{\\left( {\\frac{\\partial f_n }{\\partial x_n }} \\right)_0 } \\hfill \\\\\n",
        "\\end{array} }} \\right]_{(nxn)} \n",
        "\\end{equation}\n",
        "\\begin{equation}\n",
        "{\\rm {\\bf B}}(t)=\\left[ {{\\begin{array}{*{20}c}\n",
        " {\\left( {\\frac{\\partial f_1 }{\\partial u_1 }} \\right)_0 } \\hfill & {\\left( \n",
        "{\\frac{\\partial f_1 }{\\partial u_2 }} \\right)_0 } \\hfill & \\cdots \\hfill & \n",
        "{\\left( {\\frac{\\partial f_1 }{\\partial u_m }} \\right)_0 } \\hfill \\\\\n",
        " {\\left( {\\frac{\\partial f_2 }{\\partial u_1 }} \\right)_0 } \\hfill & {\\left( \n",
        "{\\frac{\\partial f_2 }{\\partial u_2 }} \\right)_0 } \\hfill & \\cdots \\hfill & \n",
        "{\\left( {\\frac{\\partial f_2 }{\\partial u_m }} \\right)_0 } \\hfill \\\\\n",
        " \\vdots \\hfill & \\vdots \\hfill & \\ddots \\hfill & \\vdots \\hfill \\\\\n",
        " {\\left( {\\frac{\\partial f_n }{\\partial u_1 }} \\right)_0 } \\hfill & {\\left( \n",
        "{\\frac{\\partial f_n }{\\partial u_2 }} \\right)_0 } \\hfill & \\cdots \\hfill & \n",
        "{\\left( {\\frac{\\partial f_n }{\\partial u_m }} \\right)_0 } \\hfill \\\\\n",
        "\\end{array} }} \\right]_{(nxm)} \n",
        "\\end{equation}"
      ]
    },
    {
      "cell_type": "markdown",
      "metadata": {
        "id": "neMqqdnlsV64"
      },
      "source": [
        "Para todas as $p$ equações de saídas do sistema, tem-se:\n",
        "\\begin{equation}\n",
        "\\delta {\\rm {\\bf y}}(t)=\\left[ {\\begin{array}{l}\n",
        " \\left( {\\frac{\\partial g_1 }{\\partial {\\rm {\\bf x}}}} \\right)_0 \\\\ \n",
        " \\left( {\\frac{\\partial g_2 }{\\partial {\\rm {\\bf x}}}} \\right)_0 \\\\ \n",
        " \\vdots \\\\ \n",
        " \\left( {\\frac{\\partial g_p }{\\partial {\\rm {\\bf x}}}} \\right)_0 \\\\ \n",
        " \\end{array}} \\right]\\delta {\\rm {\\bf x}}(t)+\\left[ {\\begin{array}{l}\n",
        " \\left( {\\frac{\\partial g_1 }{\\partial {\\rm {\\bf u}}}} \\right)_0 \\\\ \n",
        " \\left( {\\frac{\\partial g_2 }{\\partial {\\rm {\\bf u}}}} \\right)_0 \\\\ \n",
        " \\vdots \\\\ \n",
        " \\left( {\\frac{\\partial g_p }{\\partial {\\rm {\\bf u}}}} \\right)_0 \\\\ \n",
        " \\end{array}} \\right]\\delta {\\rm {\\bf u}}(t),\n",
        "\\end{equation}\n",
        "ou mais compactamente,\n",
        "\\begin{equation}\n",
        "\\delta {\\rm {\\bf y}}(t)={\\rm {\\bf C}}(t)\\delta {\\rm {\\bf x}}(t)+{\\rm {\\bf \n",
        "D}}(t)\\delta {\\rm {\\bf u}}(t).\n",
        "\\end{equation}"
      ]
    },
    {
      "cell_type": "markdown",
      "metadata": {
        "id": "qhC2ZAqSsb-V"
      },
      "source": [
        "onde $\\textbf{C}(t)$ e $\\textbf{D}(t)$ são matrizes dadas por:\n",
        "\\begin{equation}\n",
        "{\\rm {\\bf C}}(t)=\\left[ {{\\begin{array}{*{20}c}\n",
        " {\\left( {\\frac{\\partial g_1 }{\\partial x_1 }} \\right)_0 } \\hfill & {\\left( \n",
        "{\\frac{\\partial g_1 }{\\partial x_2 }} \\right)_0 } \\hfill & \\cdots \\hfill & \n",
        "{\\left( {\\frac{\\partial g_1 }{\\partial x_n }} \\right)_0 } \\hfill \\\\\n",
        " {\\left( {\\frac{\\partial g_2 }{\\partial x_1 }} \\right)_0 } \\hfill & {\\left( \n",
        "{\\frac{\\partial g_2 }{\\partial x_2 }} \\right)_0 } \\hfill & \\cdots \\hfill & \n",
        "{\\left( {\\frac{\\partial g_2 }{\\partial x_n }} \\right)_0 } \\hfill \\\\\n",
        " \\vdots \\hfill & \\vdots \\hfill & \\ddots \\hfill & \\vdots \\hfill \\\\\n",
        " {\\left( {\\frac{\\partial g_p }{\\partial x_1 }} \\right)_0 } \\hfill & {\\left( \n",
        "{\\frac{\\partial g_p }{\\partial x_2 }} \\right)_0 } \\hfill & \\cdots \\hfill & \n",
        "{\\left( {\\frac{\\partial g_p }{\\partial x_n }} \\right)_0 } \\hfill \\\\\n",
        "\\end{array} }} \\right]_{(pxn)} \n",
        "\\end{equation}\n",
        "\\begin{equation}\n",
        "{\\rm {\\bf D}}(t)=\\left[ {{\\begin{array}{*{20}c}\n",
        " {\\left( {\\frac{\\partial g_1 }{\\partial u_1 }} \\right)_0 } \\hfill & {\\left( \n",
        "{\\frac{\\partial g_1 }{\\partial u_2 }} \\right)_0 } \\hfill & \\cdots \\hfill & \n",
        "{\\left( {\\frac{\\partial g_1 }{\\partial u_m }} \\right)_0 } \\hfill \\\\\n",
        " {\\left( {\\frac{\\partial g_2 }{\\partial u_1 }} \\right)_0 } \\hfill & {\\left( \n",
        "{\\frac{\\partial g_2 }{\\partial u_2 }} \\right)_0 } \\hfill & \\cdots \\hfill & \n",
        "{\\left( {\\frac{\\partial g_2 }{\\partial u_m }} \\right)_0 } \\hfill \\\\\n",
        " \\vdots \\hfill & \\vdots \\hfill & \\ddots \\hfill & \\vdots \\hfill \\\\\n",
        " {\\left( {\\frac{\\partial g_p }{\\partial u_1 }} \\right)_0 } \\hfill & {\\left( \n",
        "{\\frac{\\partial g_p }{\\partial u_2 }} \\right)_0 } \\hfill & \\cdots \\hfill & \n",
        "{\\left( {\\frac{\\partial g_p }{\\partial u_m }} \\right)_0 } \\hfill \\\\\n",
        "\\end{array} }} \\right]_{(pxm)} \n",
        "\\end{equation}"
      ]
    },
    {
      "cell_type": "markdown",
      "metadata": {
        "id": "X0fTaKQLsl8m"
      },
      "source": [
        "Se a condição nominal de operação for uma condição de operação em regime, ou seja, ${\\rm {\\bf \\dot {x}}}_{\\rm {\\bf 0}} (t)={\\rm {\\bf 0}}$, então as matrizes do sistema, $\\textbf{A}, \\textbf{B}, \\textbf{C}$ e $\\textbf{D}$, são constantes e o sitema é do tipo Linear Invariante no Tempo (LIT). Assim a eq. (27) fica:\n",
        "\n",
        "\\begin{equation}\n",
        "\\frac{d}{dt}\\partial {\\rm {\\bf x}}(t)={\\rm {\\bf A}}\\partial {\\rm {\\bf \n",
        "x}}(t)+{\\rm {\\bf B}}\\partial {\\rm {\\bf u}}(t)\n",
        "\\end{equation}\n",
        "\n",
        "\\begin{equation}\n",
        "\\delta {\\rm {\\bf y}}(t)={\\rm {\\bf C}}\\delta {\\rm {\\bf x}}(t)+{\\rm {\\bf \n",
        "D}}\\delta {\\rm {\\bf u}}(t)\n",
        "\\end{equation}"
      ]
    },
    {
      "cell_type": "markdown",
      "metadata": {
        "id": "XtofEPbgtP0R"
      },
      "source": [
        "# **Forma diagonal**"
      ]
    },
    {
      "cell_type": "markdown",
      "metadata": {
        "id": "7oBVmrfktmsg"
      },
      "source": [
        "\n",
        "O vetor de estados não é único para um sistema dinâmico $\\Rightarrow $ existem inúmeras possibilidades de definir o vetor de estado para um mesmo sistema dinâmico;\n",
        "\n",
        "Cada vetor de estado vai gerar uma forma diferente de SS (espaço de estados) para uma mesma FT.\n",
        "\n",
        "Existem algumas formas clássicas de representação no espaço dos estados.\n"
      ]
    },
    {
      "cell_type": "markdown",
      "metadata": {
        "id": "64mckaSKtwMu"
      },
      "source": [
        "## **Formas canônicas**"
      ]
    },
    {
      "cell_type": "markdown",
      "metadata": {
        "id": "k31NsEYrt1WW"
      },
      "source": [
        "Cada uma dessas formas é útil para um determinado objetivo.\n",
        "\n",
        "1.   Controlável;\n",
        "2.   Observável;\n",
        "3.   Jordan;\n",
        "4.   Diagonal ou modal.\n",
        "\n",
        "Forma mais importante para análise de sistemas dinâmicos LIT $\\Rightarrow $ diagonal ou modal $\\Rightarrow $ permite visualizar facilmente a dinâmica do sistema."
      ]
    },
    {
      "cell_type": "markdown",
      "metadata": {
        "id": "tAYtRzRluDTt"
      },
      "source": [
        "Matricialmente as expressões no tempo podem ser escritas na forma SS \n",
        "diagonal, ou seja:\n",
        "\n",
        "\\begin{equation}\n",
        "\\begin{array}{l}\n",
        " \\left[ {\\begin{array}{l}\n",
        " \\dot {x}_1 (t) \\\\ \n",
        " \\dot {x}_2 (t) \\\\ \n",
        " \\vdots \\\\ \n",
        " \\dot {x}_n (t) \\\\ \n",
        " \\end{array}} \\right]=\\left[ {{\\begin{array}{*{20}c}\n",
        " {p_1 } \\hfill & 0 \\hfill & \\cdots \\hfill & 0 \\hfill \\\\\n",
        " 0 \\hfill & {p_2 } \\hfill & \\cdots \\hfill & 0 \\hfill \\\\\n",
        " \\vdots \\hfill & \\vdots \\hfill & \\ddots \\hfill & \\vdots \\hfill \\\\\n",
        " 0 \\hfill & 0 \\hfill & \\cdots \\hfill & {p_n } \\hfill \\\\\n",
        "\\end{array} }} \\right]\\left[ {\\begin{array}{l}\n",
        " x_1 (t) \\\\ \n",
        " x_2 (t) \\\\ \n",
        " \\vdots \\\\ \n",
        " x_n (t) \\\\ \n",
        " \\end{array}} \\right]+\\left[ {\\begin{array}{l}\n",
        " r_1 \\\\ \n",
        " r_2 \\\\ \n",
        " \\vdots \\\\ \n",
        " r_n \\\\ \n",
        " \\end{array}} \\right]u(t) \\\\ \n",
        " y(t)=\\left[ {{\\begin{array}{*{20}c}\n",
        " 1 \\hfill & 1 \\hfill & \\cdots \\hfill & 1 \\hfill \\\\\n",
        "\\end{array} }} \\right]\\left[ {\\begin{array}{l}\n",
        " x_1 (t) \\\\ \n",
        " x_2 (t) \\\\ \n",
        " \\vdots \\\\ \n",
        " x_n (t) \\\\ \n",
        " \\end{array}} \\right] \\\\ \n",
        " \\end{array}\n",
        "\\end{equation}\n",
        "\n",
        "\n",
        "Nota-se que a matriz A é diagonal e a sua diagonal são os pólos do sistema.\n"
      ]
    },
    {
      "cell_type": "markdown",
      "metadata": {
        "id": "uLjwkKxfvhFR"
      },
      "source": [
        "# **Transformação linear**"
      ]
    },
    {
      "cell_type": "markdown",
      "metadata": {
        "id": "mojW5m7uvkZw"
      },
      "source": [
        " Dado um sistema LIT na forma do espaço dos estados:\n",
        " \n",
        " \\begin{equation}\n",
        "\\left\\{ {\\begin{array}{l}\n",
        " {\\rm {\\bf \\dot {x}}}(t)={\\rm {\\bf Ax}}(t)+{\\rm {\\bf Bu}}(t) \\\\ \n",
        " {\\rm {\\bf y}}(t)={\\rm {\\bf Cx}}(t)+{\\rm {\\bf Du}}(t) \\\\ \n",
        " \\end{array}} \\right.\n",
        "\\end{equation}\n",
        "\n",
        "**Pergunta-se, qual a Função de Transfer\\^{e}ncia correspondente?**\n"
      ]
    },
    {
      "cell_type": "markdown",
      "metadata": {
        "id": "M1jfS1BjvtA0"
      },
      "source": [
        "Aplicando a Transformada de Laplace na equação da dinâmica dos \n",
        "estados,\n",
        "\\begin{equation}\n",
        "L\\left\\{ {{\\rm {\\bf \\dot {x}}}(t)} \\right\\}=L\\left\\{ {{\\rm {\\bf Ax}}(t)+{\\rm \n",
        "{\\bf Bu}}(t)} \\right\\}\n",
        "\\end{equation}\n",
        "Assumindo condições iniciais iguais a zero (por definição a \n",
        "FT tem condições inciais iguais a zero), tem-se:\n",
        "\\begin{equation}\n",
        "s{\\rm {\\bf X}}(s)={\\rm {\\bf AX}}(S)+{\\rm {\\bf BU}}(s)\n",
        "\\end{equation}"
      ]
    },
    {
      "cell_type": "markdown",
      "metadata": {
        "id": "Q-yJRDXvv0JP"
      },
      "source": [
        "Rearranjando,\n",
        "\\begin{equation}\n",
        "\\left( {s{\\rm {\\bf I}}-{\\rm {\\bf A}}} \\right){\\rm {\\bf X}}(s)={\\rm {\\bf \n",
        "BU}}(s)\n",
        "\\end{equation}\n",
        "Isolando $\\textbf{X}(s)$\n",
        "\\begin{equation}\n",
        "{\\rm {\\bf X}}(s)=\\left( {s{\\rm {\\bf I}}-{\\rm {\\bf A}}} \\right)^{-1}{\\rm {\\bf \n",
        "BU}}(s)\n",
        "\\end{equation}"
      ]
    },
    {
      "cell_type": "markdown",
      "metadata": {
        "id": "vxLk_DyMv5X_"
      },
      "source": [
        "Aplicando a Transformada de laplace da equação das saídas do \n",
        "sistema,\n",
        "\\begin{equation}\n",
        "L\\left\\{ {{\\rm {\\bf y}}(t)} \\right\\}=L\\left\\{ {{\\rm {\\bf Cx}}(t)+{\\rm {\\bf \n",
        "Du}}(t)} \\right\\}\n",
        "\\end{equation}\n",
        "ou\n",
        "\\begin{equation}\n",
        "{\\rm {\\bf Y}}(s)={\\rm {\\bf CX}}(S)+{\\rm {\\bf DU}}(s)\n",
        "\\end{equation}\n"
      ]
    },
    {
      "cell_type": "markdown",
      "metadata": {
        "id": "n76pFE4Tv7RF"
      },
      "source": [
        "Substituindo as equações, tem-se:\n",
        "\\begin{equation}\n",
        "{\\rm {\\bf Y}}(s)={\\rm {\\bf C}}\\left( {s{\\rm {\\bf I}}-{\\rm {\\bf A}}} \n",
        "\\right)^{-1}{\\rm {\\bf BU}}(s)+{\\rm {\\bf DU}}(s)\n",
        "\\end{equation}\n",
        "\\begin{equation}\n",
        "{\\rm {\\bf Y}}(s)=\\left[ {{\\rm {\\bf C}}\\left( {s{\\rm {\\bf I}}-{\\rm {\\bf A}}} \n",
        "\\right)^{-1}{\\rm {\\bf B}}+{\\rm {\\bf D}}} \\right]{\\rm {\\bf U}}(s)\n",
        "\\end{equation}\n"
      ]
    },
    {
      "cell_type": "markdown",
      "metadata": {
        "id": "-4JfvK6KwClw"
      },
      "source": [
        "Lembrando que a FT é a relação entre a saída e a entrada do \n",
        "sistema, ou seja, \\textbf{Y}($s)$/\\textbf{U}($s)$,\n",
        "\\begin{equation}\n",
        "{\\rm {\\bf G}}(s)={\\rm {\\bf C}}\\left( {s{\\rm {\\bf I}}-{\\rm {\\bf A}}} \n",
        "\\right)^{-1}{\\rm {\\bf B}}+{\\rm {\\bf D}}\n",
        "\\end{equation}"
      ]
    },
    {
      "cell_type": "markdown",
      "metadata": {
        "id": "Ki_znqjpwHXo"
      },
      "source": [
        "$\\textbf{G}(s)$ é uma matriz de Funções de Transferência com dimensão $p \\;x \\; m$ ($p$ = número de saídas e $m$ = número de entradas);\n",
        "\n",
        "Cada elemento $G_{ij}(s)$ da matriz $\\textbf{G}(s)$ descreve a dinâmica da saída $i$ em função da entrada $j$ do sistema $\\Rightarrow $ por exemplo, $G_{12}(s)$ descreve a relação dinâmica entre a saída 1 e a entrada 2 do sistema;\n",
        "\n",
        "Se o sistema tiver somente uma entrada e uma saída $\\Rightarrow G(s)$ é um escalar.\n"
      ]
    },
    {
      "cell_type": "markdown",
      "metadata": {
        "id": "gX9YdtAtwLie"
      },
      "source": [
        "Existe um método simples para calcular a FT para sistemas de qualquer ordem que não exige cálculo de inversa de matriz, somente determinante de matrizes:\n",
        "\n",
        "\\begin{equation}\n",
        "G_{ij} (s)=\\frac{\\det \\left[ {{\\begin{array}{*{20}c}\n",
        " {s{\\rm {\\bf I}}-{\\rm {\\bf A}}} \\hfill & {-{\\rm {\\bf B}}_{\\rm {\\bf j}} } \n",
        "\\hfill \\\\\n",
        " {{\\rm {\\bf C}}_{\\rm {\\bf i}} } \\hfill & {{\\rm {\\bf D}}_{{\\rm {\\bf ij}}} } \n",
        "\\hfill \\\\\n",
        "\\end{array} }} \\right]}{\\det \\left[ {s{\\rm {\\bf I}}-{\\rm {\\bf A}}} \\right]}\n",
        "\\end{equation}\n",
        "onde $\\textbf{C}_{i}$ é a $i$-ésima linha da matriz $\\textbf{C}$ e \n",
        "$\\textbf{B}_{j}$ é a $j$-ésima coluna da matriz $\\textbf{B}$ e $\\textbf{ \n",
        "D}_{ij}$ é o elemento $i,j$ da matriz $\\textbf{D}$. \n",
        "\n",
        "\n",
        "Nota-se que se o sistema for SISO $\\Rightarrow  \\textbf{C} $\n",
        "é uma matriz linha e $\\textbf{B}$ é uma matriz coluna.\n"
      ]
    },
    {
      "cell_type": "markdown",
      "metadata": {
        "id": "cMvx_0VIwQcu"
      },
      "source": [
        "$\\textbf{Os denominadores de todos os elementos da matriz de FT, G(s)}$, são iguais $\\Rightarrow $ equação característica do sistema."
      ]
    },
    {
      "cell_type": "markdown",
      "metadata": {
        "id": "yFHdnoi4wT1Y"
      },
      "source": [
        "O cálculo algébrico da inversa de uma matriz nem sempre é um processo simples de realizar. O único caso onde o cálculo da matriz $$(sI- A)^{-1}$$ é simples  para sistemas de ordem 2.\n",
        "\n",
        "\\begin{equation}\n",
        "{\\rm {\\bf A}}=\\left[ {{\\begin{array}{*{20}c}\n",
        " {a_{11} } \\hfill & {a_{12} } \\hfill \\\\\n",
        " {a_{21} } \\hfill & {a_{22} } \\hfill \\\\\n",
        "\\end{array} }} \\right]\n",
        "\\end{equation}\n",
        "\n",
        "\\begin{equation}\n",
        "\\left( {s{\\rm {\\bf I}}-{\\rm {\\bf A}}} \\right)^{-1}=\\left[ \n",
        "{{\\begin{array}{*{20}c}\n",
        " {s-a_{11} } \\hfill & {-a_{12} } \\hfill \\\\\n",
        " {-a_{21} } \\hfill & {s-a_{22} } \\hfill \\\\\n",
        "\\end{array} }} \\right]^{-1}=\\frac{1}{det} \\left[ {{\\begin{array}{*{20}c}\n",
        " {s-a_{22} } \\hfill & {a_{12} } \\hfill \\\\\n",
        " {a_{21} } \\hfill & {s-a_{11} } \\hfill \\\\\n",
        "\\end{array} }} \\right]\n",
        "\\end{equation}\n",
        "\n",
        "**Para sistemas de ordem maior do que dois uma opção é usar o método de Cramer $\\Rightarrow $ muito trabalhoso.**"
      ]
    },
    {
      "cell_type": "markdown",
      "metadata": {
        "id": "DhZuINkSwfBB"
      },
      "source": [
        "O determinante de uma matriz de dimensão $n$x$n$ é calculado pela soma dos \n",
        "cofatores da matriz:\n",
        "\n",
        "\\begin{equation}\n",
        "\\det \\left[ {{\\begin{array}{*{20}c}\n",
        " {a_{11} } \\hfill & {a_{12} } \\hfill & \\cdots \\hfill & {a_{1n} } \\hfill \\\\\n",
        " {a_{21} } \\hfill & {a_{22} } \\hfill & \\cdots \\hfill & {a_{2n} } \\hfill \\\\\n",
        " \\vdots \\hfill & \\vdots \\hfill & \\ddots \\hfill & \\vdots \\hfill \\\\\n",
        " {a_{n1} } \\hfill & {a_{n2} } \\hfill & \\cdots \\hfill & {a_{nn} } \\hfill \\\\\n",
        "\\end{array} }} \\right]_{(nxn)} =a_{11} A_{11} +a_{12} A_{12} +\\cdots +a_{1n} \n",
        "A_{1n} \n",
        "\\end{equation}\n",
        "\n",
        "onde $A_{ij}$ é o cofator dos elemento $a_{ij}$, dado por:\n",
        "\n",
        "\\begin{equation}\n",
        "A_{ij} =(-1)^{i+j}\\det {\\rm {\\bf D}}_{{\\rm {\\bf ij}}} \n",
        "\\end{equation}"
      ]
    },
    {
      "cell_type": "markdown",
      "metadata": {
        "id": "_y9Bk4uGuQq1"
      },
      "source": [
        "# **Observabilidade e controlabilidade**"
      ]
    },
    {
      "cell_type": "markdown",
      "metadata": {
        "id": "__WWbNfouUj4"
      },
      "source": [
        "Um sistema LIT é controlável se existe um vetor de entrada \n",
        "$\\textbf{u}(t)$ para 0 $\\le t \\le  \\quad T$, com $T  >$ 0 e finito, tal que o sistema vai da condição inicial $\\textbf{x}(0) =$ para qualquer estado \n",
        "$\\textbf{x}$ no intervalo de tempo $T$."
      ]
    },
    {
      "cell_type": "markdown",
      "metadata": {
        "id": "Meivhihcufnx"
      },
      "source": [
        "Iniciar em $t$ = 0 não é um caso especial. Se puder ir para qualquer estado em tempo finito, iniciando em $ t$ = 0, então se pode de qualquer condição inicial alcançar qualquer estado em tempo finito.\n",
        "\n",
        "Para controlabilidade basta considerar a solução forçada do sistema, ou seja:\n",
        "\n",
        "\\begin{equation}\n",
        "{\\rm {\\bf x}}(t)=\\int\\limits_0^t {e^{{\\rm {\\bf A}}(t-\\tau )}{\\rm {\\bf \n",
        "Bu}}(\\tau )d\\tau } .\n",
        "\\end{equation}\n",
        "\n",
        "\n",
        " A controlabilidade está associada à capacidade de influenciar todos os estados através das entradas do sistema.\n"
      ]
    },
    {
      "cell_type": "markdown",
      "metadata": {
        "id": "DHzdRoVqukvF"
      },
      "source": [
        "Seja um sistema de ordem $n$, dado por:\n",
        "\\begin{equation}\n",
        "{\\rm {\\bf \\dot {x}}}(t)={\\rm {\\bf Ax}}(t)+{\\rm {\\bf Bu}}(t),\n",
        "\\end{equation}\n",
        "onde $\\textbf{x}(t)  \\in  R^{n}$ e $\\textbf{u}(t) \\in   R^{m}$. \n",
        "\n",
        "Observe que para um sistema ser controlável basta analisar a equação dos \n",
        "estados, ou seja, o par de matrizes $\\textbf{A}$ e $\\textbf{B}$."
      ]
    },
    {
      "cell_type": "markdown",
      "metadata": {
        "id": "kJt3kS63up9B"
      },
      "source": [
        "Definindo a matriz de controlabilidade $\\textbf{M}_{C}$:\n",
        "\\begin{equation}\n",
        "{\\rm {\\bf M}}_{\\rm {\\bf C}} =\\left[ {{\\begin{array}{*{20}c}\n",
        " {\\rm {\\bf B}} \\hfill & {{\\rm {\\bf AB}}} \\hfill & {{\\rm {\\bf A}}^2{\\rm {\\bf \n",
        "B}}} \\hfill & \\cdots \\hfill & {{\\rm {\\bf A}}^{n-1}{\\rm {\\bf B}}} \\hfill \\\\\n",
        "\\end{array} }} \\right].\n",
        "\\end{equation}\n",
        "\n",
        "\n",
        "O sistema definido pelas matrizes ($\\textbf{A}, \\textbf{B}$) é \n",
        "controlável se rank($\\textbf{M}_{C})=n$. $\\textit{Rank}$ é igual ao posto de uma \n",
        "matriz, que representa o número de colunas ou linhas linearmente \n",
        "independentes da matriz.\n"
      ]
    },
    {
      "cell_type": "markdown",
      "metadata": {
        "id": "YylWMKXQuwc0"
      },
      "source": [
        "## **Observabilidade**"
      ]
    },
    {
      "cell_type": "markdown",
      "metadata": {
        "id": "_vspud56uz-7"
      },
      "source": [
        "Um sistema LIT é observável se qualquer condição inicial \n",
        "$\\textbf{x}(0)$ pode ser obtida conhecendo-se as entradas $\\textbf{u}(t)$ e as \n",
        "saídas $\\textbf{y}(t)$ do sistema para todo instante de tempo $t$ entre 0 e \n",
        "$T > 0$."
      ]
    },
    {
      "cell_type": "markdown",
      "metadata": {
        "id": "T69VRcsLu1gm"
      },
      "source": [
        "Se a condição inicial dos estados $\\textbf{x}(0)$ pode ser calculada, então se pode reconstruir o vetor de estados $\\textbf{x}(t)$ em qualquer instante de tempo. Note que se conhecendo a condição inicial $\\textbf{x}(0)$ e o vetor de entradas $\\textbf{u}(t)$ a todo instante, então se pode calcular $\\textbf{x}(t)$ em qualquer instante de tempo $t$.\n",
        "\n",
        "Para estudar observabilidade basta considerar o caso de u(t) = 0, ou seja, a solução homogênea, assim:\n",
        "\n",
        "\n",
        "\\begin{equation}\n",
        "{\\rm {\\bf y}}(t)={\\rm {\\bf C}}e^{{\\rm {\\bf A}}t}{\\rm {\\bf x}}(0).\n",
        "\\end{equation}\n",
        "\n",
        "**A observabilidade está associada à capacidade de \"ver\" todos os estados por meio das saídas do sistema.**\n"
      ]
    },
    {
      "cell_type": "markdown",
      "metadata": {
        "id": "rBG-rBrtu6bb"
      },
      "source": [
        "Seja um sistema de ordem $n$, com o vetor de entradas $\\textbf{u}(t)$ = 0, \n",
        "então tem-se:\n",
        "\n",
        "\\begin{equation}\n",
        "\\left\\{ {\\begin{array}{l}\n",
        " {\\rm {\\bf \\dot {x}}}(t)={\\rm {\\bf Ax}}(t); \\\\ \n",
        " {\\rm {\\bf y}}(t)={\\rm {\\bf Cx}}(t); \\\\ \n",
        " \\end{array}} \\right.,\n",
        "\\end{equation}\n",
        "\n",
        "onde $\\textbf{x}(t) \\in R^{n}$ e $\\textbf{y}(t) \\in  R^{p}$. Observe que \n",
        "para um sistema ser observável basta analisar o par de matrizes \n",
        "$\\textbf{A}$ e $\\textbf{C}$."
      ]
    },
    {
      "cell_type": "markdown",
      "metadata": {
        "id": "kXeKw3WHvB4G"
      },
      "source": [
        "Definindo a matriz de observabilidade $\\textbf{M}_{O}$:\n",
        "\n",
        "\\begin{equation}\n",
        "{\\rm {\\bf M}}_{\\rm {\\bf O}} =\\left[ {\\begin{array}{l}\n",
        " {\\rm {\\bf C}} \\\\ \n",
        " {\\rm {\\bf CA}} \\\\ \n",
        " {\\rm {\\bf CA}}^2 \\\\ \n",
        " \\vdots \\\\ \n",
        " {\\rm {\\bf CA}}^{n-1} \\\\ \n",
        " \\end{array}} \\right].\n",
        "\\end{equation}\n",
        "\n",
        "O sistema definido pelas matrizes ($\\textbf{A}, \\textbf{C}$) é \n",
        "observável se $ rank(\\textbf{M}_{O})=n$."
      ]
    },
    {
      "cell_type": "markdown",
      "metadata": {
        "id": "syHcGJ-MvHDa"
      },
      "source": [
        "## Estabilizabilidade e Dectectabilidade\n",
        "\n",
        "\n",
        "Para o controle de um sistema dinâmico podem-se usar condições \n",
        "mais fracas do que a controlabilidade e a observabilidade.\n",
        "\n",
        "$\\textbf{Sistema estabilizável}:$ um sistema é estabilizável se \n",
        "todos os seus modos dinâmicos instáveis forem controláveis.\n",
        "\n",
        "$\\textbf{Sistema detectável}:$ um sistema é detectável se todos os \n",
        "seus modos dinâmicos instáveis forem observáveis.\n",
        "\n",
        "Nessas condições existem dinâmicas no sistema que não se \n",
        "conhece e se podem influenciar via controle, mas se sabe que são pelo \n",
        "menos estáveis, ou seja, decaem para zero quando t $\\to \\infty $."
      ]
    },
    {
      "cell_type": "markdown",
      "metadata": {
        "id": "BqdjHbmbGTgr"
      },
      "source": [
        "# **Referências**"
      ]
    }
  ]
}