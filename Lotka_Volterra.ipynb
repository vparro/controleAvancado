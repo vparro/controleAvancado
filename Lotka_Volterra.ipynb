{
  "nbformat": 4,
  "nbformat_minor": 0,
  "metadata": {
    "colab": {
      "provenance": [],
      "collapsed_sections": [
        "dHs6egShr_TS",
        "X3Dl30me1HZD",
        "RZsoqRYYlf45",
        "gAqqDPxisHZs",
        "YfXl8OgvoHvp",
        "QpbDpNBErQAu",
        "KvO_HA05xr7D",
        "Mkt49gY3jvts",
        "Rudt10yYkA8v",
        "XtofEPbgtP0R",
        "64mckaSKtwMu"
      ],
      "mount_file_id": "1-F7D5R4Nk1ZNiE6N4MvrNnsSlGJmWy0E",
      "authorship_tag": "ABX9TyMirHn4ZCarsc0WyDelW42K",
      "include_colab_link": true
    },
    "kernelspec": {
      "name": "python3",
      "display_name": "Python 3"
    },
    "language_info": {
      "name": "python"
    }
  },
  "cells": [
    {
      "cell_type": "markdown",
      "metadata": {
        "id": "view-in-github",
        "colab_type": "text"
      },
      "source": [
        "<a href=\"https://colab.research.google.com/github/vparro/controleAvancado/blob/master/Lotka_Volterra.ipynb\" target=\"_parent\"><img src=\"https://colab.research.google.com/assets/colab-badge.svg\" alt=\"Open In Colab\"/></a>"
      ]
    },
    {
      "cell_type": "markdown",
      "metadata": {
        "id": "dHs6egShr_TS"
      },
      "source": [
        "# **Bibliotecas**"
      ]
    },
    {
      "cell_type": "code",
      "metadata": {
        "colab": {
          "base_uri": "https://localhost:8080/"
        },
        "id": "k5VCSHimuwXD",
        "outputId": "d4e2538d-fe91-4cb8-8b3b-f7bd0c074dd4"
      },
      "source": [
        "###################################################################################################\n",
        "#  Bibliotecas gerais\n",
        "#  Instalação\n",
        "\n",
        "!pip install xlrd"
      ],
      "execution_count": null,
      "outputs": [
        {
          "output_type": "stream",
          "text": [
            "Requirement already satisfied: xlrd in /usr/local/lib/python3.7/dist-packages (1.1.0)\n"
          ],
          "name": "stdout"
        }
      ]
    },
    {
      "cell_type": "code",
      "metadata": {
        "id": "IBxMK5jyu7U-"
      },
      "source": [
        "###################################################################################################\n",
        "#  Bibliotecas gerais\n",
        "#  \n",
        "\n",
        "import pandas as pd\n",
        "import numpy as np\n",
        "import matplotlib.pyplot as plt\n",
        "import numpy.linalg as npl\n",
        "from numpy.linalg import matrix_rank"
      ],
      "execution_count": null,
      "outputs": []
    },
    {
      "cell_type": "code",
      "metadata": {
        "colab": {
          "base_uri": "https://localhost:8080/"
        },
        "id": "fZ4KEPPomcJs",
        "outputId": "8e4d0354-3eab-4d6b-90bd-2cb44f5363c0"
      },
      "source": [
        "###################################################################################################\n",
        "#  Bibliotecas gráfica\n",
        "#  Instalação\n",
        "\n",
        "!pip install -U plotly\n",
        "# !pip install plotly==4.8.1\n",
        "\n",
        "# organização da planilha excel\n",
        "\n",
        "!pip install nltk\n",
        "\n",
        "# Exportando figuras com melhores resoluções\n",
        "\n",
        "!pip install -U kaleido\n",
        "\n",
        "!add-apt-repository -y ppa:cran/poppler\n",
        "!apt-get update\n",
        "!apt-get install -y libpoppler-cpp-dev\n",
        "!apt-get install poppler-utils"
      ],
      "execution_count": null,
      "outputs": [
        {
          "output_type": "stream",
          "text": [
            "Collecting plotly\n",
            "\u001b[?25l  Downloading https://files.pythonhosted.org/packages/1f/f6/bd3c17c8003b6641df1228e80e1acac97ed8402635e46c2571f8e1ef63af/plotly-4.14.3-py2.py3-none-any.whl (13.2MB)\n",
            "\u001b[K     |████████████████████████████████| 13.2MB 279kB/s \n",
            "\u001b[?25hRequirement already satisfied, skipping upgrade: retrying>=1.3.3 in /usr/local/lib/python3.7/dist-packages (from plotly) (1.3.3)\n",
            "Requirement already satisfied, skipping upgrade: six in /usr/local/lib/python3.7/dist-packages (from plotly) (1.15.0)\n",
            "Installing collected packages: plotly\n",
            "  Found existing installation: plotly 4.4.1\n",
            "    Uninstalling plotly-4.4.1:\n",
            "      Successfully uninstalled plotly-4.4.1\n",
            "Successfully installed plotly-4.14.3\n",
            "Requirement already satisfied: nltk in /usr/local/lib/python3.7/dist-packages (3.2.5)\n",
            "Requirement already satisfied: six in /usr/local/lib/python3.7/dist-packages (from nltk) (1.15.0)\n",
            "Collecting kaleido\n",
            "\u001b[?25l  Downloading https://files.pythonhosted.org/packages/ae/b3/a0f0f4faac229b0011d8c4a7ee6da7c2dca0b6fd08039c95920846f23ca4/kaleido-0.2.1-py2.py3-none-manylinux1_x86_64.whl (79.9MB)\n",
            "\u001b[K     |████████████████████████████████| 79.9MB 108kB/s \n",
            "\u001b[?25hInstalling collected packages: kaleido\n",
            "Successfully installed kaleido-0.2.1\n",
            "Get:1 https://cloud.r-project.org/bin/linux/ubuntu bionic-cran40/ InRelease [3,626 B]\n",
            "Ign:2 https://developer.download.nvidia.com/compute/cuda/repos/ubuntu1804/x86_64  InRelease\n",
            "Ign:3 https://developer.download.nvidia.com/compute/machine-learning/repos/ubuntu1804/x86_64  InRelease\n",
            "Get:4 http://security.ubuntu.com/ubuntu bionic-security InRelease [88.7 kB]\n",
            "Get:5 https://developer.download.nvidia.com/compute/cuda/repos/ubuntu1804/x86_64  Release [697 B]\n",
            "Hit:6 https://developer.download.nvidia.com/compute/machine-learning/repos/ubuntu1804/x86_64  Release\n",
            "Get:7 https://developer.download.nvidia.com/compute/cuda/repos/ubuntu1804/x86_64  Release.gpg [836 B]\n",
            "Get:8 http://ppa.launchpad.net/c2d4u.team/c2d4u4.0+/ubuntu bionic InRelease [15.9 kB]\n",
            "Hit:9 http://archive.ubuntu.com/ubuntu bionic InRelease\n",
            "Get:10 https://cloud.r-project.org/bin/linux/ubuntu bionic-cran40/ Packages [56.8 kB]\n",
            "Get:11 http://archive.ubuntu.com/ubuntu bionic-updates InRelease [88.7 kB]\n",
            "Hit:13 http://ppa.launchpad.net/cran/libgit2/ubuntu bionic InRelease\n",
            "Ign:14 https://developer.download.nvidia.com/compute/cuda/repos/ubuntu1804/x86_64  Packages\n",
            "Get:14 https://developer.download.nvidia.com/compute/cuda/repos/ubuntu1804/x86_64  Packages [770 kB]\n",
            "Get:15 http://archive.ubuntu.com/ubuntu bionic-backports InRelease [74.6 kB]\n",
            "Get:16 http://ppa.launchpad.net/cran/poppler/ubuntu bionic InRelease [15.9 kB]\n",
            "Get:17 http://security.ubuntu.com/ubuntu bionic-security/main amd64 Packages [2,148 kB]\n",
            "Hit:18 http://ppa.launchpad.net/deadsnakes/ppa/ubuntu bionic InRelease\n",
            "Get:19 http://ppa.launchpad.net/graphics-drivers/ppa/ubuntu bionic InRelease [21.3 kB]\n",
            "Get:20 http://security.ubuntu.com/ubuntu bionic-security/universe amd64 Packages [1,411 kB]\n",
            "Get:21 http://security.ubuntu.com/ubuntu bionic-security/restricted amd64 Packages [422 kB]\n",
            "Get:22 http://ppa.launchpad.net/c2d4u.team/c2d4u4.0+/ubuntu bionic/main Sources [1,759 kB]\n",
            "Get:23 http://archive.ubuntu.com/ubuntu bionic-updates/universe amd64 Packages [2,183 kB]\n",
            "Get:24 http://archive.ubuntu.com/ubuntu bionic-updates/main amd64 Packages [2,581 kB]\n",
            "Get:25 http://archive.ubuntu.com/ubuntu bionic-updates/restricted amd64 Packages [452 kB]\n",
            "Get:26 http://ppa.launchpad.net/c2d4u.team/c2d4u4.0+/ubuntu bionic/main amd64 Packages [900 kB]\n",
            "Get:27 http://ppa.launchpad.net/cran/poppler/ubuntu bionic/main amd64 Packages [2,602 B]\n",
            "Get:28 http://ppa.launchpad.net/graphics-drivers/ppa/ubuntu bionic/main amd64 Packages [41.5 kB]\n",
            "Fetched 13.0 MB in 5s (2,498 kB/s)\n",
            "Reading package lists... Done\n",
            "Hit:1 https://cloud.r-project.org/bin/linux/ubuntu bionic-cran40/ InRelease\n",
            "Ign:2 https://developer.download.nvidia.com/compute/cuda/repos/ubuntu1804/x86_64  InRelease\n",
            "Ign:3 https://developer.download.nvidia.com/compute/machine-learning/repos/ubuntu1804/x86_64  InRelease\n",
            "Hit:4 https://developer.download.nvidia.com/compute/cuda/repos/ubuntu1804/x86_64  Release\n",
            "Hit:5 https://developer.download.nvidia.com/compute/machine-learning/repos/ubuntu1804/x86_64  Release\n",
            "Hit:6 http://archive.ubuntu.com/ubuntu bionic InRelease\n",
            "Hit:7 http://ppa.launchpad.net/c2d4u.team/c2d4u4.0+/ubuntu bionic InRelease\n",
            "Hit:8 http://security.ubuntu.com/ubuntu bionic-security InRelease\n",
            "Hit:9 http://archive.ubuntu.com/ubuntu bionic-updates InRelease\n",
            "Hit:11 http://ppa.launchpad.net/cran/libgit2/ubuntu bionic InRelease\n",
            "Hit:12 http://archive.ubuntu.com/ubuntu bionic-backports InRelease\n",
            "Hit:14 http://ppa.launchpad.net/cran/poppler/ubuntu bionic InRelease\n",
            "Hit:15 http://ppa.launchpad.net/deadsnakes/ppa/ubuntu bionic InRelease\n",
            "Hit:16 http://ppa.launchpad.net/graphics-drivers/ppa/ubuntu bionic InRelease\n",
            "Reading package lists... Done\n",
            "Reading package lists... Done\n",
            "Building dependency tree       \n",
            "Reading state information... Done\n",
            "The following package was automatically installed and is no longer required:\n",
            "  libnvidia-common-460\n",
            "Use 'apt autoremove' to remove it.\n",
            "The following additional packages will be installed:\n",
            "  libpoppler-cpp0v5 libpoppler-dev libpoppler-private-dev libpoppler85\n",
            "  poppler-data\n",
            "Suggested packages:\n",
            "  poppler-utils ghostscript fonts-japanese-mincho | fonts-ipafont-mincho\n",
            "  fonts-japanese-gothic | fonts-ipafont-gothic fonts-arphic-ukai\n",
            "  fonts-arphic-uming fonts-nanum\n",
            "The following NEW packages will be installed:\n",
            "  libpoppler-cpp-dev libpoppler-cpp0v5 libpoppler85 poppler-data\n",
            "The following packages will be upgraded:\n",
            "  libpoppler-dev libpoppler-private-dev\n",
            "2 upgraded, 4 newly installed, 0 to remove and 59 not upgraded.\n",
            "Need to get 2,696 kB of archives.\n",
            "After this operation, 15.9 MB of additional disk space will be used.\n",
            "Get:1 http://archive.ubuntu.com/ubuntu bionic/main amd64 poppler-data all 0.4.8-2 [1,479 kB]\n",
            "Get:2 http://ppa.launchpad.net/cran/poppler/ubuntu bionic/main amd64 libpoppler85 amd64 0.74.0-bionic0 [914 kB]\n",
            "Get:3 http://ppa.launchpad.net/cran/poppler/ubuntu bionic/main amd64 libpoppler-cpp0v5 amd64 0.74.0-bionic0 [55.3 kB]\n",
            "Get:4 http://ppa.launchpad.net/cran/poppler/ubuntu bionic/main amd64 libpoppler-private-dev amd64 0.74.0-bionic0 [194 kB]\n",
            "Get:5 http://ppa.launchpad.net/cran/poppler/ubuntu bionic/main amd64 libpoppler-dev amd64 0.74.0-bionic0 [24.6 kB]\n",
            "Get:6 http://ppa.launchpad.net/cran/poppler/ubuntu bionic/main amd64 libpoppler-cpp-dev amd64 0.74.0-bionic0 [29.7 kB]\n",
            "Fetched 2,696 kB in 4s (751 kB/s)\n",
            "Selecting previously unselected package poppler-data.\n",
            "(Reading database ... 160706 files and directories currently installed.)\n",
            "Preparing to unpack .../0-poppler-data_0.4.8-2_all.deb ...\n",
            "Unpacking poppler-data (0.4.8-2) ...\n",
            "Selecting previously unselected package libpoppler85:amd64.\n",
            "Preparing to unpack .../1-libpoppler85_0.74.0-bionic0_amd64.deb ...\n",
            "Unpacking libpoppler85:amd64 (0.74.0-bionic0) ...\n",
            "Selecting previously unselected package libpoppler-cpp0v5:amd64.\n",
            "Preparing to unpack .../2-libpoppler-cpp0v5_0.74.0-bionic0_amd64.deb ...\n",
            "Unpacking libpoppler-cpp0v5:amd64 (0.74.0-bionic0) ...\n",
            "Preparing to unpack .../3-libpoppler-private-dev_0.74.0-bionic0_amd64.deb ...\n",
            "Unpacking libpoppler-private-dev:amd64 (0.74.0-bionic0) over (0.62.0-2ubuntu2.12) ...\n",
            "Preparing to unpack .../4-libpoppler-dev_0.74.0-bionic0_amd64.deb ...\n",
            "Unpacking libpoppler-dev:amd64 (0.74.0-bionic0) over (0.62.0-2ubuntu2.12) ...\n",
            "Selecting previously unselected package libpoppler-cpp-dev:amd64.\n",
            "Preparing to unpack .../5-libpoppler-cpp-dev_0.74.0-bionic0_amd64.deb ...\n",
            "Unpacking libpoppler-cpp-dev:amd64 (0.74.0-bionic0) ...\n",
            "Setting up poppler-data (0.4.8-2) ...\n",
            "Setting up libpoppler85:amd64 (0.74.0-bionic0) ...\n",
            "Setting up libpoppler-dev:amd64 (0.74.0-bionic0) ...\n",
            "Setting up libpoppler-cpp0v5:amd64 (0.74.0-bionic0) ...\n",
            "Setting up libpoppler-private-dev:amd64 (0.74.0-bionic0) ...\n",
            "Setting up libpoppler-cpp-dev:amd64 (0.74.0-bionic0) ...\n",
            "Processing triggers for fontconfig (2.12.6-0ubuntu2) ...\n",
            "Processing triggers for libc-bin (2.27-3ubuntu1.2) ...\n",
            "/sbin/ldconfig.real: /usr/local/lib/python3.7/dist-packages/ideep4py/lib/libmkldnn.so.0 is not a symbolic link\n",
            "\n",
            "Reading package lists... Done\n",
            "Building dependency tree       \n",
            "Reading state information... Done\n",
            "The following package was automatically installed and is no longer required:\n",
            "  libnvidia-common-460\n",
            "Use 'apt autoremove' to remove it.\n",
            "The following NEW packages will be installed:\n",
            "  poppler-utils\n",
            "0 upgraded, 1 newly installed, 0 to remove and 59 not upgraded.\n",
            "Need to get 184 kB of archives.\n",
            "After this operation, 637 kB of additional disk space will be used.\n",
            "Get:1 http://ppa.launchpad.net/cran/poppler/ubuntu bionic/main amd64 poppler-utils amd64 0.74.0-bionic0 [184 kB]\n",
            "Fetched 184 kB in 1s (214 kB/s)\n",
            "Selecting previously unselected package poppler-utils.\n",
            "(Reading database ... 161252 files and directories currently installed.)\n",
            "Preparing to unpack .../poppler-utils_0.74.0-bionic0_amd64.deb ...\n",
            "Unpacking poppler-utils (0.74.0-bionic0) ...\n",
            "Setting up poppler-utils (0.74.0-bionic0) ...\n",
            "Processing triggers for man-db (2.8.3-2ubuntu0.1) ...\n"
          ],
          "name": "stdout"
        }
      ]
    },
    {
      "cell_type": "code",
      "metadata": {
        "id": "jHpSWFh9mwjE"
      },
      "source": [
        "###################################################################################################\n",
        "#  Bibliotecas gráfica\n",
        "# \n",
        "# \n",
        "\n",
        "import plotly.express as px\n",
        "import plotly.figure_factory as ff\n",
        "\n",
        "from plotly.subplots import make_subplots\n",
        "import plotly.graph_objects as go\n",
        "\n",
        "# Diretório de imagens\n",
        "import os\n",
        "if not os.path.exists(\"images\"):\n",
        "    os.mkdir(\"images\")\n"
      ],
      "execution_count": null,
      "outputs": []
    },
    {
      "cell_type": "markdown",
      "metadata": {
        "id": "X3Dl30me1HZD"
      },
      "source": [
        "## **Controle**"
      ]
    },
    {
      "cell_type": "code",
      "metadata": {
        "colab": {
          "base_uri": "https://localhost:8080/"
        },
        "id": "6MD7HGs91HAn",
        "outputId": "2afc8f2e-3066-482a-a541-f9e4ce76da44"
      },
      "source": [
        "###################################################################################################\n",
        "# Biblioteca de controle e sistemas dinâmicos\n",
        "# Instalação\n",
        "\n",
        "!git clone https://github.com/python-control/python-control.git\n",
        "\n",
        "!pip install slycot   # optional\n",
        "!pip install control\n",
        "\n"
      ],
      "execution_count": null,
      "outputs": [
        {
          "output_type": "stream",
          "text": [
            "Cloning into 'python-control'...\n",
            "remote: Enumerating objects: 7581, done.\u001b[K\n",
            "remote: Counting objects: 100% (461/461), done.\u001b[K\n",
            "remote: Compressing objects: 100% (154/154), done.\u001b[K\n",
            "remote: Total 7581 (delta 326), reused 414 (delta 307), pack-reused 7120\u001b[K\n",
            "Receiving objects: 100% (7581/7581), 8.40 MiB | 19.63 MiB/s, done.\n",
            "Resolving deltas: 100% (5634/5634), done.\n",
            "Collecting slycot\n",
            "\u001b[?25l  Downloading https://files.pythonhosted.org/packages/85/21/4e7110462f3529b2fbcff8a519b61bf64e0604b8fcbe9a07649c9bed9d7a/slycot-0.4.0.0.tar.gz (1.5MB)\n",
            "\u001b[K     |████████████████████████████████| 1.6MB 9.2MB/s \n",
            "\u001b[?25h  Installing build dependencies ... \u001b[?25l\u001b[?25hdone\n",
            "  Getting requirements to build wheel ... \u001b[?25l\u001b[?25hdone\n",
            "    Preparing wheel metadata ... \u001b[?25l\u001b[?25hdone\n",
            "Requirement already satisfied: numpy in /usr/local/lib/python3.7/dist-packages (from slycot) (1.19.5)\n",
            "Building wheels for collected packages: slycot\n",
            "  Building wheel for slycot (PEP 517) ... \u001b[?25l\u001b[?25hdone\n",
            "  Created wheel for slycot: filename=slycot-0.4.0-cp37-cp37m-linux_x86_64.whl size=1417832 sha256=6a44343305c76dad03d6790ad69d3431d6206302f0bc42755741f3b1fa211531\n",
            "  Stored in directory: /root/.cache/pip/wheels/a2/46/56/f82cbb2fd06556f4f3952a2eb2396e8fd29264fffecbaad3cf\n",
            "Successfully built slycot\n",
            "Installing collected packages: slycot\n",
            "Successfully installed slycot-0.4.0\n",
            "Collecting control\n",
            "\u001b[?25l  Downloading https://files.pythonhosted.org/packages/88/87/ee6cb7cdcf4efe5634231bd688b307773629a100ec4c83b0c3eb03edd39d/control-0.9.0.tar.gz (339kB)\n",
            "\u001b[K     |████████████████████████████████| 348kB 9.2MB/s \n",
            "\u001b[?25hRequirement already satisfied: numpy in /usr/local/lib/python3.7/dist-packages (from control) (1.19.5)\n",
            "Requirement already satisfied: scipy in /usr/local/lib/python3.7/dist-packages (from control) (1.4.1)\n",
            "Requirement already satisfied: matplotlib in /usr/local/lib/python3.7/dist-packages (from control) (3.2.2)\n",
            "Requirement already satisfied: cycler>=0.10 in /usr/local/lib/python3.7/dist-packages (from matplotlib->control) (0.10.0)\n",
            "Requirement already satisfied: kiwisolver>=1.0.1 in /usr/local/lib/python3.7/dist-packages (from matplotlib->control) (1.3.1)\n",
            "Requirement already satisfied: pyparsing!=2.0.4,!=2.1.2,!=2.1.6,>=2.0.1 in /usr/local/lib/python3.7/dist-packages (from matplotlib->control) (2.4.7)\n",
            "Requirement already satisfied: python-dateutil>=2.1 in /usr/local/lib/python3.7/dist-packages (from matplotlib->control) (2.8.1)\n",
            "Requirement already satisfied: six in /usr/local/lib/python3.7/dist-packages (from cycler>=0.10->matplotlib->control) (1.15.0)\n",
            "Building wheels for collected packages: control\n",
            "  Building wheel for control (setup.py) ... \u001b[?25l\u001b[?25hdone\n",
            "  Created wheel for control: filename=control-0.9.0-py2.py3-none-any.whl size=344920 sha256=30d0daf864a6d1b4618a605cf151585f1b82aa33e0a22aa7672cfeb4a7468461\n",
            "  Stored in directory: /root/.cache/pip/wheels/35/be/ee/081b68ca3e4b2d253fba2f7f7e51960373903fb7b6d13c5532\n",
            "Successfully built control\n",
            "Installing collected packages: control\n",
            "Successfully installed control-0.9.0\n"
          ],
          "name": "stdout"
        }
      ]
    },
    {
      "cell_type": "code",
      "metadata": {
        "id": "Cvq7M0fhijrj"
      },
      "source": [
        "###################################################################################################\n",
        "# Biblioteca de controle e sistemas dinâmicos\n",
        "# \n",
        "\n",
        "import control\n",
        "from control import impulse_response, step_response\n"
      ],
      "execution_count": null,
      "outputs": []
    },
    {
      "cell_type": "markdown",
      "metadata": {
        "id": "RZsoqRYYlf45"
      },
      "source": [
        "# **Funções proprietárias**"
      ]
    },
    {
      "cell_type": "code",
      "metadata": {
        "id": "FO3VjK4Hljbp"
      },
      "source": [
        "def graphics_plot(x, y, y_name, yaxes_title, title='Title', bins=1, x_tick=1, save=False):\n",
        "\n",
        "  '''\n",
        "  y = [y1, y2, y3, y4]\n",
        "\n",
        "  y_name = ['y1 name', 'y2 name', 'y3 name', 'y4 name']\n",
        "\n",
        "  bins = number of bins for x scale\n",
        "\n",
        "  title = 'Title'\n",
        "\n",
        "  yaxes_title = ['Title yaxes1', 'Title yaxes2', 'Title yaxes3', 'Title yaxes4']\n",
        "\n",
        "  x_tick = dtick for axis x\n",
        "\n",
        "  save = True -> save graphics as image (images/title.eps) \n",
        "  '''\n",
        "\n",
        "  # Create figure with secondary y-axis\n",
        "  fig = make_subplots(specs=[[{'secondary_y': True}]])\n",
        "\n",
        "  # Markers\n",
        "  markers = ['circle','star','diamond','x']\n",
        "\n",
        "  # Lines\n",
        "  dash = ['dash','dot','dashdot']\n",
        "\n",
        "  for i, v in enumerate(y):\n",
        "    \n",
        "    if (len(yaxes_title) == 1) | (i < len(y) - 1):\n",
        "      on = False\n",
        "    else:\n",
        "      on = True\n",
        "\n",
        "    if i == 0:\n",
        "      # Add traces\n",
        "      fig.add_trace(\n",
        "          go.Scatter(x=x,\n",
        "          y=v, name=y_name[i],\n",
        "          marker_symbol=markers[i],\n",
        "          marker_size=7,\n",
        "          mode='lines+markers',\n",
        "          line=dict(color='rgb(0, 0, 0)',\n",
        "          width=2)),\n",
        "          # line_shape='spline'),\n",
        "          secondary_y=False)\n",
        "      \n",
        "    else:\n",
        "      # Add traces\n",
        "      fig.add_trace(\n",
        "          go.Scatter(x=x,\n",
        "          y=v, name=y_name[i],\n",
        "          marker_symbol=markers[i],\n",
        "          marker_size=7,\n",
        "          mode='lines+markers',\n",
        "          line=dict(color='rgb(0, 0, 0)',\n",
        "          width=2,dash=dash[i-1])),\n",
        "          # line_shape='spline'),\n",
        "          secondary_y=on)\n",
        "  \n",
        "  # Add figure title\n",
        "  fig.update_layout(title_text=title)\n",
        "  \n",
        "  # Set x-axis title\n",
        "  fig.update_xaxes(title_text='Ano relativo')\n",
        "\n",
        "  # Set y-axes titles\n",
        "  if len(yaxes_title) > 1:\n",
        "    fig.update_yaxes(title_text='<b>'+ yaxes_title[0] +'</b>', secondary_y=False)\n",
        "    fig.update_yaxes(title_text='<b>'+ yaxes_title[1] +'</b>', secondary_y=True)\n",
        "  else:\n",
        "    fig.update_yaxes(title_text='<b>'+ yaxes_title[0] +'</b>', secondary_y=False)\n",
        "\n",
        "  \n",
        "  fig.update_xaxes(showgrid=True, gridwidth=1, gridcolor='black')\n",
        "  fig.update_yaxes(showgrid=False, gridwidth=1, gridcolor='black')\n",
        "\n",
        "  fig.update_xaxes(showline=True, linewidth=2, linecolor='black', mirror=True)\n",
        "  fig.update_yaxes(showline=True, linewidth=2, linecolor='black', mirror=True)\n",
        "\n",
        "  fig.update_layout(\n",
        "      paper_bgcolor='rgba(0,0,0,0)',\n",
        "      plot_bgcolor='rgba(0,0,0,0)'\n",
        "  )\n",
        "\n",
        "  fig.update_layout(\n",
        "      xaxis=dict(\n",
        "      tickmode='linear',\n",
        "      tick0=0,\n",
        "      dtick=x_tick\n",
        "  ))\n",
        "\n",
        "  fig.update_layout(legend=dict(\n",
        "    orientation='h',\n",
        "    yanchor='bottom',\n",
        "    y=1.01,\n",
        "    xanchor='right',\n",
        "    x=0.95\n",
        "  ))\n",
        "\n",
        "  fig.show()\n",
        "\n",
        "  if save:\n",
        "    fig.write_image('images/'+title+'.eps')"
      ],
      "execution_count": null,
      "outputs": []
    },
    {
      "cell_type": "markdown",
      "metadata": {
        "id": "gAqqDPxisHZs"
      },
      "source": [
        "# **Dados**"
      ]
    },
    {
      "cell_type": "code",
      "metadata": {
        "id": "iqrBk1yJs_O4",
        "colab": {
          "base_uri": "https://localhost:8080/",
          "height": 204
        },
        "outputId": "4848da73-80c7-4079-d626-e47b65edd44d"
      },
      "source": [
        "###################################################################################################\n",
        "#  Dados para análise do modelo\n",
        "\n",
        "dadosPP = '/content/drive/MyDrive/Colab Notebooks/1 - Sistemas Dinâmicos/Fur_Pelts_1900_to_1920.xlsx'\n",
        "dfPP = pd.read_excel(dadosPP,sheet_name='Raw Data')\n",
        "dfPP.head()"
      ],
      "execution_count": null,
      "outputs": [
        {
          "output_type": "execute_result",
          "data": {
            "text/html": [
              "<div>\n",
              "<style scoped>\n",
              "    .dataframe tbody tr th:only-of-type {\n",
              "        vertical-align: middle;\n",
              "    }\n",
              "\n",
              "    .dataframe tbody tr th {\n",
              "        vertical-align: top;\n",
              "    }\n",
              "\n",
              "    .dataframe thead th {\n",
              "        text-align: right;\n",
              "    }\n",
              "</style>\n",
              "<table border=\"1\" class=\"dataframe\">\n",
              "  <thead>\n",
              "    <tr style=\"text-align: right;\">\n",
              "      <th></th>\n",
              "      <th>Year</th>\n",
              "      <th>Hare</th>\n",
              "      <th>Lynx</th>\n",
              "    </tr>\n",
              "  </thead>\n",
              "  <tbody>\n",
              "    <tr>\n",
              "      <th>0</th>\n",
              "      <td>1900</td>\n",
              "      <td>30000</td>\n",
              "      <td>4000</td>\n",
              "    </tr>\n",
              "    <tr>\n",
              "      <th>1</th>\n",
              "      <td>1901</td>\n",
              "      <td>47200</td>\n",
              "      <td>6100</td>\n",
              "    </tr>\n",
              "    <tr>\n",
              "      <th>2</th>\n",
              "      <td>1902</td>\n",
              "      <td>70200</td>\n",
              "      <td>9800</td>\n",
              "    </tr>\n",
              "    <tr>\n",
              "      <th>3</th>\n",
              "      <td>1903</td>\n",
              "      <td>77400</td>\n",
              "      <td>35200</td>\n",
              "    </tr>\n",
              "    <tr>\n",
              "      <th>4</th>\n",
              "      <td>1904</td>\n",
              "      <td>36300</td>\n",
              "      <td>59400</td>\n",
              "    </tr>\n",
              "  </tbody>\n",
              "</table>\n",
              "</div>"
            ],
            "text/plain": [
              "   Year   Hare   Lynx\n",
              "0  1900  30000   4000\n",
              "1  1901  47200   6100\n",
              "2  1902  70200   9800\n",
              "3  1903  77400  35200\n",
              "4  1904  36300  59400"
            ]
          },
          "metadata": {
            "tags": []
          },
          "execution_count": 8
        }
      ]
    },
    {
      "cell_type": "code",
      "metadata": {
        "id": "ScfTfWuNvKeq"
      },
      "source": [
        "###################################################################################################\n",
        "#  Dados para análise do modelo\n",
        "\n",
        "hare = np.array(dfPP['Hare']/1000)\n",
        "lynx = np.array(dfPP['Lynx']/1000)\n",
        "ano  = np.array(dfPP['Year'] - 1900)"
      ],
      "execution_count": null,
      "outputs": []
    },
    {
      "cell_type": "code",
      "metadata": {
        "colab": {
          "base_uri": "https://localhost:8080/",
          "height": 542
        },
        "id": "NhNaPENTl1_p",
        "outputId": "c8175b16-a910-4f28-c818-0eeed6299b21"
      },
      "source": [
        "graphics_plot(ano, [hare,lynx], ['presa','predador'],['presa','predador'] , title='Lotka_Volterra', bins=1, x_tick=1, save=False)"
      ],
      "execution_count": null,
      "outputs": [
        {
          "output_type": "display_data",
          "data": {
            "text/html": [
              "<html>\n",
              "<head><meta charset=\"utf-8\" /></head>\n",
              "<body>\n",
              "    <div>            <script src=\"https://cdnjs.cloudflare.com/ajax/libs/mathjax/2.7.5/MathJax.js?config=TeX-AMS-MML_SVG\"></script><script type=\"text/javascript\">if (window.MathJax) {MathJax.Hub.Config({SVG: {font: \"STIX-Web\"}});}</script>                <script type=\"text/javascript\">window.PlotlyConfig = {MathJaxConfig: 'local'};</script>\n",
              "        <script src=\"https://cdn.plot.ly/plotly-latest.min.js\"></script>                <div id=\"a95b85b5-df06-4915-865b-a002623a2079\" class=\"plotly-graph-div\" style=\"height:525px; width:100%;\"></div>            <script type=\"text/javascript\">                                    window.PLOTLYENV=window.PLOTLYENV || {};                                    if (document.getElementById(\"a95b85b5-df06-4915-865b-a002623a2079\")) {                    Plotly.newPlot(                        \"a95b85b5-df06-4915-865b-a002623a2079\",                        [{\"line\": {\"color\": \"rgb(0, 0, 0)\", \"width\": 2}, \"marker\": {\"size\": 7, \"symbol\": \"circle\"}, \"mode\": \"lines+markers\", \"name\": \"presa\", \"type\": \"scatter\", \"x\": [0, 1, 2, 3, 4, 5, 6, 7, 8, 9, 10, 11, 12, 13, 14, 15, 16, 17, 18, 19, 20], \"xaxis\": \"x\", \"y\": [30.0, 47.2, 70.2, 77.4, 36.3, 20.6, 18.1, 21.4, 22.0, 25.4, 27.1, 40.3, 57.0, 76.6, 52.3, 19.5, 11.2, 7.6, 14.6, 16.2, 24.7], \"yaxis\": \"y\"}, {\"line\": {\"color\": \"rgb(0, 0, 0)\", \"dash\": \"dash\", \"width\": 2}, \"marker\": {\"size\": 7, \"symbol\": \"star\"}, \"mode\": \"lines+markers\", \"name\": \"predador\", \"type\": \"scatter\", \"x\": [0, 1, 2, 3, 4, 5, 6, 7, 8, 9, 10, 11, 12, 13, 14, 15, 16, 17, 18, 19, 20], \"xaxis\": \"x\", \"y\": [4.0, 6.1, 9.8, 35.2, 59.4, 41.7, 19.0, 13.0, 8.3, 9.1, 7.4, 8.0, 12.3, 19.5, 45.7, 51.1, 29.7, 15.8, 9.7, 10.1, 8.6], \"yaxis\": \"y2\"}],                        {\"legend\": {\"orientation\": \"h\", \"x\": 0.95, \"xanchor\": \"right\", \"y\": 1.01, \"yanchor\": \"bottom\"}, \"paper_bgcolor\": \"rgba(0,0,0,0)\", \"plot_bgcolor\": \"rgba(0,0,0,0)\", \"template\": {\"data\": {\"bar\": [{\"error_x\": {\"color\": \"#2a3f5f\"}, \"error_y\": {\"color\": \"#2a3f5f\"}, \"marker\": {\"line\": {\"color\": \"#E5ECF6\", \"width\": 0.5}}, \"type\": \"bar\"}], \"barpolar\": [{\"marker\": {\"line\": {\"color\": \"#E5ECF6\", \"width\": 0.5}}, \"type\": \"barpolar\"}], \"carpet\": [{\"aaxis\": {\"endlinecolor\": \"#2a3f5f\", \"gridcolor\": \"white\", \"linecolor\": \"white\", \"minorgridcolor\": \"white\", \"startlinecolor\": \"#2a3f5f\"}, \"baxis\": {\"endlinecolor\": \"#2a3f5f\", \"gridcolor\": \"white\", \"linecolor\": \"white\", \"minorgridcolor\": \"white\", \"startlinecolor\": \"#2a3f5f\"}, \"type\": \"carpet\"}], \"choropleth\": [{\"colorbar\": {\"outlinewidth\": 0, \"ticks\": \"\"}, \"type\": \"choropleth\"}], \"contour\": [{\"colorbar\": {\"outlinewidth\": 0, \"ticks\": \"\"}, \"colorscale\": [[0.0, \"#0d0887\"], [0.1111111111111111, \"#46039f\"], [0.2222222222222222, \"#7201a8\"], [0.3333333333333333, \"#9c179e\"], [0.4444444444444444, \"#bd3786\"], [0.5555555555555556, \"#d8576b\"], [0.6666666666666666, \"#ed7953\"], [0.7777777777777778, \"#fb9f3a\"], [0.8888888888888888, \"#fdca26\"], [1.0, \"#f0f921\"]], \"type\": \"contour\"}], \"contourcarpet\": [{\"colorbar\": {\"outlinewidth\": 0, \"ticks\": \"\"}, \"type\": \"contourcarpet\"}], \"heatmap\": [{\"colorbar\": {\"outlinewidth\": 0, \"ticks\": \"\"}, \"colorscale\": [[0.0, \"#0d0887\"], [0.1111111111111111, \"#46039f\"], [0.2222222222222222, \"#7201a8\"], [0.3333333333333333, \"#9c179e\"], [0.4444444444444444, \"#bd3786\"], [0.5555555555555556, \"#d8576b\"], [0.6666666666666666, \"#ed7953\"], [0.7777777777777778, \"#fb9f3a\"], [0.8888888888888888, \"#fdca26\"], [1.0, \"#f0f921\"]], \"type\": \"heatmap\"}], \"heatmapgl\": [{\"colorbar\": {\"outlinewidth\": 0, \"ticks\": \"\"}, \"colorscale\": [[0.0, \"#0d0887\"], [0.1111111111111111, \"#46039f\"], [0.2222222222222222, \"#7201a8\"], [0.3333333333333333, \"#9c179e\"], [0.4444444444444444, \"#bd3786\"], [0.5555555555555556, \"#d8576b\"], [0.6666666666666666, \"#ed7953\"], [0.7777777777777778, \"#fb9f3a\"], [0.8888888888888888, \"#fdca26\"], [1.0, \"#f0f921\"]], \"type\": \"heatmapgl\"}], \"histogram\": [{\"marker\": {\"colorbar\": {\"outlinewidth\": 0, \"ticks\": \"\"}}, \"type\": \"histogram\"}], \"histogram2d\": [{\"colorbar\": {\"outlinewidth\": 0, \"ticks\": \"\"}, \"colorscale\": [[0.0, \"#0d0887\"], [0.1111111111111111, \"#46039f\"], [0.2222222222222222, \"#7201a8\"], [0.3333333333333333, \"#9c179e\"], [0.4444444444444444, \"#bd3786\"], [0.5555555555555556, \"#d8576b\"], [0.6666666666666666, \"#ed7953\"], [0.7777777777777778, \"#fb9f3a\"], [0.8888888888888888, \"#fdca26\"], [1.0, \"#f0f921\"]], \"type\": \"histogram2d\"}], \"histogram2dcontour\": [{\"colorbar\": {\"outlinewidth\": 0, \"ticks\": \"\"}, \"colorscale\": [[0.0, \"#0d0887\"], [0.1111111111111111, \"#46039f\"], [0.2222222222222222, \"#7201a8\"], [0.3333333333333333, \"#9c179e\"], [0.4444444444444444, \"#bd3786\"], [0.5555555555555556, \"#d8576b\"], [0.6666666666666666, \"#ed7953\"], [0.7777777777777778, \"#fb9f3a\"], [0.8888888888888888, \"#fdca26\"], [1.0, \"#f0f921\"]], \"type\": \"histogram2dcontour\"}], \"mesh3d\": [{\"colorbar\": {\"outlinewidth\": 0, \"ticks\": \"\"}, \"type\": \"mesh3d\"}], \"parcoords\": [{\"line\": {\"colorbar\": {\"outlinewidth\": 0, \"ticks\": \"\"}}, \"type\": \"parcoords\"}], \"pie\": [{\"automargin\": true, \"type\": \"pie\"}], \"scatter\": [{\"marker\": {\"colorbar\": {\"outlinewidth\": 0, \"ticks\": \"\"}}, \"type\": \"scatter\"}], \"scatter3d\": [{\"line\": {\"colorbar\": {\"outlinewidth\": 0, \"ticks\": \"\"}}, \"marker\": {\"colorbar\": {\"outlinewidth\": 0, \"ticks\": \"\"}}, \"type\": \"scatter3d\"}], \"scattercarpet\": [{\"marker\": {\"colorbar\": {\"outlinewidth\": 0, \"ticks\": \"\"}}, \"type\": \"scattercarpet\"}], \"scattergeo\": [{\"marker\": {\"colorbar\": {\"outlinewidth\": 0, \"ticks\": \"\"}}, \"type\": \"scattergeo\"}], \"scattergl\": [{\"marker\": {\"colorbar\": {\"outlinewidth\": 0, \"ticks\": \"\"}}, \"type\": \"scattergl\"}], \"scattermapbox\": [{\"marker\": {\"colorbar\": {\"outlinewidth\": 0, \"ticks\": \"\"}}, \"type\": \"scattermapbox\"}], \"scatterpolar\": [{\"marker\": {\"colorbar\": {\"outlinewidth\": 0, \"ticks\": \"\"}}, \"type\": \"scatterpolar\"}], \"scatterpolargl\": [{\"marker\": {\"colorbar\": {\"outlinewidth\": 0, \"ticks\": \"\"}}, \"type\": \"scatterpolargl\"}], \"scatterternary\": [{\"marker\": {\"colorbar\": {\"outlinewidth\": 0, \"ticks\": \"\"}}, \"type\": \"scatterternary\"}], \"surface\": [{\"colorbar\": {\"outlinewidth\": 0, \"ticks\": \"\"}, \"colorscale\": [[0.0, \"#0d0887\"], [0.1111111111111111, \"#46039f\"], [0.2222222222222222, \"#7201a8\"], [0.3333333333333333, \"#9c179e\"], [0.4444444444444444, \"#bd3786\"], [0.5555555555555556, \"#d8576b\"], [0.6666666666666666, \"#ed7953\"], [0.7777777777777778, \"#fb9f3a\"], [0.8888888888888888, \"#fdca26\"], [1.0, \"#f0f921\"]], \"type\": \"surface\"}], \"table\": [{\"cells\": {\"fill\": {\"color\": \"#EBF0F8\"}, \"line\": {\"color\": \"white\"}}, \"header\": {\"fill\": {\"color\": \"#C8D4E3\"}, \"line\": {\"color\": \"white\"}}, \"type\": \"table\"}]}, \"layout\": {\"annotationdefaults\": {\"arrowcolor\": \"#2a3f5f\", \"arrowhead\": 0, \"arrowwidth\": 1}, \"autotypenumbers\": \"strict\", \"coloraxis\": {\"colorbar\": {\"outlinewidth\": 0, \"ticks\": \"\"}}, \"colorscale\": {\"diverging\": [[0, \"#8e0152\"], [0.1, \"#c51b7d\"], [0.2, \"#de77ae\"], [0.3, \"#f1b6da\"], [0.4, \"#fde0ef\"], [0.5, \"#f7f7f7\"], [0.6, \"#e6f5d0\"], [0.7, \"#b8e186\"], [0.8, \"#7fbc41\"], [0.9, \"#4d9221\"], [1, \"#276419\"]], \"sequential\": [[0.0, \"#0d0887\"], [0.1111111111111111, \"#46039f\"], [0.2222222222222222, \"#7201a8\"], [0.3333333333333333, \"#9c179e\"], [0.4444444444444444, \"#bd3786\"], [0.5555555555555556, \"#d8576b\"], [0.6666666666666666, \"#ed7953\"], [0.7777777777777778, \"#fb9f3a\"], [0.8888888888888888, \"#fdca26\"], [1.0, \"#f0f921\"]], \"sequentialminus\": [[0.0, \"#0d0887\"], [0.1111111111111111, \"#46039f\"], [0.2222222222222222, \"#7201a8\"], [0.3333333333333333, \"#9c179e\"], [0.4444444444444444, \"#bd3786\"], [0.5555555555555556, \"#d8576b\"], [0.6666666666666666, \"#ed7953\"], [0.7777777777777778, \"#fb9f3a\"], [0.8888888888888888, \"#fdca26\"], [1.0, \"#f0f921\"]]}, \"colorway\": [\"#636efa\", \"#EF553B\", \"#00cc96\", \"#ab63fa\", \"#FFA15A\", \"#19d3f3\", \"#FF6692\", \"#B6E880\", \"#FF97FF\", \"#FECB52\"], \"font\": {\"color\": \"#2a3f5f\"}, \"geo\": {\"bgcolor\": \"white\", \"lakecolor\": \"white\", \"landcolor\": \"#E5ECF6\", \"showlakes\": true, \"showland\": true, \"subunitcolor\": \"white\"}, \"hoverlabel\": {\"align\": \"left\"}, \"hovermode\": \"closest\", \"mapbox\": {\"style\": \"light\"}, \"paper_bgcolor\": \"white\", \"plot_bgcolor\": \"#E5ECF6\", \"polar\": {\"angularaxis\": {\"gridcolor\": \"white\", \"linecolor\": \"white\", \"ticks\": \"\"}, \"bgcolor\": \"#E5ECF6\", \"radialaxis\": {\"gridcolor\": \"white\", \"linecolor\": \"white\", \"ticks\": \"\"}}, \"scene\": {\"xaxis\": {\"backgroundcolor\": \"#E5ECF6\", \"gridcolor\": \"white\", \"gridwidth\": 2, \"linecolor\": \"white\", \"showbackground\": true, \"ticks\": \"\", \"zerolinecolor\": \"white\"}, \"yaxis\": {\"backgroundcolor\": \"#E5ECF6\", \"gridcolor\": \"white\", \"gridwidth\": 2, \"linecolor\": \"white\", \"showbackground\": true, \"ticks\": \"\", \"zerolinecolor\": \"white\"}, \"zaxis\": {\"backgroundcolor\": \"#E5ECF6\", \"gridcolor\": \"white\", \"gridwidth\": 2, \"linecolor\": \"white\", \"showbackground\": true, \"ticks\": \"\", \"zerolinecolor\": \"white\"}}, \"shapedefaults\": {\"line\": {\"color\": \"#2a3f5f\"}}, \"ternary\": {\"aaxis\": {\"gridcolor\": \"white\", \"linecolor\": \"white\", \"ticks\": \"\"}, \"baxis\": {\"gridcolor\": \"white\", \"linecolor\": \"white\", \"ticks\": \"\"}, \"bgcolor\": \"#E5ECF6\", \"caxis\": {\"gridcolor\": \"white\", \"linecolor\": \"white\", \"ticks\": \"\"}}, \"title\": {\"x\": 0.05}, \"xaxis\": {\"automargin\": true, \"gridcolor\": \"white\", \"linecolor\": \"white\", \"ticks\": \"\", \"title\": {\"standoff\": 15}, \"zerolinecolor\": \"white\", \"zerolinewidth\": 2}, \"yaxis\": {\"automargin\": true, \"gridcolor\": \"white\", \"linecolor\": \"white\", \"ticks\": \"\", \"title\": {\"standoff\": 15}, \"zerolinecolor\": \"white\", \"zerolinewidth\": 2}}}, \"title\": {\"text\": \"Lotka_Volterra\"}, \"xaxis\": {\"anchor\": \"y\", \"domain\": [0.0, 0.94], \"dtick\": 1, \"gridcolor\": \"black\", \"gridwidth\": 1, \"linecolor\": \"black\", \"linewidth\": 2, \"mirror\": true, \"showgrid\": true, \"showline\": true, \"tick0\": 0, \"tickmode\": \"linear\", \"title\": {\"text\": \"Ano relativo\"}}, \"yaxis\": {\"anchor\": \"x\", \"domain\": [0.0, 1.0], \"gridcolor\": \"black\", \"gridwidth\": 1, \"linecolor\": \"black\", \"linewidth\": 2, \"mirror\": true, \"showgrid\": false, \"showline\": true, \"title\": {\"text\": \"<b>presa</b>\"}}, \"yaxis2\": {\"anchor\": \"x\", \"gridcolor\": \"black\", \"gridwidth\": 1, \"linecolor\": \"black\", \"linewidth\": 2, \"mirror\": true, \"overlaying\": \"y\", \"showgrid\": false, \"showline\": true, \"side\": \"right\", \"title\": {\"text\": \"<b>predador</b>\"}}},                        {\"responsive\": true}                    ).then(function(){\n",
              "                            \n",
              "var gd = document.getElementById('a95b85b5-df06-4915-865b-a002623a2079');\n",
              "var x = new MutationObserver(function (mutations, observer) {{\n",
              "        var display = window.getComputedStyle(gd).display;\n",
              "        if (!display || display === 'none') {{\n",
              "            console.log([gd, 'removed!']);\n",
              "            Plotly.purge(gd);\n",
              "            observer.disconnect();\n",
              "        }}\n",
              "}});\n",
              "\n",
              "// Listen for the removal of the full notebook cells\n",
              "var notebookContainer = gd.closest('#notebook-container');\n",
              "if (notebookContainer) {{\n",
              "    x.observe(notebookContainer, {childList: true});\n",
              "}}\n",
              "\n",
              "// Listen for the clearing of the current output cell\n",
              "var outputEl = gd.closest('.output');\n",
              "if (outputEl) {{\n",
              "    x.observe(outputEl, {childList: true});\n",
              "}}\n",
              "\n",
              "                        })                };                            </script>        </div>\n",
              "</body>\n",
              "</html>"
            ]
          },
          "metadata": {
            "tags": []
          }
        }
      ]
    },
    {
      "cell_type": "code",
      "metadata": {
        "colab": {
          "base_uri": "https://localhost:8080/"
        },
        "id": "VU7_uobCsyfB",
        "outputId": "f028794d-7162-4b3c-9208-0eaad2ad0543"
      },
      "source": [
        "np.corrcoef(hare,lynx)"
      ],
      "execution_count": null,
      "outputs": [
        {
          "output_type": "execute_result",
          "data": {
            "text/plain": [
              "array([[1.        , 0.07189206],\n",
              "       [0.07189206, 1.        ]])"
            ]
          },
          "metadata": {
            "tags": []
          },
          "execution_count": 11
        }
      ]
    },
    {
      "cell_type": "markdown",
      "metadata": {
        "id": "YfXl8OgvoHvp"
      },
      "source": [
        "# **Modelo**"
      ]
    },
    {
      "cell_type": "markdown",
      "metadata": {
        "id": "MAkrVMgr0UQ_"
      },
      "source": [
        "**Presa - Lebre**\n",
        "\n",
        "\\begin{equation}\n",
        "\\frac{dH(t)}{dt} = \\alpha H(t) - \\beta H(t) L(t) + u_1(t)\n",
        "\\end{equation}"
      ]
    },
    {
      "cell_type": "markdown",
      "metadata": {
        "id": "7gGWdf6Z0nzu"
      },
      "source": [
        "**Predador - Lince**\n",
        "\n",
        "\\begin{equation}\n",
        "\\frac{dL(t)}{dt} = -\\gamma L(t) + \\delta H(t) L(t) + u_2(t)\n",
        "\\end{equation}"
      ]
    },
    {
      "cell_type": "code",
      "metadata": {
        "id": "f0hcJMt8obWF"
      },
      "source": [
        "###################################################################################################\n",
        "#  Modelo não linear\n",
        "\n",
        "def presapredador(t,x,u,parametros):\n",
        "  \"\"\" cria o modelo não linear do fenômeno\"\"\"\n",
        "\n",
        "  # Parâmetros iniciais\n",
        "  a = parametros.get('a', 0.48069)\n",
        "  b = parametros.get('b', 0.024822)\n",
        "  c = parametros.get('c', 0.92718)\n",
        "  d = parametros.get('d', 0.027564)\n",
        "  u_0 = u\n",
        "\n",
        "  # Iniciar os valores de lebres e linces - x_o =[xo1 xo2].T\n",
        "  H = x[0];\n",
        "  L = x[1];\n",
        "\n",
        "  # entrada do sistema - adicionar comida - nunca retirar\n",
        "  u = u_0 if u > 0 else 0 \n",
        "\n",
        "  # determinar as equações\n",
        "  dH = (a + u) *H -b*H*L \n",
        "  dL = -c*L + d*H*L \n",
        "\n",
        "  return [dH,dL]"
      ],
      "execution_count": null,
      "outputs": []
    },
    {
      "cell_type": "code",
      "metadata": {
        "id": "Cfn4CRa6oliT"
      },
      "source": [
        "###################################################################################################\n",
        "#  Criando o subsistema do modelo - criação de um bloco\n",
        "\n",
        "io_presapredador = control.NonlinearIOSystem(\n",
        "    presapredador, None, inputs=('u'), outputs=('H', 'L'),\n",
        "    states=('H', 'L'), name='presapreda')"
      ],
      "execution_count": null,
      "outputs": []
    },
    {
      "cell_type": "code",
      "metadata": {
        "colab": {
          "base_uri": "https://localhost:8080/"
        },
        "id": "7EB2Xtpqo6gZ",
        "outputId": "c990a341-b653-4019-fc7d-b03a087b5141"
      },
      "source": [
        "###################################################################################################\n",
        "#  Determinando o ponto de equilíbrio\n",
        "\n",
        "x0 = [hare[0],lynx[0]]\n",
        "equilibrio = control.find_eqpt(io_presapredador,x0,0)\n",
        "equilibrio"
      ],
      "execution_count": null,
      "outputs": [
        {
          "output_type": "execute_result",
          "data": {
            "text/plain": [
              "(array([33.63735307, 19.36548223]), array([0.]))"
            ]
          },
          "metadata": {
            "tags": []
          },
          "execution_count": 14
        }
      ]
    },
    {
      "cell_type": "code",
      "metadata": {
        "colab": {
          "base_uri": "https://localhost:8080/"
        },
        "id": "ylup-kLZ6nNs",
        "outputId": "a9cf66b4-eefc-42ca-d210-967f8a2d3758"
      },
      "source": [
        "lynx[0]"
      ],
      "execution_count": null,
      "outputs": [
        {
          "output_type": "execute_result",
          "data": {
            "text/plain": [
              "4.0"
            ]
          },
          "metadata": {
            "tags": []
          },
          "execution_count": 15
        }
      ]
    },
    {
      "cell_type": "code",
      "metadata": {
        "colab": {
          "base_uri": "https://localhost:8080/",
          "height": 458
        },
        "id": "tH8cQZ-1pR9A",
        "outputId": "17eed486-a246-4fee-90e9-91e6975a77d7"
      },
      "source": [
        "###################################################################################################\n",
        "# Simulação\n",
        "\n",
        "\n",
        "\n",
        "x0 = [34.9134,3.8566]  # \n",
        "# x0 = [33.63735307, 19.36548223]  # Dados\n",
        "# x0 = [33, 19]  # Dados\n",
        "\n",
        "T  = np.linspace(0,20,240)  # vetor de tempo\n",
        "\n",
        "# Cálculo no tempo \n",
        "\n",
        "t, y = control.input_output_response(io_presapredador, T, 0, x0)\n",
        "\n",
        "plt.figure(figsize=(15,7))\n",
        "plt.plot(t,y[0],'b', alpha=0.5, lw=2, label='Presa') \n",
        "plt.plot(t,y[1],'k', alpha=0.5, lw=2, label='Predador')\n",
        "plt.plot(ano,hare,'y', alpha=0.5, lw=2, label='Presa')\n",
        "plt.plot(ano,lynx,'g', alpha=0.5, lw=2, label='Predador')\n",
        "plt.grid()\n",
        "plt.legend()\n",
        "plt.title('Presa predador - modelo')\n",
        "plt.xlabel('Ano relativo')\n",
        "plt.ylabel('Quantidade')\n",
        "\n",
        "plt.show()"
      ],
      "execution_count": null,
      "outputs": [
        {
          "output_type": "display_data",
          "data": {
            "image/png": "[encoded data removed]",
            "text/plain": [
              "<Figure size 1080x504 with 1 Axes>"
            ]
          },
          "metadata": {
            "tags": [],
            "needs_background": "light"
          }
        }
      ]
    },
    {
      "cell_type": "markdown",
      "metadata": {
        "id": "QpbDpNBErQAu"
      },
      "source": [
        "# **Projeto de controle**"
      ]
    },
    {
      "cell_type": "markdown",
      "metadata": {
        "id": "KvO_HA05xr7D"
      },
      "source": [
        "## **Formulação do problema**"
      ]
    },
    {
      "cell_type": "markdown",
      "metadata": {
        "id": "bBYP4iO8r2YS"
      },
      "source": [
        "O vetor de funções da dinâmica dos estados representado pela eq. \n",
        "(1) é dado de forma mais detalhado como:\n",
        "\\begin{equation}\n",
        "\\left\\{ {\\begin{array}{l}\n",
        " \\dot {x}_1 (t)=f_1 \\left( {{\\rm {\\bf x}}(t),{\\rm {\\bf u}}(t)} \\right); \\\\ \n",
        " \\dot {x}_2 (t)=f_2 \\left( {{\\rm {\\bf x}}(t),{\\rm {\\bf u}}(t)} \\right); \\\\ \n",
        " \\vdots \\\\ \n",
        " \\dot {x}_n (t)=f_n \\left( {{\\rm {\\bf x}}(t),{\\rm {\\bf u}}(t)} \\right). \\\\ \n",
        " \\end{array}} \\right.\n",
        "\\end{equation}"
      ]
    },
    {
      "cell_type": "markdown",
      "metadata": {
        "id": "2YS4Pm-9rxtD"
      },
      "source": [
        "O vetor de funções da saída representado pela eq. (2) é \n",
        "dado de forma mais detalhado como:\n",
        "\\begin{equation}\n",
        "\\left\\{ {\\begin{array}{l}\n",
        " y_1 (t)=g_1 \\left( {{\\rm {\\bf x}}(t),{\\rm {\\bf u}}(t)} \\right); \\\\ \n",
        " y_2 (t)=g_2 \\left( {{\\rm {\\bf x}}(t),{\\rm {\\bf u}}(t)} \\right); \\\\ \n",
        " \\vdots \\\\ \n",
        " y_p (t)=g_p \\left( {{\\rm {\\bf x}}(t),{\\rm {\\bf u}}(t)} \\right). \\\\ \n",
        " \\end{array}} \\right.\n",
        "\\end{equation}"
      ]
    },
    {
      "cell_type": "markdown",
      "metadata": {
        "id": "YRSzrv3LtAiK"
      },
      "source": [
        "Dada a condição nominal de operação , expandindo o vetor de funções $\\textbf{f}(\\textbf{x},\\textbf{u})$ em torno de $\\textbf{x}_{0}(t)$ e $\\textbf{u}_{0}(t)$\n",
        "\n",
        "$\\quad \\Rightarrow $ cada equação da dinâmica do sistema: $\\dot {x}_i (t)=f_i ({\\rm {\\bf x}}(t),{\\rm {\\bf u}}(t))$, para $i = 1 \\dots n$, fica:\n",
        "\n",
        "\n",
        "\\begin{equation}\n",
        "\\begin{array}{l}\n",
        " \\frac{d}{dt}\\left( {x_{0,i} (t)+\\delta x_i (t)} \\right)=f_i \\left( {{\\rm \n",
        "{\\bf x}}_{\\rm {\\bf 0}} (t)+\\delta {\\rm {\\bf x}}(t),{\\rm {\\bf u}}_{\\rm {\\bf \n",
        "0}} (t)+\\delta {\\rm {\\bf u}}(t)} \\right)= \\\\ \n",
        " \\mbox{ }f_i \\left( {{\\rm {\\bf x}}_{\\rm {\\bf 0}} (t),{\\rm {\\bf u}}_{\\rm {\\bf \n",
        "0}} (t)} \\right)+\\left( {\\frac{\\partial f_i }{\\partial {\\rm {\\bf x}}}} \n",
        "\\right)_{\\rm {\\bf 0}} \\delta {\\rm {\\bf x}}(t)+\\left( {\\frac{\\partial f_i \n",
        "}{\\partial {\\rm {\\bf u}}}} \\right)_{\\rm {\\bf 0}} \\delta {\\rm {\\bf \n",
        "u}}(t)+T.O.S. \\\\ \n",
        " \\end{array}\n",
        "\\end{equation}"
      ]
    },
    {
      "cell_type": "markdown",
      "metadata": {
        "id": "t1p2k_cMsHyq"
      },
      "source": [
        "Para todas as $n$ equações do sistema, tem-se:\n",
        "\\begin{equation}\n",
        "\\frac{d}{dt}\\delta {\\rm {\\bf x}}(t)=\\left[ {\\begin{array}{l}\n",
        " \\left( {\\frac{\\partial f_1 }{\\partial {\\rm {\\bf x}}}} \\right)_0 \\\\ \n",
        " \\left( {\\frac{\\partial f_2 }{\\partial {\\rm {\\bf x}}}} \\right)_0 \\\\ \n",
        " \\vdots \\\\ \n",
        " \\left( {\\frac{\\partial f_n }{\\partial {\\rm {\\bf x}}}} \\right)_0 \\\\ \n",
        " \\end{array}} \\right]\\delta {\\rm {\\bf x}}(t)+\\left[ {\\begin{array}{l}\n",
        " \\left( {\\frac{\\partial f_1 }{\\partial {\\rm {\\bf u}}}} \\right)_0 \\\\ \n",
        " \\left( {\\frac{\\partial f_2 }{\\partial {\\rm {\\bf u}}}} \\right)_0 \\\\ \n",
        " \\vdots \\\\ \n",
        " \\left( {\\frac{\\partial f_n }{\\partial {\\rm {\\bf u}}}} \\right)_0 \\\\ \n",
        " \\end{array}} \\right]\\delta {\\rm {\\bf u}}(t),\n",
        "\\end{equation}\n",
        "ou mais compactamente,\n",
        "\\begin{equation}\n",
        "\\frac{d}{dt}\\delta {\\rm {\\bf x}}(t)={\\rm {\\bf A}}(t)\\delta {\\rm {\\bf \n",
        "x}}(t)+{\\rm {\\bf B}}(t)\\delta {\\rm {\\bf u}}(t).\n",
        "\\end{equation}"
      ]
    },
    {
      "cell_type": "markdown",
      "metadata": {
        "id": "p3-brBuusOUg"
      },
      "source": [
        "\\begin{equation}\n",
        "{\\rm {\\bf A}}(t)=\\left[ {{\\begin{array}{*{20}c}\n",
        " {\\left( {\\frac{\\partial f_1 }{\\partial x_1 }} \\right)_0 } \\hfill & {\\left( \n",
        "{\\frac{\\partial f_1 }{\\partial x_2 }} \\right)_0 } \\hfill & \\cdots \\hfill & \n",
        "{\\left( {\\frac{\\partial f_1 }{\\partial x_n }} \\right)_0 } \\hfill \\\\\n",
        " {\\left( {\\frac{\\partial f_2 }{\\partial x_1 }} \\right)_0 } \\hfill & {\\left( \n",
        "{\\frac{\\partial f_2 }{\\partial x_2 }} \\right)_0 } \\hfill & \\cdots \\hfill & \n",
        "{\\left( {\\frac{\\partial f_2 }{\\partial x_n }} \\right)_0 } \\hfill \\\\\n",
        " \\vdots \\hfill & \\vdots \\hfill & \\ddots \\hfill & \\vdots \\hfill \\\\\n",
        " {\\left( {\\frac{\\partial f_n }{\\partial x_1 }} \\right)_0 } \\hfill & {\\left( \n",
        "{\\frac{\\partial f_n }{\\partial x_2 }} \\right)_0 } \\hfill & \\cdots \\hfill & \n",
        "{\\left( {\\frac{\\partial f_n }{\\partial x_n }} \\right)_0 } \\hfill \\\\\n",
        "\\end{array} }} \\right]_{(nxn)} \n",
        "\\end{equation}\n",
        "\\begin{equation}\n",
        "{\\rm {\\bf B}}(t)=\\left[ {{\\begin{array}{*{20}c}\n",
        " {\\left( {\\frac{\\partial f_1 }{\\partial u_1 }} \\right)_0 } \\hfill & {\\left( \n",
        "{\\frac{\\partial f_1 }{\\partial u_2 }} \\right)_0 } \\hfill & \\cdots \\hfill & \n",
        "{\\left( {\\frac{\\partial f_1 }{\\partial u_m }} \\right)_0 } \\hfill \\\\\n",
        " {\\left( {\\frac{\\partial f_2 }{\\partial u_1 }} \\right)_0 } \\hfill & {\\left( \n",
        "{\\frac{\\partial f_2 }{\\partial u_2 }} \\right)_0 } \\hfill & \\cdots \\hfill & \n",
        "{\\left( {\\frac{\\partial f_2 }{\\partial u_m }} \\right)_0 } \\hfill \\\\\n",
        " \\vdots \\hfill & \\vdots \\hfill & \\ddots \\hfill & \\vdots \\hfill \\\\\n",
        " {\\left( {\\frac{\\partial f_n }{\\partial u_1 }} \\right)_0 } \\hfill & {\\left( \n",
        "{\\frac{\\partial f_n }{\\partial u_2 }} \\right)_0 } \\hfill & \\cdots \\hfill & \n",
        "{\\left( {\\frac{\\partial f_n }{\\partial u_m }} \\right)_0 } \\hfill \\\\\n",
        "\\end{array} }} \\right]_{(nxm)} \n",
        "\\end{equation}"
      ]
    },
    {
      "cell_type": "markdown",
      "metadata": {
        "id": "neMqqdnlsV64"
      },
      "source": [
        "Para todas as $p$ equações de saídas do sistema, tem-se:\n",
        "\\begin{equation}\n",
        "\\delta {\\rm {\\bf y}}(t)=\\left[ {\\begin{array}{l}\n",
        " \\left( {\\frac{\\partial g_1 }{\\partial {\\rm {\\bf x}}}} \\right)_0 \\\\ \n",
        " \\left( {\\frac{\\partial g_2 }{\\partial {\\rm {\\bf x}}}} \\right)_0 \\\\ \n",
        " \\vdots \\\\ \n",
        " \\left( {\\frac{\\partial g_p }{\\partial {\\rm {\\bf x}}}} \\right)_0 \\\\ \n",
        " \\end{array}} \\right]\\delta {\\rm {\\bf x}}(t)+\\left[ {\\begin{array}{l}\n",
        " \\left( {\\frac{\\partial g_1 }{\\partial {\\rm {\\bf u}}}} \\right)_0 \\\\ \n",
        " \\left( {\\frac{\\partial g_2 }{\\partial {\\rm {\\bf u}}}} \\right)_0 \\\\ \n",
        " \\vdots \\\\ \n",
        " \\left( {\\frac{\\partial g_p }{\\partial {\\rm {\\bf u}}}} \\right)_0 \\\\ \n",
        " \\end{array}} \\right]\\delta {\\rm {\\bf u}}(t),\n",
        "\\end{equation}\n",
        "ou mais compactamente,\n",
        "\\begin{equation}\n",
        "\\delta {\\rm {\\bf y}}(t)={\\rm {\\bf C}}(t)\\delta {\\rm {\\bf x}}(t)+{\\rm {\\bf \n",
        "D}}(t)\\delta {\\rm {\\bf u}}(t).\n",
        "\\end{equation}"
      ]
    },
    {
      "cell_type": "markdown",
      "metadata": {
        "id": "qhC2ZAqSsb-V"
      },
      "source": [
        "onde $\\textbf{C}(t)$ e $\\textbf{D}(t)$ são matrizes dadas por:\n",
        "\\begin{equation}\n",
        "{\\rm {\\bf C}}(t)=\\left[ {{\\begin{array}{*{20}c}\n",
        " {\\left( {\\frac{\\partial g_1 }{\\partial x_1 }} \\right)_0 } \\hfill & {\\left( \n",
        "{\\frac{\\partial g_1 }{\\partial x_2 }} \\right)_0 } \\hfill & \\cdots \\hfill & \n",
        "{\\left( {\\frac{\\partial g_1 }{\\partial x_n }} \\right)_0 } \\hfill \\\\\n",
        " {\\left( {\\frac{\\partial g_2 }{\\partial x_1 }} \\right)_0 } \\hfill & {\\left( \n",
        "{\\frac{\\partial g_2 }{\\partial x_2 }} \\right)_0 } \\hfill & \\cdots \\hfill & \n",
        "{\\left( {\\frac{\\partial g_2 }{\\partial x_n }} \\right)_0 } \\hfill \\\\\n",
        " \\vdots \\hfill & \\vdots \\hfill & \\ddots \\hfill & \\vdots \\hfill \\\\\n",
        " {\\left( {\\frac{\\partial g_p }{\\partial x_1 }} \\right)_0 } \\hfill & {\\left( \n",
        "{\\frac{\\partial g_p }{\\partial x_2 }} \\right)_0 } \\hfill & \\cdots \\hfill & \n",
        "{\\left( {\\frac{\\partial g_p }{\\partial x_n }} \\right)_0 } \\hfill \\\\\n",
        "\\end{array} }} \\right]_{(pxn)} \n",
        "\\end{equation}\n",
        "\\begin{equation}\n",
        "{\\rm {\\bf D}}(t)=\\left[ {{\\begin{array}{*{20}c}\n",
        " {\\left( {\\frac{\\partial g_1 }{\\partial u_1 }} \\right)_0 } \\hfill & {\\left( \n",
        "{\\frac{\\partial g_1 }{\\partial u_2 }} \\right)_0 } \\hfill & \\cdots \\hfill & \n",
        "{\\left( {\\frac{\\partial g_1 }{\\partial u_m }} \\right)_0 } \\hfill \\\\\n",
        " {\\left( {\\frac{\\partial g_2 }{\\partial u_1 }} \\right)_0 } \\hfill & {\\left( \n",
        "{\\frac{\\partial g_2 }{\\partial u_2 }} \\right)_0 } \\hfill & \\cdots \\hfill & \n",
        "{\\left( {\\frac{\\partial g_2 }{\\partial u_m }} \\right)_0 } \\hfill \\\\\n",
        " \\vdots \\hfill & \\vdots \\hfill & \\ddots \\hfill & \\vdots \\hfill \\\\\n",
        " {\\left( {\\frac{\\partial g_p }{\\partial u_1 }} \\right)_0 } \\hfill & {\\left( \n",
        "{\\frac{\\partial g_p }{\\partial u_2 }} \\right)_0 } \\hfill & \\cdots \\hfill & \n",
        "{\\left( {\\frac{\\partial g_p }{\\partial u_m }} \\right)_0 } \\hfill \\\\\n",
        "\\end{array} }} \\right]_{(pxm)} \n",
        "\\end{equation}"
      ]
    },
    {
      "cell_type": "markdown",
      "metadata": {
        "id": "X0fTaKQLsl8m"
      },
      "source": [
        "Se a condição nominal de operação for uma condição de operação em regime, ou seja, ${\\rm {\\bf \\dot {x}}}_{\\rm {\\bf 0}} (t)={\\rm {\\bf 0}}$, então as matrizes do sistema, $\\textbf{A}, \\textbf{B}, \\textbf{C}$ e $\\textbf{D}$, são constantes e o sitema é do tipo Linear Invariante no Tempo (LIT). Assim a eq. (27) fica:\n",
        "\n",
        "\\begin{equation}\n",
        "\\frac{d}{dt}\\partial {\\rm {\\bf x}}(t)={\\rm {\\bf A}}\\partial {\\rm {\\bf \n",
        "x}}(t)+{\\rm {\\bf B}}\\partial {\\rm {\\bf u}}(t)\n",
        "\\end{equation}\n",
        "\n",
        "\\begin{equation}\n",
        "\\delta {\\rm {\\bf y}}(t)={\\rm {\\bf C}}\\delta {\\rm {\\bf x}}(t)+{\\rm {\\bf \n",
        "D}}\\delta {\\rm {\\bf u}}(t)\n",
        "\\end{equation}"
      ]
    },
    {
      "cell_type": "code",
      "metadata": {
        "colab": {
          "base_uri": "https://localhost:8080/"
        },
        "id": "lrcCUQnTrhez",
        "outputId": "6e2084f7-edb2-4796-8752-743a0be861d0"
      },
      "source": [
        "###################################################################################################\n",
        "# Ponto de equilibrio\n",
        "\n",
        "xe = equilibrio[0]\n",
        "He = xe[0]\n",
        "Le = xe[1]\n",
        "\n",
        "espaco_estados = control.linearize(io_presapredador,[He,Le],0)\n",
        "\n",
        "### Recupera as matrizes\n",
        "\n",
        "A, B, C, D = espaco_estados.A, espaco_estados.B, espaco_estados.C, espaco_estados.D"
      ],
      "execution_count": null,
      "outputs": [
        {
          "output_type": "stream",
          "text": [
            "/usr/local/lib/python3.7/dist-packages/control/iosys.py:931: VisibleDeprecationWarning:\n",
            "\n",
            "Creating an ndarray from ragged nested sequences (which is a list-or-tuple of lists-or-tuples-or ndarrays with different lengths or shapes) is deprecated. If you meant to do this, you must specify 'dtype=object' when creating the ndarray\n",
            "\n"
          ],
          "name": "stderr"
        }
      ]
    },
    {
      "cell_type": "markdown",
      "metadata": {
        "id": "XDXqclqLExt2"
      },
      "source": [
        "Estou considerando se seria razoável montar uma lista de situações onde não-linearidades têm papel crucial. Se possível com aplicações em economia: histerese, taxa de juros > 0, equilíbrios múltiplos... O ponto é que \"não-linear\" não é uma teoria coerente, mas sim um sem-fim de situações que violam de alguma forma a suposição de linearidade.\n"
      ]
    },
    {
      "cell_type": "markdown",
      "metadata": {
        "id": "Mkt49gY3jvts"
      },
      "source": [
        "## **Modelagem em espaço de estados**"
      ]
    },
    {
      "cell_type": "markdown",
      "metadata": {
        "id": "lNj0goUoj60w"
      },
      "source": [
        "Representação da dinâmica de um sistema de ordem  𝑛  usando  𝑛  equações diferenciais de primeira ordem.\n",
        "Um vetor de dimensão  𝑛 x1  ⇒  chamado vetor de estados\n",
        "Um vetor de dimensão  𝑚 x1  ⇒  chamado vetor de entradas\n",
        "Precisa converter a equação diferencial de ordem  𝑛  para  𝑛  equações diferenciais de 1 𝑎  ordem"
      ]
    },
    {
      "cell_type": "markdown",
      "metadata": {
        "id": "Rudt10yYkA8v"
      },
      "source": [
        "## Forma geral do espaço dos estados\n",
        "\n",
        "${\\rm {\\bf \\dot {x}}}(t)={\\rm {\\bf A}}(t){\\rm {\\bf x}}(t)+{\\rm {\\bf \n",
        "B}}(t){\\rm {\\bf u}}(t) \\quad \\to $ equação dos estados\n",
        "\n",
        "${\\rm {\\bf y}}(t)={\\rm {\\bf C}}(t){\\rm {\\bf x}}(t)+{\\rm {\\bf D}}(t){\\rm {\\bf \n",
        "u}}(t) \\quad \\to $ equação da saída\n",
        "\n",
        "onde\n",
        "\n",
        "${\\rm {\\bf x}}(t)\\quad -$ vetor de estados $R^{n}$ (dimensão $n$x1);\n",
        "\n",
        "${\\rm {\\bf u}}(t)\\quad -$ vetor de entrada $R^{m }$(dimensão $m$x1);\n",
        "\n",
        "${\\rm {\\bf y}}(t)\\quad -$ vetor de saída $R^{p }$(dimensão $p$x1);\n",
        "\n",
        "${\\rm {\\bf A}}(t)\\quad -$ matriz de transmissão dos estados ($n$x$n)$;\n",
        "\n",
        "${\\rm {\\bf B}}(t)\\quad -$ matriz de entrada ($n$x$m)$;\n",
        "\n",
        "${\\rm {\\bf C}}(t)\\quad -$ matriz de saída ou matriz dos sensores \n",
        "($p$x$n)$;\n",
        "\n",
        "${\\rm {\\bf D}}(t)\\quad -$ matriz de alimentação direta ($p$x$m)$."
      ]
    },
    {
      "cell_type": "markdown",
      "metadata": {
        "id": "CI7CjtYYkUnY"
      },
      "source": [
        "Saídas são variáveis associadas com sensores $\\Rightarrow $ são variáveis medidas.\n",
        "\n",
        "Entradas são variáveis que alteram as condições de energia do sistema.\n",
        "\n",
        "A dinâmica de um sistema pode ser variante ou invariante no tempo:\n",
        "Sistema linear $\\textbf{invariante}$ no tempo $\\Rightarrow $ matrizes $\\textbf{A}, \\textbf{B}, \\textbf{C}$ e $\\textbf{D}$ são constantes;\n",
        "\n",
        "Sistema linear $\\textbf{variante}$ no tempo $\\Rightarrow $ matrizes $\\textbf{A}(t), \\textbf{B}(t), \\textbf{C}(t)$ e $\\textbf{D}(t)$ variam no tempo.\n",
        "\n",
        "Sistemas podem ser:\n",
        "\n",
        "$\\textbf{SISO} \\Rightarrow \\textit{single}$ (uma) entrada, $\\textit{single}$(uma) saída;\n",
        "\n",
        "$\\textbf{MIMO}$ $\\Rightarrow $ múltiplas entradas, múltiplas saídas.\n",
        "\\item Usualmente lidamos com Sistemas Lineares Invariantes no tempo (LTI) $\\Rightarrow $ relação entre saída (y) e entrada (u) não depende diretamento do tempo.\n",
        "\n",
        "\\begin{equation}\n",
        "{{\\begin{array}{*{20}c}\n",
        " {{\\rm {\\bf \\dot {x}}}(t)={\\rm {\\bf Ax}}(t)+{\\rm {\\bf Bu}}(t)} \\hfill \\\\\n",
        " {{\\rm {\\bf y}}(t)={\\rm {\\bf Cx}}(t)+{\\rm {\\bf Du}}(t)} \\hfill \\\\\n",
        "\\end{array} }} \n",
        "\\end{equation}\n",
        "\n",
        "Nesse caso as matrizes $\\textbf{A}, \\textbf{B}, \\textbf{C}$ e $\\textbf{D}$ são constantes.\n",
        "\n",
        "Saídas futuras dependem somente do estado presente e entradas futuras.\n",
        "\n",
        "Não existe somente um conjunto de estados para um mesmo sistema $\\Rightarrow $ existem muitas possibilidades para o vetor de estados de um sistema.\n",
        " \n"
      ]
    },
    {
      "cell_type": "code",
      "metadata": {
        "colab": {
          "base_uri": "https://localhost:8080/"
        },
        "id": "5g5ccIduDDv5",
        "outputId": "2ed4a40c-b9bf-468a-b50a-e97c7e0f8da4"
      },
      "source": [
        "###################################################################################################\n",
        "# Simulando o modelo linear\n",
        "\n",
        "Sistema =  control.ss(A,B,C,D)\n",
        "T, yout = impulse_response(Sistema, 20, X0= [hare[0],lynx[0]],)\n",
        "\n",
        "\n",
        "plt.figure(figsize=(15,7))\n",
        "plt.plot(T,yout[0][0],'b', alpha=0.5, lw=2, label='Presa') \n",
        "plt.plot(T,yout[1][0],'k', alpha=0.5, lw=2, label='Predador')\n",
        "plt.grid()\n",
        "plt.legend()\n",
        "plt.title('Presa predador - modelo')\n",
        "plt.xlabel('Ano relativo')\n",
        "plt.ylabel('Quantidade')\n",
        "\n",
        "plt.show()\n"
      ],
      "execution_count": null,
      "outputs": [
        {
          "output_type": "display_data",
          "data": {
            "image/png": "[encoded data removed]",
            "text/plain": [
              "<Figure size 1080x504 with 1 Axes>"
            ]
          },
          "metadata": {
            "tags": [],
            "needs_background": "light"
          }
        }
      ]
    },
    {
      "cell_type": "markdown",
      "metadata": {
        "id": "XtofEPbgtP0R"
      },
      "source": [
        "# **Forma diagonal**"
      ]
    },
    {
      "cell_type": "markdown",
      "metadata": {
        "id": "7oBVmrfktmsg"
      },
      "source": [
        "\n",
        "O vetor de estados não é único para um sistema dinâmico $\\Rightarrow $ existem inúmeras possibilidades de definir o vetor de estado para um mesmo sistema dinâmico;\n",
        "\n",
        "Cada vetor de estado vai gerar uma forma diferente de SS (espaço de estados) para uma mesma FT.\n",
        "\n",
        "Existem algumas formas clássicas de representação no espaço dos estados.\n"
      ]
    },
    {
      "cell_type": "markdown",
      "metadata": {
        "id": "64mckaSKtwMu"
      },
      "source": [
        "## **Formas canônicas**"
      ]
    },
    {
      "cell_type": "markdown",
      "metadata": {
        "id": "k31NsEYrt1WW"
      },
      "source": [
        "Cada uma dessas formas é útil para um determinado objetivo.\n",
        "\n",
        "1.   Controlável;\n",
        "2.   Observável;\n",
        "3.   Jordan;\n",
        "4.   Diagonal ou modal.\n",
        "\n",
        "Forma mais importante para análise de sistemas dinâmicos LIT $\\Rightarrow $ diagonal ou modal $\\Rightarrow $ permite visualizar facilmente a dinâmica do sistema."
      ]
    },
    {
      "cell_type": "markdown",
      "metadata": {
        "id": "tAYtRzRluDTt"
      },
      "source": [
        "Matricialmente as expressões no tempo podem ser escritas na forma SS \n",
        "diagonal, ou seja:\n",
        "\n",
        "\\begin{equation}\n",
        "\\begin{array}{l}\n",
        " \\left[ {\\begin{array}{l}\n",
        " \\dot {x}_1 (t) \\\\ \n",
        " \\dot {x}_2 (t) \\\\ \n",
        " \\vdots \\\\ \n",
        " \\dot {x}_n (t) \\\\ \n",
        " \\end{array}} \\right]=\\left[ {{\\begin{array}{*{20}c}\n",
        " {p_1 } \\hfill & 0 \\hfill & \\cdots \\hfill & 0 \\hfill \\\\\n",
        " 0 \\hfill & {p_2 } \\hfill & \\cdots \\hfill & 0 \\hfill \\\\\n",
        " \\vdots \\hfill & \\vdots \\hfill & \\ddots \\hfill & \\vdots \\hfill \\\\\n",
        " 0 \\hfill & 0 \\hfill & \\cdots \\hfill & {p_n } \\hfill \\\\\n",
        "\\end{array} }} \\right]\\left[ {\\begin{array}{l}\n",
        " x_1 (t) \\\\ \n",
        " x_2 (t) \\\\ \n",
        " \\vdots \\\\ \n",
        " x_n (t) \\\\ \n",
        " \\end{array}} \\right]+\\left[ {\\begin{array}{l}\n",
        " r_1 \\\\ \n",
        " r_2 \\\\ \n",
        " \\vdots \\\\ \n",
        " r_n \\\\ \n",
        " \\end{array}} \\right]u(t) \\\\ \n",
        " y(t)=\\left[ {{\\begin{array}{*{20}c}\n",
        " 1 \\hfill & 1 \\hfill & \\cdots \\hfill & 1 \\hfill \\\\\n",
        "\\end{array} }} \\right]\\left[ {\\begin{array}{l}\n",
        " x_1 (t) \\\\ \n",
        " x_2 (t) \\\\ \n",
        " \\vdots \\\\ \n",
        " x_n (t) \\\\ \n",
        " \\end{array}} \\right] \\\\ \n",
        " \\end{array}\n",
        "\\end{equation}\n",
        "\n",
        "\n",
        "Nota-se que a matriz A é diagonal e a sua diagonal são os pólos do sistema.\n"
      ]
    },
    {
      "cell_type": "code",
      "metadata": {
        "colab": {
          "base_uri": "https://localhost:8080/"
        },
        "id": "R8cWvvgzCgUd",
        "outputId": "739b631c-ff95-414a-b169-26ee051a8fcc"
      },
      "source": [
        "###################################################################################################\n",
        "# Analisando os polos e zeros do sistema\n",
        "\n",
        "control.pole(Sistema)\n",
        "control.zero(Sistema)\n",
        "control.damp(Sistema)"
      ],
      "execution_count": null,
      "outputs": [
        {
          "output_type": "stream",
          "text": [
            "_____Eigenvalue______ Damping___ Frequency_\n",
            "         0   +0.6676j         -0     0.6676\n",
            "         0   -0.6676j         -0     0.6676\n"
          ],
          "name": "stdout"
        },
        {
          "output_type": "execute_result",
          "data": {
            "text/plain": [
              "(array([0.6675973, 0.6675973]),\n",
              " array([-0., -0.]),\n",
              " array([0.+0.6675973j, 0.-0.6675973j]))"
            ]
          },
          "metadata": {
            "tags": []
          },
          "execution_count": 22
        }
      ]
    },
    {
      "cell_type": "markdown",
      "metadata": {
        "id": "uLjwkKxfvhFR"
      },
      "source": [
        "# **Transformação linear**"
      ]
    },
    {
      "cell_type": "markdown",
      "metadata": {
        "id": "mojW5m7uvkZw"
      },
      "source": [
        " Dado um sistema LIT na forma do espaço dos estados:\n",
        " \n",
        " \\begin{equation}\n",
        "\\left\\{ {\\begin{array}{l}\n",
        " {\\rm {\\bf \\dot {x}}}(t)={\\rm {\\bf Ax}}(t)+{\\rm {\\bf Bu}}(t) \\\\ \n",
        " {\\rm {\\bf y}}(t)={\\rm {\\bf Cx}}(t)+{\\rm {\\bf Du}}(t) \\\\ \n",
        " \\end{array}} \\right.\n",
        "\\end{equation}\n",
        "\n",
        "**Pergunta-se, qual a Função de Transfer\\^{e}ncia correspondente?**\n"
      ]
    },
    {
      "cell_type": "markdown",
      "metadata": {
        "id": "M1jfS1BjvtA0"
      },
      "source": [
        "Aplicando a Transformada de Laplace na equação da dinâmica dos \n",
        "estados,\n",
        "\\begin{equation}\n",
        "L\\left\\{ {{\\rm {\\bf \\dot {x}}}(t)} \\right\\}=L\\left\\{ {{\\rm {\\bf Ax}}(t)+{\\rm \n",
        "{\\bf Bu}}(t)} \\right\\}\n",
        "\\end{equation}\n",
        "Assumindo condições iniciais iguais a zero (por definição a \n",
        "FT tem condições inciais iguais a zero), tem-se:\n",
        "\\begin{equation}\n",
        "s{\\rm {\\bf X}}(s)={\\rm {\\bf AX}}(S)+{\\rm {\\bf BU}}(s)\n",
        "\\end{equation}"
      ]
    },
    {
      "cell_type": "markdown",
      "metadata": {
        "id": "Q-yJRDXvv0JP"
      },
      "source": [
        "Rearranjando,\n",
        "\\begin{equation}\n",
        "\\left( {s{\\rm {\\bf I}}-{\\rm {\\bf A}}} \\right){\\rm {\\bf X}}(s)={\\rm {\\bf \n",
        "BU}}(s)\n",
        "\\end{equation}\n",
        "Isolando $\\textbf{X}(s)$\n",
        "\\begin{equation}\n",
        "{\\rm {\\bf X}}(s)=\\left( {s{\\rm {\\bf I}}-{\\rm {\\bf A}}} \\right)^{-1}{\\rm {\\bf \n",
        "BU}}(s)\n",
        "\\end{equation}"
      ]
    },
    {
      "cell_type": "markdown",
      "metadata": {
        "id": "vxLk_DyMv5X_"
      },
      "source": [
        "Aplicando a Transformada de laplace da equação das saídas do \n",
        "sistema,\n",
        "\\begin{equation}\n",
        "L\\left\\{ {{\\rm {\\bf y}}(t)} \\right\\}=L\\left\\{ {{\\rm {\\bf Cx}}(t)+{\\rm {\\bf \n",
        "Du}}(t)} \\right\\}\n",
        "\\end{equation}\n",
        "ou\n",
        "\\begin{equation}\n",
        "{\\rm {\\bf Y}}(s)={\\rm {\\bf CX}}(S)+{\\rm {\\bf DU}}(s)\n",
        "\\end{equation}\n"
      ]
    },
    {
      "cell_type": "markdown",
      "metadata": {
        "id": "n76pFE4Tv7RF"
      },
      "source": [
        "Substituindo as equações, tem-se:\n",
        "\\begin{equation}\n",
        "{\\rm {\\bf Y}}(s)={\\rm {\\bf C}}\\left( {s{\\rm {\\bf I}}-{\\rm {\\bf A}}} \n",
        "\\right)^{-1}{\\rm {\\bf BU}}(s)+{\\rm {\\bf DU}}(s)\n",
        "\\end{equation}\n",
        "\\begin{equation}\n",
        "{\\rm {\\bf Y}}(s)=\\left[ {{\\rm {\\bf C}}\\left( {s{\\rm {\\bf I}}-{\\rm {\\bf A}}} \n",
        "\\right)^{-1}{\\rm {\\bf B}}+{\\rm {\\bf D}}} \\right]{\\rm {\\bf U}}(s)\n",
        "\\end{equation}\n"
      ]
    },
    {
      "cell_type": "markdown",
      "metadata": {
        "id": "-4JfvK6KwClw"
      },
      "source": [
        "Lembrando que a FT é a relação entre a saída e a entrada do \n",
        "sistema, ou seja, \\textbf{Y}($s)$/\\textbf{U}($s)$,\n",
        "\\begin{equation}\n",
        "{\\rm {\\bf G}}(s)={\\rm {\\bf C}}\\left( {s{\\rm {\\bf I}}-{\\rm {\\bf A}}} \n",
        "\\right)^{-1}{\\rm {\\bf B}}+{\\rm {\\bf D}}\n",
        "\\end{equation}"
      ]
    },
    {
      "cell_type": "markdown",
      "metadata": {
        "id": "Ki_znqjpwHXo"
      },
      "source": [
        "$\\textbf{G}(s)$ é uma matriz de Funções de Transferência com dimensão $p \\;x \\; m$ ($p$ = número de saídas e $m$ = número de entradas);\n",
        "\n",
        "Cada elemento $G_{ij}(s)$ da matriz $\\textbf{G}(s)$ descreve a dinâmica da saída $i$ em função da entrada $j$ do sistema $\\Rightarrow $ por exemplo, $G_{12}(s)$ descreve a relação dinâmica entre a saída 1 e a entrada 2 do sistema;\n",
        "\n",
        "Se o sistema tiver somente uma entrada e uma saída $\\Rightarrow G(s)$ é um escalar.\n"
      ]
    },
    {
      "cell_type": "markdown",
      "metadata": {
        "id": "gX9YdtAtwLie"
      },
      "source": [
        "Existe um método simples para calcular a FT para sistemas de qualquer ordem que não exige cálculo de inversa de matriz, somente determinante de matrizes:\n",
        "\n",
        "\\begin{equation}\n",
        "G_{ij} (s)=\\frac{\\det \\left[ {{\\begin{array}{*{20}c}\n",
        " {s{\\rm {\\bf I}}-{\\rm {\\bf A}}} \\hfill & {-{\\rm {\\bf B}}_{\\rm {\\bf j}} } \n",
        "\\hfill \\\\\n",
        " {{\\rm {\\bf C}}_{\\rm {\\bf i}} } \\hfill & {{\\rm {\\bf D}}_{{\\rm {\\bf ij}}} } \n",
        "\\hfill \\\\\n",
        "\\end{array} }} \\right]}{\\det \\left[ {s{\\rm {\\bf I}}-{\\rm {\\bf A}}} \\right]}\n",
        "\\end{equation}\n",
        "onde $\\textbf{C}_{i}$ é a $i$-ésima linha da matriz $\\textbf{C}$ e \n",
        "$\\textbf{B}_{j}$ é a $j$-ésima coluna da matriz $\\textbf{B}$ e $\\textbf{ \n",
        "D}_{ij}$ é o elemento $i,j$ da matriz $\\textbf{D}$. \n",
        "\n",
        "\n",
        "Nota-se que se o sistema for SISO $\\Rightarrow  \\textbf{C} $\n",
        "é uma matriz linha e $\\textbf{B}$ é uma matriz coluna.\n"
      ]
    },
    {
      "cell_type": "markdown",
      "metadata": {
        "id": "cMvx_0VIwQcu"
      },
      "source": [
        "$\\textbf{Os denominadores de todos os elementos da matriz de FT, G(s)}$, são iguais $\\Rightarrow $ equação característica do sistema."
      ]
    },
    {
      "cell_type": "markdown",
      "metadata": {
        "id": "yFHdnoi4wT1Y"
      },
      "source": [
        "O cálculo algébrico da inversa de uma matriz nem sempre é um processo simples de realizar. O único caso onde o cálculo da matriz $$(sI- A)^{-1}$$ é simples  para sistemas de ordem 2.\n",
        "\n",
        "\\begin{equation}\n",
        "{\\rm {\\bf A}}=\\left[ {{\\begin{array}{*{20}c}\n",
        " {a_{11} } \\hfill & {a_{12} } \\hfill \\\\\n",
        " {a_{21} } \\hfill & {a_{22} } \\hfill \\\\\n",
        "\\end{array} }} \\right]\n",
        "\\end{equation}\n",
        "\n",
        "\\begin{equation}\n",
        "\\left( {s{\\rm {\\bf I}}-{\\rm {\\bf A}}} \\right)^{-1}=\\left[ \n",
        "{{\\begin{array}{*{20}c}\n",
        " {s-a_{11} } \\hfill & {-a_{12} } \\hfill \\\\\n",
        " {-a_{21} } \\hfill & {s-a_{22} } \\hfill \\\\\n",
        "\\end{array} }} \\right]^{-1}=\\frac{1}{det} \\left[ {{\\begin{array}{*{20}c}\n",
        " {s-a_{22} } \\hfill & {a_{12} } \\hfill \\\\\n",
        " {a_{21} } \\hfill & {s-a_{11} } \\hfill \\\\\n",
        "\\end{array} }} \\right]\n",
        "\\end{equation}\n",
        "\n",
        "**Para sistemas de ordem maior do que dois uma opção é usar o método de Cramer $\\Rightarrow $ muito trabalhoso.**"
      ]
    },
    {
      "cell_type": "markdown",
      "metadata": {
        "id": "DhZuINkSwfBB"
      },
      "source": [
        "O determinante de uma matriz de dimensão $n$x$n$ é calculado pela soma dos \n",
        "cofatores da matriz:\n",
        "\n",
        "\\begin{equation}\n",
        "\\det \\left[ {{\\begin{array}{*{20}c}\n",
        " {a_{11} } \\hfill & {a_{12} } \\hfill & \\cdots \\hfill & {a_{1n} } \\hfill \\\\\n",
        " {a_{21} } \\hfill & {a_{22} } \\hfill & \\cdots \\hfill & {a_{2n} } \\hfill \\\\\n",
        " \\vdots \\hfill & \\vdots \\hfill & \\ddots \\hfill & \\vdots \\hfill \\\\\n",
        " {a_{n1} } \\hfill & {a_{n2} } \\hfill & \\cdots \\hfill & {a_{nn} } \\hfill \\\\\n",
        "\\end{array} }} \\right]_{(nxn)} =a_{11} A_{11} +a_{12} A_{12} +\\cdots +a_{1n} \n",
        "A_{1n} \n",
        "\\end{equation}\n",
        "\n",
        "onde $A_{ij}$ é o cofator dos elemento $a_{ij}$, dado por:\n",
        "\n",
        "\\begin{equation}\n",
        "A_{ij} =(-1)^{i+j}\\det {\\rm {\\bf D}}_{{\\rm {\\bf ij}}} \n",
        "\\end{equation}"
      ]
    },
    {
      "cell_type": "markdown",
      "metadata": {
        "id": "_y9Bk4uGuQq1"
      },
      "source": [
        "# **Observabilidade e controlabilidade**"
      ]
    },
    {
      "cell_type": "markdown",
      "metadata": {
        "id": "__WWbNfouUj4"
      },
      "source": [
        "Um sistema LIT é controlável se existe um vetor de entrada \n",
        "$\\textbf{u}(t)$ para 0 $\\le t \\le  \\quad T$, com $T  >$ 0 e finito, tal que o sistema vai da condição inicial $\\textbf{x}(0) =$ para qualquer estado \n",
        "$\\textbf{x}$ no intervalo de tempo $T$."
      ]
    },
    {
      "cell_type": "markdown",
      "metadata": {
        "id": "Meivhihcufnx"
      },
      "source": [
        "Iniciar em $t$ = 0 não é um caso especial. Se puder ir para qualquer estado em tempo finito, iniciando em $ t$ = 0, então se pode de qualquer condição inicial alcançar qualquer estado em tempo finito.\n",
        "\n",
        "Para controlabilidade basta considerar a solução forçada do sistema, ou seja:\n",
        "\n",
        "\\begin{equation}\n",
        "{\\rm {\\bf x}}(t)=\\int\\limits_0^t {e^{{\\rm {\\bf A}}(t-\\tau )}{\\rm {\\bf \n",
        "Bu}}(\\tau )d\\tau } .\n",
        "\\end{equation}\n",
        "\n",
        "\n",
        " A controlabilidade está associada à capacidade de influenciar todos os estados através das entradas do sistema.\n"
      ]
    },
    {
      "cell_type": "markdown",
      "metadata": {
        "id": "DHzdRoVqukvF"
      },
      "source": [
        "Seja um sistema de ordem $n$, dado por:\n",
        "\\begin{equation}\n",
        "{\\rm {\\bf \\dot {x}}}(t)={\\rm {\\bf Ax}}(t)+{\\rm {\\bf Bu}}(t),\n",
        "\\end{equation}\n",
        "onde $\\textbf{x}(t)  \\in  R^{n}$ e $\\textbf{u}(t) \\in   R^{m}$. \n",
        "\n",
        "Observe que para um sistema ser controlável basta analisar a equação dos \n",
        "estados, ou seja, o par de matrizes $\\textbf{A}$ e $\\textbf{B}$."
      ]
    },
    {
      "cell_type": "markdown",
      "metadata": {
        "id": "kJt3kS63up9B"
      },
      "source": [
        "Definindo a matriz de controlabilidade $\\textbf{M}_{C}$:\n",
        "\\begin{equation}\n",
        "{\\rm {\\bf M}}_{\\rm {\\bf C}} =\\left[ {{\\begin{array}{*{20}c}\n",
        " {\\rm {\\bf B}} \\hfill & {{\\rm {\\bf AB}}} \\hfill & {{\\rm {\\bf A}}^2{\\rm {\\bf \n",
        "B}}} \\hfill & \\cdots \\hfill & {{\\rm {\\bf A}}^{n-1}{\\rm {\\bf B}}} \\hfill \\\\\n",
        "\\end{array} }} \\right].\n",
        "\\end{equation}\n",
        "\n",
        "\n",
        "O sistema definido pelas matrizes ($\\textbf{A}, \\textbf{B}$) é \n",
        "controlável se rank($\\textbf{M}_{C})=n$. $\\textit{Rank}$ é igual ao posto de uma \n",
        "matriz, que representa o número de colunas ou linhas linearmente \n",
        "independentes da matriz.\n"
      ]
    },
    {
      "cell_type": "markdown",
      "metadata": {
        "id": "YylWMKXQuwc0"
      },
      "source": [
        "## **Observabilidade**"
      ]
    },
    {
      "cell_type": "markdown",
      "metadata": {
        "id": "_vspud56uz-7"
      },
      "source": [
        "Um sistema LIT é observável se qualquer condição inicial \n",
        "$\\textbf{x}(0)$ pode ser obtida conhecendo-se as entradas $\\textbf{u}(t)$ e as \n",
        "saídas $\\textbf{y}(t)$ do sistema para todo instante de tempo $t$ entre 0 e \n",
        "$T > 0$."
      ]
    },
    {
      "cell_type": "markdown",
      "metadata": {
        "id": "T69VRcsLu1gm"
      },
      "source": [
        "Se a condição inicial dos estados $\\textbf{x}(0)$ pode ser calculada, então se pode reconstruir o vetor de estados $\\textbf{x}(t)$ em qualquer instante de tempo. Note que se conhecendo a condição inicial $\\textbf{x}(0)$ e o vetor de entradas $\\textbf{u}(t)$ a todo instante, então se pode calcular $\\textbf{x}(t)$ em qualquer instante de tempo $t$.\n",
        "\n",
        "Para estudar observabilidade basta considerar o caso de u(t) = 0, ou seja, a solução homogênea, assim:\n",
        "\n",
        "\n",
        "\\begin{equation}\n",
        "{\\rm {\\bf y}}(t)={\\rm {\\bf C}}e^{{\\rm {\\bf A}}t}{\\rm {\\bf x}}(0).\n",
        "\\end{equation}\n",
        "\n",
        "**A observabilidade está associada à capacidade de \"ver\" todos os estados por meio das saídas do sistema.**\n"
      ]
    },
    {
      "cell_type": "markdown",
      "metadata": {
        "id": "rBG-rBrtu6bb"
      },
      "source": [
        "Seja um sistema de ordem $n$, com o vetor de entradas $\\textbf{u}(t)$ = 0, \n",
        "então tem-se:\n",
        "\n",
        "\\begin{equation}\n",
        "\\left\\{ {\\begin{array}{l}\n",
        " {\\rm {\\bf \\dot {x}}}(t)={\\rm {\\bf Ax}}(t); \\\\ \n",
        " {\\rm {\\bf y}}(t)={\\rm {\\bf Cx}}(t); \\\\ \n",
        " \\end{array}} \\right.,\n",
        "\\end{equation}\n",
        "\n",
        "onde $\\textbf{x}(t) \\in R^{n}$ e $\\textbf{y}(t) \\in  R^{p}$. Observe que \n",
        "para um sistema ser observável basta analisar o par de matrizes \n",
        "$\\textbf{A}$ e $\\textbf{C}$."
      ]
    },
    {
      "cell_type": "markdown",
      "metadata": {
        "id": "kXeKw3WHvB4G"
      },
      "source": [
        "Definindo a matriz de observabilidade $\\textbf{M}_{O}$:\n",
        "\n",
        "\\begin{equation}\n",
        "{\\rm {\\bf M}}_{\\rm {\\bf O}} =\\left[ {\\begin{array}{l}\n",
        " {\\rm {\\bf C}} \\\\ \n",
        " {\\rm {\\bf CA}} \\\\ \n",
        " {\\rm {\\bf CA}}^2 \\\\ \n",
        " \\vdots \\\\ \n",
        " {\\rm {\\bf CA}}^{n-1} \\\\ \n",
        " \\end{array}} \\right].\n",
        "\\end{equation}\n",
        "\n",
        "O sistema definido pelas matrizes ($\\textbf{A}, \\textbf{C}$) é \n",
        "observável se $ rank(\\textbf{M}_{O})=n$."
      ]
    },
    {
      "cell_type": "code",
      "metadata": {
        "colab": {
          "base_uri": "https://localhost:8080/"
        },
        "id": "xt4OD4Vb5BFq",
        "outputId": "2e58915f-99b8-4428-b810-3b3e57831ab5"
      },
      "source": [
        "Observabilidade = control.obsv(A, C)\n",
        "npl.matrix_rank(Observabilidade)"
      ],
      "execution_count": null,
      "outputs": [
        {
          "output_type": "execute_result",
          "data": {
            "text/plain": [
              "2"
            ]
          },
          "metadata": {
            "tags": []
          },
          "execution_count": 23
        }
      ]
    },
    {
      "cell_type": "code",
      "metadata": {
        "colab": {
          "base_uri": "https://localhost:8080/"
        },
        "id": "WxBcQp_kEIvg",
        "outputId": "4e6a72a2-9368-47ac-97b7-27d7cbb4b563"
      },
      "source": [
        " ###################################################################################################\n",
        "# Controlabilidade \n",
        "\n",
        " Controlabilidade = control.ctrb(A, B)\n",
        " npl.matrix_rank(Controlabilidade)"
      ],
      "execution_count": null,
      "outputs": [
        {
          "output_type": "execute_result",
          "data": {
            "text/plain": [
              "2"
            ]
          },
          "metadata": {
            "tags": []
          },
          "execution_count": 24
        }
      ]
    },
    {
      "cell_type": "code",
      "metadata": {
        "colab": {
          "base_uri": "https://localhost:8080/"
        },
        "id": "4eH64-Xm6Rpq",
        "outputId": "2bda875b-ea2f-42e3-8dc0-d0bd1f685408"
      },
      "source": [
        "###################################################################################################\n",
        "# Analisando os polos e zeros do sistema\n",
        "\n",
        "control.pole(Sistema)\n",
        "control.zero(Sistema)\n",
        "control.damp(Sistema)"
      ],
      "execution_count": null,
      "outputs": [
        {
          "output_type": "stream",
          "text": [
            "_____Eigenvalue______ Damping___ Frequency_\n",
            "         0   +0.6676j         -0     0.6676\n",
            "         0   -0.6676j         -0     0.6676\n"
          ],
          "name": "stdout"
        },
        {
          "output_type": "execute_result",
          "data": {
            "text/plain": [
              "(array([0.6675973, 0.6675973]),\n",
              " array([-0., -0.]),\n",
              " array([0.+0.6675973j, 0.-0.6675973j]))"
            ]
          },
          "metadata": {
            "tags": []
          },
          "execution_count": 59
        }
      ]
    },
    {
      "cell_type": "code",
      "metadata": {
        "colab": {
          "base_uri": "https://localhost:8080/"
        },
        "id": "UDBQP6xE6CCQ",
        "outputId": "ca0f4a59-26f5-44b3-d613-d55f4b8a923d"
      },
      "source": [
        "espaco_estados.A,  espaco_estados.B"
      ],
      "execution_count": null,
      "outputs": [
        {
          "output_type": "execute_result",
          "data": {
            "text/plain": [
              "(array([[ 0.        , -0.83494638],\n",
              "        [ 0.53379015,  0.        ]]), array([[33.63735307],\n",
              "        [ 0.        ]]))"
            ]
          },
          "metadata": {
            "tags": []
          },
          "execution_count": 25
        }
      ]
    },
    {
      "cell_type": "code",
      "metadata": {
        "id": "iyuuk5bitPT2"
      },
      "source": [
        "###################################################################################################\n",
        "# Projeto de controle\n",
        "\n",
        "### Amf = A - BK _ A é conhecida e B é conhecida - modelo\n",
        "### Amf também é conhecido --> ganho K\n",
        "\n",
        "A, B = espaco_estados.A, espaco_estados.B\n",
        "\n",
        "### Projeto de controle\n",
        "\n",
        "K = control.place(espaco_estados.A, espaco_estados.B, [-0.5, -0.25]) ### --> LQR - regulador linear quadrátivo\n",
        "\n",
        "### Projeto de controle\n",
        "\n",
        "C = np.array([[0, 1]])                # saída regulada --> C = [[1, 0][0 1]] duas saídas\n",
        "kf = -1/(C @ np.linalg.inv(A - B @ K) @ B)"
      ],
      "execution_count": null,
      "outputs": []
    },
    {
      "cell_type": "code",
      "metadata": {
        "colab": {
          "base_uri": "https://localhost:8080/"
        },
        "id": "pYyN0xHzhle3",
        "outputId": "9ed43601-62d5-4b4c-9173-059ce1b22763"
      },
      "source": [
        "K ### multiplicativo - ganho 0.08918657*presas + 0.0865658* predadores - lei de controle"
      ],
      "execution_count": null,
      "outputs": [
        {
          "output_type": "execute_result",
          "data": {
            "text/plain": [
              "array([[ 0.02229664, -0.01786026]])"
            ]
          },
          "metadata": {
            "tags": []
          },
          "execution_count": 81
        }
      ]
    },
    {
      "cell_type": "code",
      "metadata": {
        "colab": {
          "base_uri": "https://localhost:8080/"
        },
        "id": "VyTLt9RkkIvI",
        "outputId": "560869f1-2548-42a2-a70a-d3ab1aecb85e"
      },
      "source": [
        "kf ### \"normaliza\" a relação saída / entrada"
      ],
      "execution_count": null,
      "outputs": [
        {
          "output_type": "execute_result",
          "data": {
            "text/plain": [
              "array([[0.00696174]])"
            ]
          },
          "metadata": {
            "tags": []
          },
          "execution_count": 82
        }
      ]
    },
    {
      "cell_type": "code",
      "metadata": {
        "id": "_1K_Fd_eCr63"
      },
      "source": [
        "K = K1a"
      ],
      "execution_count": null,
      "outputs": []
    },
    {
      "cell_type": "code",
      "metadata": {
        "id": "XS_uPj7PtS2W"
      },
      "source": [
        "###################################################################################################\n",
        "# Criando o controlador - control.y[0] - bloco do controle\n",
        "\n",
        "io_controller = control.NonlinearIOSystem(\n",
        "  None,\n",
        "  lambda t, x, u, params: -K @ (u[1:] - xe) + kf * (u[0] - xe[1]),\n",
        "  inputs=('Ld', 'u1', 'u2'), outputs=1, name='control')"
      ],
      "execution_count": null,
      "outputs": []
    },
    {
      "cell_type": "code",
      "metadata": {
        "id": "gZx6WolcteEt"
      },
      "source": [
        "###################################################################################################\n",
        "# Fechando a malha de controle\n",
        "\n",
        "# Conectar blocos de código\n",
        "\n",
        "io_malhafechada = control.InterconnectedSystem(\n",
        "  (io_presapredador, io_controller),       # sistemas\n",
        "  connections=(\n",
        "    ('presapreda.u', 'control.y[0]'),\n",
        "    ('control.u1',  'presapreda.H'),\n",
        "    ('control.u2',  'presapreda.L')\n",
        "  ),\n",
        "  inplist=('control.Ld'),\n",
        "  outlist=('presapreda.H', 'presapreda.L', 'control.y[0]')\n",
        ")"
      ],
      "execution_count": null,
      "outputs": []
    },
    {
      "cell_type": "code",
      "metadata": {
        "colab": {
          "base_uri": "https://localhost:8080/",
          "height": 516
        },
        "id": "d8MLyuW3ttWI",
        "outputId": "48af9a6f-4999-4079-d9c4-8d7d76792c21"
      },
      "source": [
        "###################################################################################################\n",
        "# Simulando o sistema\n",
        "\n",
        "t, y = control.input_output_response(io_malhafechada, T, 30, [15, 20])\n",
        "\n",
        "# Visualizando o resultado\n",
        "\n",
        "plt.figure(figsize=(15,7))\n",
        "plt.subplot(2, 1, 1)\n",
        "plt.plot(t, y[0])\n",
        "plt.plot(t, y[1])\n",
        "plt.legend(['Presa', 'Predador'])\n",
        "plt.subplot(2, 1, 2)\n",
        "plt.plot(t, y[2])\n",
        "plt.legend(['Entrada'])\n",
        "plt.show(block=False)"
      ],
      "execution_count": null,
      "outputs": [
        {
          "output_type": "stream",
          "text": [
            "/usr/local/lib/python3.7/dist-packages/control/iosys.py:931: VisibleDeprecationWarning:\n",
            "\n",
            "Creating an ndarray from ragged nested sequences (which is a list-or-tuple of lists-or-tuples-or ndarrays with different lengths or shapes) is deprecated. If you meant to do this, you must specify 'dtype=object' when creating the ndarray\n",
            "\n"
          ],
          "name": "stderr"
        },
        {
          "output_type": "display_data",
          "data": {
            "image/png": "[encoded data removed]",
            "text/plain": [
              "<Figure size 1080x504 with 2 Axes>"
            ]
          },
          "metadata": {
            "tags": [],
            "needs_background": "light"
          }
        }
      ]
    },
    {
      "cell_type": "code",
      "metadata": {
        "id": "UPn-EBjgB-0x"
      },
      "source": [
        "[u1 u2] * u1 u2].T = u1*u1+u2*u2 = u1^2 + u2^2"
      ],
      "execution_count": null,
      "outputs": []
    },
    {
      "cell_type": "markdown",
      "metadata": {
        "id": "mWHeE3_eBFUR"
      },
      "source": [
        "\\begin{equation}\n",
        "J = \\int_0^{t_f} x(t)^TQ_{x1}x(t) + u(t)^TQ_{u1a}u(t) dt\n",
        "\\end{equation}"
      ]
    },
    {
      "cell_type": "code",
      "metadata": {
        "id": "RU1l0MVT_bjU"
      },
      "source": [
        "Qx1 = np.diag([0.01, 0.01])\n",
        "Qu1a = np.diag([1])\n",
        "K, X, E = control.lqr(A, B, Qx1, Qu1a)\n",
        "K1a = np.matrix(K)"
      ],
      "execution_count": null,
      "outputs": []
    },
    {
      "cell_type": "code",
      "metadata": {
        "colab": {
          "base_uri": "https://localhost:8080/"
        },
        "id": "ugVMvocRCl7V",
        "outputId": "7200db6b-e09c-4b2e-ea37-01970dc98b3b"
      },
      "source": [
        "K1a"
      ],
      "execution_count": null,
      "outputs": [
        {
          "output_type": "execute_result",
          "data": {
            "text/plain": [
              "matrix([[0.11172425, 0.07821261]])"
            ]
          },
          "metadata": {
            "tags": []
          },
          "execution_count": 102
        }
      ]
    },
    {
      "cell_type": "markdown",
      "metadata": {
        "id": "b-mMFpI9PWd1"
      },
      "source": [
        "# **Projeto com observador de estados**"
      ]
    },
    {
      "cell_type": "markdown",
      "metadata": {
        "id": "aelOMHnSPdPT"
      },
      "source": [
        "## **Exemplo de diagrama em blocos**"
      ]
    },
    {
      "cell_type": "code",
      "metadata": {
        "id": "T1F1KC8zTcaO"
      },
      "source": [
        "P = control.tf2io(control.tf(1, [1, 0]), inputs='u', outputs='y')\n",
        "C = control.tf2io(control.tf(10, [1, 1]), inputs='e', outputs='u')\n",
        "sumblk = control.summing_junction(inputs=['r', '-y'], output='e')\n",
        "T = control.interconnect([P, C, sumblk], inplist='r', outlist='y')"
      ],
      "execution_count": null,
      "outputs": []
    },
    {
      "cell_type": "code",
      "metadata": {
        "colab": {
          "base_uri": "https://localhost:8080/"
        },
        "id": "tgVx2I2RTh08",
        "outputId": "d9f89650-cfcb-4cd5-81a0-ebe4b4b2a569"
      },
      "source": [
        "###################################################################################################\n",
        "# Testando o modelo em simulação\n",
        "\n",
        "###################################################################################################\n",
        "# Simulação\n",
        "\n",
        "# syntaxe : t, y = input_output_response(io_sys, T, U, X0, params)\n",
        "\n",
        "t, saida = control.impulse_response(T)\n",
        "\n",
        "plt.figure(figsize=(15,7))\n",
        "plt.plot(t,saida) # Linces\n",
        "plt.show()"
      ],
      "execution_count": null,
      "outputs": [
        {
          "output_type": "display_data",
          "data": {
            "image/png": "[encoded data removed]",
            "text/plain": [
              "<Figure size 1080x504 with 1 Axes>"
            ]
          },
          "metadata": {
            "tags": [],
            "needs_background": "light"
          }
        }
      ]
    },
    {
      "cell_type": "markdown",
      "metadata": {
        "id": "na4KoGLZu14w"
      },
      "source": [
        "# **Sintonia dos coeficientes**"
      ]
    },
    {
      "cell_type": "code",
      "metadata": {
        "id": "LrRvU8hiwQ3x"
      },
      "source": [
        "###################################################################################################\n",
        "# Modifica o modelo - generalizando\n",
        "\n",
        "def presa_predador(t,x,u,parametros):\n",
        "  \"\"\" cria o modelo não linear do fenômeno\"\"\"\n",
        "\n",
        "  # Parâmetros iniciais\n",
        "  a = parametros.get('a')\n",
        "  b = parametros.get('b')\n",
        "  c = parametros.get('c')\n",
        "  d = parametros.get('d')\n",
        "  u_0 = 0\n",
        "\n",
        "  # Iniciar os valores de lebres e linces - x_o =[xo1 xo2].T\n",
        "  H = x[0];\n",
        "  L = x[1];\n",
        "\n",
        "  # entrada do sistema - adicionar comida - nunca retirar\n",
        "  u = u_0 if u > 0 else 0 \n",
        "\n",
        "  # determinar as equações\n",
        "  dH = (a + u)*H -b*H*L\n",
        "  dL = -c*L + d*H*L\n",
        "\n",
        "  return [dH,dL]"
      ],
      "execution_count": null,
      "outputs": []
    },
    {
      "cell_type": "code",
      "metadata": {
        "id": "nDsvcPDwwz8q"
      },
      "source": [
        "###################################################################################################\n",
        "# Cria o subsistema correspondente\n",
        "\n",
        "# Syntaxe: io_sys = NonlinearIOSystem(updfcn, outfcn, inputs=M, outputs=P, states=N)\n",
        "\n",
        "io_modelo = control.NonlinearIOSystem(\n",
        "    presa_predador, None, inputs=('u'), outputs=('H', 'L'),\n",
        "    states=('H', 'L'), params={}, name='modeloPP')"
      ],
      "execution_count": null,
      "outputs": []
    },
    {
      "cell_type": "code",
      "metadata": {
        "colab": {
          "base_uri": "https://localhost:8080/",
          "height": 428
        },
        "id": "hHl_rjgMyyt7",
        "outputId": "7efa6189-c095-4bab-82dc-7a42d18bc0a0"
      },
      "source": [
        "###################################################################################################\n",
        "# Testando o modelo em simulação\n",
        "\n",
        "###################################################################################################\n",
        "# Simulação\n",
        "\n",
        "x0 = [34.9134,3.8566] \n",
        "\n",
        "# Cálculo no tempo\n",
        "\n",
        "parametros = {'a':0.48069,'b':0.024822,'c':0.92718,'d':0.027564}\n",
        "\n",
        "# syntaxe : t, y = input_output_response(io_sys, T, U, X0, params)\n",
        "\n",
        "t, saida = control.input_output_response(io_modelo, np.linspace(0,20,240), 0, x0,parametros)\n",
        "\n",
        "plt.figure(figsize=(15,7))\n",
        "plt.plot(t,saida[1]) # Lebres\n",
        "plt.plot(t,saida[0]) # Linces\n",
        "plt.show()"
      ],
      "execution_count": null,
      "outputs": [
        {
          "output_type": "display_data",
          "data": {
            "image/png": "[encoded data removed]",
            "text/plain": [
              "<Figure size 1080x504 with 1 Axes>"
            ]
          },
          "metadata": {
            "tags": [],
            "needs_background": "light"
          }
        }
      ]
    },
    {
      "cell_type": "markdown",
      "metadata": {
        "id": "s6Jp01u09bAU"
      },
      "source": [
        "Para estimarmos os parâmetros do modelo , vamos utilizar  inicialmente o método de mínimos quadrados. Podemos então formular o problema a partir da Equação abaixo. Na Equação $y_m(k)$ representa o dado real em cada amostra $k$; $y_s(\\theta,k)$ representa o **valor estimado** a partir da simulação do modelo para uma determinada amostra $k$ e $\\theta$ representa o vetor ed parâmetros $\\theta = [ \\alpha \\; \\; \\beta \\; \\; \\gamma \\; \\; \\delta \\; \\; x(0) \\; \\; x(1) ]^T$. \n",
        "\n",
        "$$ min_{\\theta}= \\sum_{k=1}^{K}(y_m(k) - y_s(\\theta,k))^2 $$\n",
        "\n",
        "A equação formula a pergunta: quais os valores de  $\\alpha \\; \\; \\beta \\; \\; \\gamma \\; \\; \\delta \\; \\; x(0) \\; \\; x(1) $ que minizam o erro quadrático quando comparados com os dados reais."
      ]
    },
    {
      "cell_type": "code",
      "metadata": {
        "id": "Idt3zFmHib9d"
      },
      "source": [
        "Hn = np.array(hare)\n",
        "Ln = np.array(lynx)\n",
        "tn = np.linspace(0,240,21)"
      ],
      "execution_count": null,
      "outputs": []
    },
    {
      "cell_type": "code",
      "metadata": {
        "id": "Ecl6L5Ekw8iU"
      },
      "source": [
        "\n",
        "###################################################################################################\n",
        "# Determina a função mérito\n",
        "\n",
        "def ErroQuadratico(Hn,Ln,tn,x0,u,parametros):\n",
        "    \"\"\" function to pass to scipy.optimize.fmin\n",
        "        The routine will square and sum the values returned by \n",
        "        this function\"\"\" \n",
        "    t, y = control.input_output_response(io_modelo, tn, u, x0,parametros)\n",
        "    erroH = y[0] - Hn\n",
        "    erroL = y[1] - Ln\n",
        "    EQ = np.sum((np.concatenate([erroH,erroL])**2))\n",
        "    return EQ\n",
        "\n",
        "def objetivo(p):\n",
        "  parametros = {'a':p[0],'b':p[1],'c':p[2],'d':p[3]}\n",
        "  xi = [p[4],p[5]]\n",
        "  return ErroQuadratico(np.array(Hn),np.array(Ln),np.array(tn),xi,0,parametros)"
      ],
      "execution_count": null,
      "outputs": []
    },
    {
      "cell_type": "code",
      "metadata": {
        "colab": {
          "base_uri": "https://localhost:8080/"
        },
        "id": "e5nF-lCK6P1K",
        "outputId": "70e5e60c-c36e-45aa-f82f-ebe574331dbd"
      },
      "source": [
        "import scipy.optimize\n",
        "\n",
        "x0=[0.453,0.0205,0.79,0.0229,34.6,22.1]\n",
        "\n",
        "xopt = scipy.optimize.fmin(func=objetivo, x0=[0.453,0.0205,0.79,0.0229,34.6,22.1])"
      ],
      "execution_count": null,
      "outputs": [
        {
          "output_type": "stream",
          "text": [
            "Optimization terminated successfully.\n",
            "         Current function value: 12645.076218\n",
            "         Iterations: 476\n",
            "         Function evaluations: 837\n"
          ],
          "name": "stdout"
        }
      ]
    },
    {
      "cell_type": "code",
      "metadata": {
        "colab": {
          "base_uri": "https://localhost:8080/"
        },
        "id": "qgM2DzJl7RlK",
        "outputId": "bd5ac1d6-5f9d-46ed-ccde-afbc4b6ac2cb"
      },
      "source": [
        "xopt"
      ],
      "execution_count": null,
      "outputs": [
        {
          "output_type": "execute_result",
          "data": {
            "text/plain": [
              "array([4.69917095e-01, 2.14205672e-02, 8.43250478e-01, 2.21723066e-02,\n",
              "       2.92674851e+01, 2.50110889e+01])"
            ]
          },
          "metadata": {
            "tags": []
          },
          "execution_count": 35
        }
      ]
    },
    {
      "cell_type": "markdown",
      "metadata": {
        "id": "XBITe1hJoy6t"
      },
      "source": [
        "#**Referências**"
      ]
    },
    {
      "cell_type": "markdown",
      "metadata": {
        "id": "Rrs5KO32o2YB"
      },
      "source": [
        "https://python-control.readthedocs.io/_/downloads/en/0.9.0/pdf/"
      ]
    },
    {
      "cell_type": "markdown",
      "metadata": {
        "id": "HabhACM5wCWc"
      },
      "source": [
        "https://stackoverflow.com/questions/19070943/numpy-scipy-analog-of-matlabs-fminsearch"
      ]
    },
    {
      "cell_type": "markdown",
      "metadata": {
        "id": "H0ZzfEm-K1b2"
      },
      "source": [
        "https://jmahaffy.sdsu.edu/courses/f17/math636/beamer/lotvol-04.pdf"
      ]
    },
    {
      "cell_type": "markdown",
      "metadata": {
        "id": "KYn7jsccysXm"
      },
      "source": [
        "https://python-control.readthedocs.io/en/0.8.3/iosys.html"
      ]
    }
  ]
}